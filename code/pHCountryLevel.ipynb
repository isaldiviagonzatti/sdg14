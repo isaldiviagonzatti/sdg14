{
 "cells": [
  {
   "cell_type": "code",
   "execution_count": 2,
   "metadata": {},
   "outputs": [],
   "source": [
    "import geopandas as gpd"
   ]
  },
  {
   "cell_type": "code",
   "execution_count": 3,
   "metadata": {},
   "outputs": [],
   "source": [
    "# https://www.marineregions.org/downloads.php\n",
    "# https://ows.emodnet-humanactivities.eu/geonetwork/srv/eng/catalog.search#/metadata/d4a3fede-b0aa-485e-b4b2-77e8e3801fd0\n",
    "\n",
    "eez = gpd.read_file('../data/EMODnet_HA_OtherManagementAreas_EEZ_v11_20210506/EMODnet_HA_OtherManagementAreas_EEZ_v11_20210506.shp')"
   ]
  },
  {
   "cell_type": "code",
   "execution_count": 8,
   "metadata": {},
   "outputs": [],
   "source": [
    "countries = ['Belgium',\n",
    "'Germany',\n",
    "'Denmark',\n",
    "'Estonia',\n",
    "'Spain',\n",
    "'Finland',\n",
    "'France',\n",
    "'Ireland',\n",
    "'Lithuania',\n",
    "'Latvia',\n",
    "'Netherlands',\n",
    "'Poland',\n",
    "'Portugal',\n",
    "'Sweden',\n",
    "'United Kingdom']"
   ]
  },
  {
   "cell_type": "code",
   "execution_count": 13,
   "metadata": {},
   "outputs": [],
   "source": [
    "eezSDG14 = eez[eez.Territory.isin(countries)]"
   ]
  },
  {
   "cell_type": "code",
   "execution_count": 21,
   "metadata": {},
   "outputs": [
    {
     "data": {
      "text/plain": [
       "(-17.073890430099198,\n",
       " 33.877599219328545,\n",
       " 29.208985437228193,\n",
       " 68.08058834047961)"
      ]
     },
     "execution_count": 21,
     "metadata": {},
     "output_type": "execute_result"
    }
   ],
   "source": [
    "# we increase by one degree to be safe\n",
    "boundsEEZ = (eezSDG14.total_bounds[0]-1, eezSDG14.total_bounds[1]-1, eezSDG14.total_bounds[2]+1, eezSDG14.total_bounds[3]+1)\n",
    "boundsEEZ"
   ]
  },
  {
   "cell_type": "code",
   "execution_count": null,
   "metadata": {},
   "outputs": [],
   "source": [
    "python -m motuclient --motu https://my.cmems-du.eu/motu-web/Motu --service-id MULTIOBS_GLO_BIO_CARBON_SURFACE_REP_015_008-TDS --product-id dataset-carbon-rep-monthly --longitude-min -17.073890430099198 --longitude-max 29.208985437228193 --latitude-min 33.877599219328545 --latitude-max 68.08058834047961 --date-min \"2012-01-01 00:00:00\" --date-max \"2012-12-31 23:59:59\" --variable ph --out-dir <OUTPUT_DIRECTORY> --out-name <OUTPUT_FILENAME> --user <USERNAME> --pwd <PASSWORD>"
   ]
  }
 ],
 "metadata": {
  "kernelspec": {
   "display_name": "geoanalysis",
   "language": "python",
   "name": "python3"
  },
  "language_info": {
   "codemirror_mode": {
    "name": "ipython",
    "version": 3
   },
   "file_extension": ".py",
   "mimetype": "text/x-python",
   "name": "python",
   "nbconvert_exporter": "python",
   "pygments_lexer": "ipython3",
   "version": "3.11.4"
  },
  "orig_nbformat": 4
 },
 "nbformat": 4,
 "nbformat_minor": 2
}
