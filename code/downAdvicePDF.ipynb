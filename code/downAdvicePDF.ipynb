{
 "cells": [
  {
   "attachments": {},
   "cell_type": "markdown",
   "metadata": {},
   "source": [
    "#### Script to download PDFs with ICES latest advice. Note the following caveats:\n",
    "\n",
    "Some PDFs are not named exactly as the fish stock, they have a -1 or a (1) at the end of the name\n",
    "\n",
    "There are some PDFs that are Replaced. It seems the link hasn't been updated on the dataset yet\n",
    "\n",
    "Finally, some species in the dataset have no link to the pdf, it must be searched manually"
   ]
  },
  {
   "cell_type": "code",
   "execution_count": 1,
   "metadata": {},
   "outputs": [],
   "source": [
    "import pandas as pd\n",
    "import requests\n",
    "from bs4 import BeautifulSoup\n",
    "import os\n",
    "import webbrowser\n",
    "import time"
   ]
  },
  {
   "cell_type": "code",
   "execution_count": 2,
   "metadata": {},
   "outputs": [],
   "source": [
    "# we define the stocks we are interested in\n",
    "stockW = ['cod.27.47d20',\n",
    " 'bss.27.4bc7ad-h',\n",
    " 'ghl.27.561214',\n",
    " 'hke.27.8c9a',\n",
    " 'meg.27.7b-k8abd',\n",
    " 'hke.27.3a46-8abd',\n",
    " 'mac.27.nea',\n",
    " 'san.sa.3r',\n",
    " 'sol.27.7d',\n",
    " 'whg.27.47d',\n",
    " 'pok.27.1-2',\n",
    " 'cod.2127.1f14',\n",
    " 'sol.27.20-24',\n",
    " 'cod.21.1a-e',\n",
    " 'her.27.3a47d',\n",
    " 'nop.27.3a4',\n",
    " 'cod.27.7e-k',\n",
    " 'lin.27.5a',\n",
    " 'her.27.irls',\n",
    " 'her.27.25-2932',\n",
    " 'ple.27.420',\n",
    " 'had.27.7b-k',\n",
    " 'ple.27.7d',\n",
    " 'ple.27.7a',\n",
    " 'spr.27.3a4',\n",
    " 'had.27.7a',\n",
    " 'spr.27.22-32',\n",
    " 'had.27.5a',\n",
    " 'san.sa.1r',\n",
    " 'her.27.3031',\n",
    " 'reb.27.1-2',\n",
    " 'pok.27.3a46',\n",
    " 'her.27.1-24a514a',\n",
    " 'sol.27.8ab',\n",
    " 'mon.27.78abd',\n",
    " 'bss.27.8ab',\n",
    " 'sol.27.7e',\n",
    " 'lez.27.4a6a',\n",
    " 'reg.27.1-2',\n",
    " 'ldb.27.8c9a',\n",
    " 'san.sa.4',\n",
    " 'whg.27.6a',\n",
    " 'cod.27.21',\n",
    " 'cod.27.7a',\n",
    " 'had.27.46a20',\n",
    " 'lez.27.6b',\n",
    " 'hom.27.2a4a5b6a7a-ce-k8',\n",
    " 'ple.27.21-23',\n",
    " 'cod.27.5a',\n",
    " 'cap.27.1-2',\n",
    " 'cod.27.22-24',\n",
    " 'pok.27.5a',\n",
    " 'cod.27.1-2',\n",
    " 'whg.27.7b-ce-k',\n",
    " 'pra.27.3a4a',\n",
    " 'mon.27.8c9a',\n",
    " 'reb.27.1-2',\n",
    " 'sol.27.7fg',\n",
    " 'whb.27.1-91214',\n",
    " 'usk.27.5a14',\n",
    " 'her.27.5a',\n",
    " 'her.27.6a7bc',\n",
    " 'had.27.6b',\n",
    " 'sol.27.4',\n",
    " 'san.sa.2r',\n",
    " 'had.27.1-2',\n",
    " 'her.27.28',\n",
    " 'hom.27.9a',\n",
    " 'sol.27.7a',\n",
    " 'bli.27.5b67',\n",
    " 'reg.27.561214',\n",
    " 'meg.27.8c9a',\n",
    " 'cod.27.6a',\n",
    " 'her.27.20-24',\n",
    " 'pra.27.1-2',\n",
    " 'ple.27.7fg',\n",
    " 'her.27.nirs'\n",
    " ]"
   ]
  },
  {
   "cell_type": "code",
   "execution_count": 3,
   "metadata": {},
   "outputs": [
    {
     "name": "stderr",
     "output_type": "stream",
     "text": [
      "/tmp/ipykernel_54146/2940820127.py:2: DtypeWarning: Columns (0,1,3,4,6,10,12,13,14,17,18,19,20,21,22,23,27,28,29,30,31,32,33,34,35,36,39,40,41,42,43,44,45,46,47,48,49,50,51,52,54,56,57,58,59,60,62,65,66,68,69,70,71,72,73,74,75,76,79,82,85,88,91,94,97,100,103,106,107,108,109,110,111,112,113,114,115,116,117,118,119,120,121,122,123,124,125,126,127,128,129,130,131,132,133,134,135,137) have mixed types. Specify dtype option on import or set low_memory=False.\n",
      "  stockA = pd.read_csv(\"../data/stockAssesment2022/StockAssessment.csv\",  names=range(138))\n"
     ]
    }
   ],
   "source": [
    "# load the stock assessment dataset from where we get the links to the advice\n",
    "stockA = pd.read_csv(\"../data/stockAssesment2022/StockAssessment.csv\",  names=range(138))\n",
    "stockA.columns = stockA.iloc[0,:]\n",
    "stockA = stockA[1:]\n",
    "stockA = stockA[stockA.FishStock.isin(stockW)]\n",
    "stockA = stockA[stockA.Purpose != 'Replaced']\n",
    "stockA.drop_duplicates(subset=['Report'], inplace=True, keep='last')"
   ]
  },
  {
   "cell_type": "code",
   "execution_count": 7,
   "metadata": {},
   "outputs": [
    {
     "data": {
      "text/plain": [
       "40    https://doi.org/10.17895/ices.advice.10000\n",
       "80    https://doi.org/10.17895/ices.advice.10001\n",
       "Name: Report, dtype: object"
      ]
     },
     "execution_count": 7,
     "metadata": {},
     "output_type": "execute_result"
    }
   ],
   "source": [
    "stockA.Report[:2]"
   ]
  },
  {
   "cell_type": "code",
   "execution_count": 170,
   "metadata": {},
   "outputs": [
    {
     "name": "stdout",
     "output_type": "stream",
     "text": [
      "Wall time: 2.51 s\n"
     ]
    }
   ],
   "source": [
    "%%time\n",
    "stockA['urlDown'] = ''\n",
    "# go through the links and get the pdf links identified by ndownloader\n",
    "for url in stockA.Report[:2]:\n",
    "    if 'http' in str(url):\n",
    "        reqs = requests.get(url)\n",
    "        soup = BeautifulSoup(reqs.text, 'html.parser')\n",
    "        for link in soup.find_all('a'):\n",
    "            if 'ndownloader' in link.get('href'):\n",
    "                stockA.urlDown[stockA.Report == url] = link.get('href')"
   ]
  },
  {
   "cell_type": "code",
   "execution_count": 9,
   "metadata": {},
   "outputs": [],
   "source": [
    "# stockDown.to_csv('../data/stockAssesment2022/StockDown.csv', index=False)\n",
    "stockDown = pd.read_csv('../data/stockAssesment2022/StockDown.csv')\n",
    "\n",
    "# read the names of the files already downloaded without extension\n",
    "downloaded = [os.path.splitext(filename)[0] for filename \\\n",
    "              in os.listdir(\"../data/pdfsICES/\")]"
   ]
  },
  {
   "cell_type": "code",
   "execution_count": 15,
   "metadata": {},
   "outputs": [
    {
     "name": "stdout",
     "output_type": "stream",
     "text": [
      "ple.27.420\n",
      "had.27.46a20\n",
      "meg.27.7b-k8abd\n"
     ]
    }
   ],
   "source": [
    "# check what stocks missing in folder\n",
    "downList = []\n",
    "for stock in list(set(stockDown.FishStock)):\n",
    "        if stock not in downloaded:\n",
    "                downList.append(stockDown.urlDown[stockDown.FishStock == stock].values[0])\n",
    "                print(stock)"
   ]
  },
  {
   "cell_type": "code",
   "execution_count": 17,
   "metadata": {},
   "outputs": [],
   "source": [
    "for i in downList:\n",
    "    webbrowser.open_new_tab(i)\n",
    "    time.sleep(6)"
   ]
  }
 ],
 "metadata": {
  "kernelspec": {
   "display_name": "newbase",
   "language": "python",
   "name": "python3"
  },
  "language_info": {
   "codemirror_mode": {
    "name": "ipython",
    "version": 3
   },
   "file_extension": ".py",
   "mimetype": "text/x-python",
   "name": "python",
   "nbconvert_exporter": "python",
   "pygments_lexer": "ipython3",
   "version": "3.8.0"
  },
  "orig_nbformat": 4
 },
 "nbformat": 4,
 "nbformat_minor": 2
}
