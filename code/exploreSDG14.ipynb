{
 "cells": [
  {
   "cell_type": "raw",
   "metadata": {},
   "source": [
    "---\n",
    "title: \"SDG14\"\n",
    "author: \"Ignacio Saldivia Gonzatti\"\n",
    "date: \"2/07/2023\"\n",
    "format: \n",
    "  html:\n",
    "    embed-resources: true\n",
    "    theme:\n",
    "              light: flatly\n",
    "              dark: darkly\n",
    "    toc: true\n",
    "    code-fold: true\n",
    "    output-dir: ../output\n",
    "  pdf:\n",
    "   echo: false \n",
    "   output-dir: ../output\n",
    "execute:\n",
    "  warning: false\n",
    "  enabled: false\n",
    "jupyter: python3\n",
    "---"
   ]
  },
  {
   "attachments": {},
   "cell_type": "markdown",
   "metadata": {},
   "source": [
    "TODO:\n",
    "\n",
    "Change negative values used in minmax to 0\n"
   ]
  },
  {
   "attachments": {},
   "cell_type": "markdown",
   "metadata": {},
   "source": [
    "Import packages and set things up\n"
   ]
  },
  {
   "cell_type": "code",
   "execution_count": 58,
   "metadata": {},
   "outputs": [],
   "source": [
    "import numpy as np\n",
    "import pandas as pd\n",
    "import os\n",
    "import csv\n",
    "import composite as ci\n",
    "import inspect\n",
    "from functools import reduce\n",
    "import plotly.express as px\n",
    "\n",
    "# from xml.etree import ElementTree as ET\n",
    "# import requests\n",
    "# import json\n",
    "# import webbrowser"
   ]
  },
  {
   "cell_type": "code",
   "execution_count": 2,
   "metadata": {},
   "outputs": [],
   "source": [
    "# show all output from cells\n",
    "from IPython.core.interactiveshell import InteractiveShell\n",
    "\n",
    "InteractiveShell.ast_node_interactivity = \"all\"  # last_expr"
   ]
  },
  {
   "cell_type": "code",
   "execution_count": 3,
   "metadata": {},
   "outputs": [],
   "source": [
    "# create output folder if not there\n",
    "if not os.path.exists(\"../output\"):\n",
    "    os.makedirs(\"../output\")"
   ]
  },
  {
   "attachments": {},
   "cell_type": "markdown",
   "metadata": {},
   "source": [
    "#### Country names dict\n"
   ]
  },
  {
   "cell_type": "code",
   "execution_count": 4,
   "metadata": {},
   "outputs": [],
   "source": [
    "# load countries dictionary\n",
    "with open(\"../data/countryAbbr.csv\") as csv_file:\n",
    "    reader = csv.reader(csv_file)\n",
    "    country_to_abbrev = dict(reader)\n",
    "# invert the dictionary\n",
    "abbrev_to_country = dict(map(reversed, country_to_abbrev.items()))\n",
    "# add additional abbreviations\n",
    "abbrev_to_country[\"EL\"] = \"Greece\"\n",
    "abbrev_to_country[\"GB\"] = \"United Kingdom\""
   ]
  },
  {
   "cell_type": "code",
   "execution_count": 5,
   "metadata": {},
   "outputs": [],
   "source": [
    "allEurope = pd.read_csv(\"../data/Countries-Europe.csv\")\n",
    "allEurope = allEurope.name.to_list()"
   ]
  },
  {
   "cell_type": "code",
   "execution_count": 6,
   "metadata": {},
   "outputs": [],
   "source": [
    "# fmt: off\n",
    "countries = [\n",
    "    \"Belgium\", \"Bulgaria\", \"Cyprus\", \"Greece\", \"Germany\", \"Croatia\",\n",
    "    \"Italy\", \"Denmark\", \"Estonia\", \"Spain\", \"Finland\", \"France\",\n",
    "    \"Ireland\", \"Lithuania\", \"Latvia\", \"Malta\", \"Netherlands\", \"Poland\",\n",
    "    \"Portugal\", \"Romania\", \"Sweden\", \"United Kingdom\",]\n",
    "countryAbb = [\n",
    "    x if x not in country_to_abbrev else country_to_abbrev[x] for x in countries\n",
    "]\n",
    "# fmt: on"
   ]
  },
  {
   "cell_type": "code",
   "execution_count": 7,
   "metadata": {},
   "outputs": [],
   "source": [
    "def missingCountries(df, countries=countries):\n",
    "    ### check missing countries in dataset\n",
    "    missing = []\n",
    "    for i in countries:\n",
    "        if i not in df.index.unique():\n",
    "            missing.append(i)\n",
    "    if len(missing) > 0:\n",
    "        print(\"Missing countries:\\n\", \"\\n\".join(missing))\n",
    "    else:\n",
    "        print(\"No missing countries\")"
   ]
  },
  {
   "attachments": {},
   "cell_type": "markdown",
   "metadata": {},
   "source": [
    "### SDG Official Data\n"
   ]
  },
  {
   "cell_type": "code",
   "execution_count": 8,
   "metadata": {},
   "outputs": [
    {
     "data": {
      "text/html": [
       "<div>\n",
       "<style scoped>\n",
       "    .dataframe tbody tr th:only-of-type {\n",
       "        vertical-align: middle;\n",
       "    }\n",
       "\n",
       "    .dataframe tbody tr th {\n",
       "        vertical-align: top;\n",
       "    }\n",
       "\n",
       "    .dataframe thead th {\n",
       "        text-align: right;\n",
       "    }\n",
       "</style>\n",
       "<table border=\"1\" class=\"dataframe\">\n",
       "  <thead>\n",
       "    <tr style=\"text-align: right;\">\n",
       "      <th></th>\n",
       "      <th></th>\n",
       "      <th></th>\n",
       "      <th></th>\n",
       "      <th>0</th>\n",
       "    </tr>\n",
       "    <tr>\n",
       "      <th>Indicator</th>\n",
       "      <th>SeriesCode</th>\n",
       "      <th>SeriesDescription</th>\n",
       "      <th>Units</th>\n",
       "      <th></th>\n",
       "    </tr>\n",
       "  </thead>\n",
       "  <tbody>\n",
       "    <tr>\n",
       "      <th rowspan=\"9\" valign=\"top\">14.1.1</th>\n",
       "      <th>EN_MAR_BEALITSQ</th>\n",
       "      <th>Beach litter per square kilometer (Number)</th>\n",
       "      <th>NUMBER</th>\n",
       "      <td>611</td>\n",
       "    </tr>\n",
       "    <tr>\n",
       "      <th>EN_MAR_BEALIT_BP</th>\n",
       "      <th>Beach litter originating from national land-based sources that ends in the beach (%)</th>\n",
       "      <th>PERCENT</th>\n",
       "      <td>900</td>\n",
       "    </tr>\n",
       "    <tr>\n",
       "      <th>EN_MAR_BEALIT_BV</th>\n",
       "      <th>Beach litter originating from national land-based sources that ends in the beach (Tonnes)</th>\n",
       "      <th>TONNES</th>\n",
       "      <td>900</td>\n",
       "    </tr>\n",
       "    <tr>\n",
       "      <th>EN_MAR_BEALIT_EXP</th>\n",
       "      <th>Exported beach litter originating from national land-based sources (Tonnes)</th>\n",
       "      <th>TONNES</th>\n",
       "      <td>900</td>\n",
       "    </tr>\n",
       "    <tr>\n",
       "      <th>EN_MAR_BEALIT_OP</th>\n",
       "      <th>Beach litter originating from national land-based sources that ends in the ocean (%)</th>\n",
       "      <th>PERCENT</th>\n",
       "      <td>900</td>\n",
       "    </tr>\n",
       "    <tr>\n",
       "      <th>EN_MAR_BEALIT_OV</th>\n",
       "      <th>Beach litter originating from national land-based sources that ends in the ocean (Tonnes)</th>\n",
       "      <th>TONNES</th>\n",
       "      <td>900</td>\n",
       "    </tr>\n",
       "    <tr>\n",
       "      <th>EN_MAR_CHLANM</th>\n",
       "      <th>Chlorophyll-a anomaly, remote sensing (%)</th>\n",
       "      <th>PERCENT</th>\n",
       "      <td>2784</td>\n",
       "    </tr>\n",
       "    <tr>\n",
       "      <th>EN_MAR_CHLDEV</th>\n",
       "      <th>Chlorophyll-a deviations, remote sensing (%)</th>\n",
       "      <th>PERCENT</th>\n",
       "      <td>4131</td>\n",
       "    </tr>\n",
       "    <tr>\n",
       "      <th>EN_MAR_PLASDD</th>\n",
       "      <th>Floating plastic debris density (count per km2)</th>\n",
       "      <th>NUMBER</th>\n",
       "      <td>3</td>\n",
       "    </tr>\n",
       "    <tr>\n",
       "      <th>14.2.1</th>\n",
       "      <th>EN_SCP_ECSYBA</th>\n",
       "      <th>Number of countries using ecosystem-based approaches to managing marine areas (1 = YES; 0 = NO)</th>\n",
       "      <th>NUMBER</th>\n",
       "      <td>33</td>\n",
       "    </tr>\n",
       "    <tr>\n",
       "      <th>14.3.1</th>\n",
       "      <th>ER_OAW_MNACD</th>\n",
       "      <th>Average marine acidity (pH) measured at agreed suite of representative sampling stations</th>\n",
       "      <th>PH</th>\n",
       "      <td>903</td>\n",
       "    </tr>\n",
       "    <tr>\n",
       "      <th>14.4.1</th>\n",
       "      <th>ER_H2O_FWTL</th>\n",
       "      <th>Proportion of fish stocks within biologically sustainable levels (not overexploited) (%)</th>\n",
       "      <th>PERCENT</th>\n",
       "      <td>422</td>\n",
       "    </tr>\n",
       "    <tr>\n",
       "      <th>14.5.1</th>\n",
       "      <th>ER_MRN_MPA</th>\n",
       "      <th>Average proportion of Marine Key Biodiversity Areas (KBAs) covered by protected areas (%)</th>\n",
       "      <th>PERCENT</th>\n",
       "      <td>6049</td>\n",
       "    </tr>\n",
       "    <tr>\n",
       "      <th>14.6.1</th>\n",
       "      <th>ER_REG_UNFCIM</th>\n",
       "      <th>Progress by countries in the degree of implementation of international instruments aiming to combat illegal, unreported and unregulated fishing (level of implementation: 1 lowest to 5 highest)</th>\n",
       "      <th>NUMBER</th>\n",
       "      <td>882</td>\n",
       "    </tr>\n",
       "    <tr>\n",
       "      <th>14.7.1</th>\n",
       "      <th>EN_SCP_FSHGDP</th>\n",
       "      <th>Sustainable fisheries as a proportion of GDP</th>\n",
       "      <th>PERCENT</th>\n",
       "      <td>5880</td>\n",
       "    </tr>\n",
       "    <tr>\n",
       "      <th>14.a.1</th>\n",
       "      <th>ER_RDE_OSEX</th>\n",
       "      <th>National ocean science expenditure as a share of total research and development funding (%)</th>\n",
       "      <th>PERCENT</th>\n",
       "      <td>159</td>\n",
       "    </tr>\n",
       "    <tr>\n",
       "      <th>14.b.1</th>\n",
       "      <th>ER_REG_SSFRAR</th>\n",
       "      <th>Degree of application of a legal/regulatory/policy/institutional framework which recognizes and protects access rights for small-scale fisheries (level of implementation: 1 lowest to 5 highest)</th>\n",
       "      <th>NUMBER</th>\n",
       "      <td>882</td>\n",
       "    </tr>\n",
       "    <tr>\n",
       "      <th rowspan=\"2\" valign=\"top\">14.c.1</th>\n",
       "      <th>ER_UNCLOS_IMPLE</th>\n",
       "      <th>Score for the implementation of UNCLOS and its two implementing agreements (%)</th>\n",
       "      <th>PERCENT</th>\n",
       "      <td>63</td>\n",
       "    </tr>\n",
       "    <tr>\n",
       "      <th>ER_UNCLOS_RATACC</th>\n",
       "      <th>Score for the ratification of and accession to UNCLOS and its two implementing agreements (%)</th>\n",
       "      <th>PERCENT</th>\n",
       "      <td>63</td>\n",
       "    </tr>\n",
       "  </tbody>\n",
       "</table>\n",
       "</div>"
      ],
      "text/plain": [
       "                                                                                           0\n",
       "Indicator SeriesCode        SeriesDescription                                  Units        \n",
       "14.1.1    EN_MAR_BEALITSQ   Beach litter per square kilometer (Number)         NUMBER    611\n",
       "          EN_MAR_BEALIT_BP  Beach litter originating from national land-bas... PERCENT   900\n",
       "          EN_MAR_BEALIT_BV  Beach litter originating from national land-bas... TONNES    900\n",
       "          EN_MAR_BEALIT_EXP Exported beach litter originating from national... TONNES    900\n",
       "          EN_MAR_BEALIT_OP  Beach litter originating from national land-bas... PERCENT   900\n",
       "          EN_MAR_BEALIT_OV  Beach litter originating from national land-bas... TONNES    900\n",
       "          EN_MAR_CHLANM     Chlorophyll-a anomaly, remote sensing (%)          PERCENT  2784\n",
       "          EN_MAR_CHLDEV     Chlorophyll-a deviations, remote sensing (%)       PERCENT  4131\n",
       "          EN_MAR_PLASDD     Floating plastic debris density (count per km2)    NUMBER      3\n",
       "14.2.1    EN_SCP_ECSYBA     Number of countries using ecosystem-based appro... NUMBER     33\n",
       "14.3.1    ER_OAW_MNACD      Average marine acidity (pH) measured at agreed ... PH        903\n",
       "14.4.1    ER_H2O_FWTL       Proportion of fish stocks within biologically s... PERCENT   422\n",
       "14.5.1    ER_MRN_MPA        Average proportion of Marine Key Biodiversity A... PERCENT  6049\n",
       "14.6.1    ER_REG_UNFCIM     Progress by countries in the degree of implemen... NUMBER    882\n",
       "14.7.1    EN_SCP_FSHGDP     Sustainable fisheries as a proportion of GDP       PERCENT  5880\n",
       "14.a.1    ER_RDE_OSEX       National ocean science expenditure as a share o... PERCENT   159\n",
       "14.b.1    ER_REG_SSFRAR     Degree of application of a legal/regulatory/pol... NUMBER    882\n",
       "14.c.1    ER_UNCLOS_IMPLE   Score for the implementation of UNCLOS and its ... PERCENT    63\n",
       "          ER_UNCLOS_RATACC  Score for the ratification of and accession to ... PERCENT    63"
      ]
     },
     "execution_count": 8,
     "metadata": {},
     "output_type": "execute_result"
    }
   ],
   "source": [
    "# SDG14 indicators from the UNstats\n",
    "# https://unstats.un.org/sdgs/dataportal/database\n",
    "\n",
    "sdg14 = pd.read_excel(\"../data/Goal14_april2023.xlsx\", sheet_name=0)\n",
    "# fmt: off\n",
    "sdg14 = sdg14[\n",
    "    [ \n",
    "        \"Target\", \"Indicator\", \"SeriesCode\", \"GeoAreaName\", \n",
    "        \"TimePeriod\", \"Value\", \"Units\", \"SeriesDescription\" \n",
    "    ]\n",
    "]\n",
    "# fmt: on\n",
    "\n",
    "sdg14.Value.replace(\"N\", np.nan, inplace=True)\n",
    "sdg14.Value = sdg14.Value.astype(np.float64)\n",
    "\n",
    "# filter countries\n",
    "# sdg14 = sdg14[sdg14['GeoAreaName'].isin(countries)]\n",
    "# show indicators\n",
    "pd.DataFrame(\n",
    "    sdg14.groupby([\"Indicator\", \"SeriesCode\", \"SeriesDescription\", \"Units\"]).size()\n",
    ")"
   ]
  },
  {
   "attachments": {},
   "cell_type": "markdown",
   "metadata": {},
   "source": [
    "#### Check official data by indicator\n"
   ]
  },
  {
   "cell_type": "code",
   "execution_count": 9,
   "metadata": {},
   "outputs": [
    {
     "data": {
      "text/html": [
       "<div>\n",
       "<style scoped>\n",
       "    .dataframe tbody tr th:only-of-type {\n",
       "        vertical-align: middle;\n",
       "    }\n",
       "\n",
       "    .dataframe tbody tr th {\n",
       "        vertical-align: top;\n",
       "    }\n",
       "\n",
       "    .dataframe thead th {\n",
       "        text-align: right;\n",
       "    }\n",
       "</style>\n",
       "<table border=\"1\" class=\"dataframe\">\n",
       "  <thead>\n",
       "    <tr style=\"text-align: right;\">\n",
       "      <th>TimePeriod</th>\n",
       "      <th>2015</th>\n",
       "      <th>2016</th>\n",
       "      <th>2017</th>\n",
       "      <th>2018</th>\n",
       "      <th>2019</th>\n",
       "      <th>2020</th>\n",
       "    </tr>\n",
       "    <tr>\n",
       "      <th>GeoAreaName</th>\n",
       "      <th></th>\n",
       "      <th></th>\n",
       "      <th></th>\n",
       "      <th></th>\n",
       "      <th></th>\n",
       "      <th></th>\n",
       "    </tr>\n",
       "  </thead>\n",
       "  <tbody>\n",
       "    <tr>\n",
       "      <th>Belgium</th>\n",
       "      <td>1.520290e+07</td>\n",
       "      <td>2.704512e+05</td>\n",
       "      <td>2.273158e+05</td>\n",
       "      <td>1.915215e+04</td>\n",
       "      <td>6.645361e+05</td>\n",
       "      <td>NaN</td>\n",
       "    </tr>\n",
       "    <tr>\n",
       "      <th>Bulgaria</th>\n",
       "      <td>2.319362e+05</td>\n",
       "      <td>1.924616e+05</td>\n",
       "      <td>2.292929e+06</td>\n",
       "      <td>2.618936e+06</td>\n",
       "      <td>2.589610e+06</td>\n",
       "      <td>2.159091e+06</td>\n",
       "    </tr>\n",
       "    <tr>\n",
       "      <th>Croatia</th>\n",
       "      <td>4.538235e+07</td>\n",
       "      <td>4.292519e+05</td>\n",
       "      <td>NaN</td>\n",
       "      <td>NaN</td>\n",
       "      <td>5.534965e+04</td>\n",
       "      <td>NaN</td>\n",
       "    </tr>\n",
       "    <tr>\n",
       "      <th>Cyprus</th>\n",
       "      <td>3.804995e+05</td>\n",
       "      <td>1.230420e+06</td>\n",
       "      <td>4.879745e+06</td>\n",
       "      <td>4.901154e+06</td>\n",
       "      <td>NaN</td>\n",
       "      <td>1.879470e+07</td>\n",
       "    </tr>\n",
       "    <tr>\n",
       "      <th>Denmark</th>\n",
       "      <td>1.289859e+05</td>\n",
       "      <td>1.961387e+05</td>\n",
       "      <td>6.390451e+04</td>\n",
       "      <td>2.080706e+05</td>\n",
       "      <td>2.490390e+05</td>\n",
       "      <td>1.977920e+05</td>\n",
       "    </tr>\n",
       "    <tr>\n",
       "      <th>Estonia</th>\n",
       "      <td>NaN</td>\n",
       "      <td>NaN</td>\n",
       "      <td>1.058452e+06</td>\n",
       "      <td>NaN</td>\n",
       "      <td>NaN</td>\n",
       "      <td>NaN</td>\n",
       "    </tr>\n",
       "    <tr>\n",
       "      <th>Finland</th>\n",
       "      <td>NaN</td>\n",
       "      <td>NaN</td>\n",
       "      <td>2.172614e+04</td>\n",
       "      <td>1.652134e+05</td>\n",
       "      <td>NaN</td>\n",
       "      <td>NaN</td>\n",
       "    </tr>\n",
       "    <tr>\n",
       "      <th>France</th>\n",
       "      <td>6.693829e+06</td>\n",
       "      <td>4.550833e+06</td>\n",
       "      <td>1.906840e+05</td>\n",
       "      <td>1.066566e+06</td>\n",
       "      <td>1.329666e+06</td>\n",
       "      <td>6.046173e+05</td>\n",
       "    </tr>\n",
       "    <tr>\n",
       "      <th>Germany</th>\n",
       "      <td>1.010614e+05</td>\n",
       "      <td>2.106574e+06</td>\n",
       "      <td>4.334803e+04</td>\n",
       "      <td>3.861386e+05</td>\n",
       "      <td>1.695590e+04</td>\n",
       "      <td>NaN</td>\n",
       "    </tr>\n",
       "    <tr>\n",
       "      <th>Greece</th>\n",
       "      <td>2.866051e+06</td>\n",
       "      <td>1.806335e+06</td>\n",
       "      <td>1.039325e+06</td>\n",
       "      <td>1.432935e+06</td>\n",
       "      <td>1.515755e+04</td>\n",
       "      <td>7.201374e+04</td>\n",
       "    </tr>\n",
       "    <tr>\n",
       "      <th>Ireland</th>\n",
       "      <td>1.666727e+04</td>\n",
       "      <td>1.233589e+05</td>\n",
       "      <td>2.938770e+05</td>\n",
       "      <td>2.351199e+04</td>\n",
       "      <td>4.400202e+02</td>\n",
       "      <td>NaN</td>\n",
       "    </tr>\n",
       "    <tr>\n",
       "      <th>Italy</th>\n",
       "      <td>9.195292e+06</td>\n",
       "      <td>7.008116e+06</td>\n",
       "      <td>2.331030e+06</td>\n",
       "      <td>6.977531e+05</td>\n",
       "      <td>2.116006e+05</td>\n",
       "      <td>NaN</td>\n",
       "    </tr>\n",
       "    <tr>\n",
       "      <th>Malta</th>\n",
       "      <td>1.205128e+06</td>\n",
       "      <td>NaN</td>\n",
       "      <td>NaN</td>\n",
       "      <td>5.260832e+03</td>\n",
       "      <td>NaN</td>\n",
       "      <td>NaN</td>\n",
       "    </tr>\n",
       "    <tr>\n",
       "      <th>Netherlands</th>\n",
       "      <td>3.870849e+06</td>\n",
       "      <td>4.560344e+04</td>\n",
       "      <td>5.221688e+04</td>\n",
       "      <td>1.038472e+05</td>\n",
       "      <td>7.550317e+03</td>\n",
       "      <td>NaN</td>\n",
       "    </tr>\n",
       "    <tr>\n",
       "      <th>Poland</th>\n",
       "      <td>NaN</td>\n",
       "      <td>8.504996e+05</td>\n",
       "      <td>2.077893e+05</td>\n",
       "      <td>7.328124e+05</td>\n",
       "      <td>NaN</td>\n",
       "      <td>NaN</td>\n",
       "    </tr>\n",
       "    <tr>\n",
       "      <th>Portugal</th>\n",
       "      <td>3.096130e+06</td>\n",
       "      <td>1.237300e+06</td>\n",
       "      <td>2.573624e+05</td>\n",
       "      <td>1.537330e+06</td>\n",
       "      <td>1.605057e+05</td>\n",
       "      <td>1.029442e+04</td>\n",
       "    </tr>\n",
       "    <tr>\n",
       "      <th>Romania</th>\n",
       "      <td>1.460573e+05</td>\n",
       "      <td>2.776233e+06</td>\n",
       "      <td>1.341007e+07</td>\n",
       "      <td>7.194247e+05</td>\n",
       "      <td>NaN</td>\n",
       "      <td>NaN</td>\n",
       "    </tr>\n",
       "    <tr>\n",
       "      <th>Spain</th>\n",
       "      <td>1.531321e+06</td>\n",
       "      <td>4.088206e+06</td>\n",
       "      <td>2.193543e+06</td>\n",
       "      <td>1.436452e+06</td>\n",
       "      <td>1.257716e+06</td>\n",
       "      <td>2.463317e+05</td>\n",
       "    </tr>\n",
       "    <tr>\n",
       "      <th>Sweden</th>\n",
       "      <td>7.623596e+03</td>\n",
       "      <td>2.239108e+04</td>\n",
       "      <td>1.722629e+04</td>\n",
       "      <td>6.489057e+03</td>\n",
       "      <td>NaN</td>\n",
       "      <td>NaN</td>\n",
       "    </tr>\n",
       "  </tbody>\n",
       "</table>\n",
       "</div>"
      ],
      "text/plain": [
       "TimePeriod           2015          2016          2017          2018  \\\n",
       "GeoAreaName                                                           \n",
       "Belgium      1.520290e+07  2.704512e+05  2.273158e+05  1.915215e+04   \n",
       "Bulgaria     2.319362e+05  1.924616e+05  2.292929e+06  2.618936e+06   \n",
       "Croatia      4.538235e+07  4.292519e+05           NaN           NaN   \n",
       "Cyprus       3.804995e+05  1.230420e+06  4.879745e+06  4.901154e+06   \n",
       "Denmark      1.289859e+05  1.961387e+05  6.390451e+04  2.080706e+05   \n",
       "Estonia               NaN           NaN  1.058452e+06           NaN   \n",
       "Finland               NaN           NaN  2.172614e+04  1.652134e+05   \n",
       "France       6.693829e+06  4.550833e+06  1.906840e+05  1.066566e+06   \n",
       "Germany      1.010614e+05  2.106574e+06  4.334803e+04  3.861386e+05   \n",
       "Greece       2.866051e+06  1.806335e+06  1.039325e+06  1.432935e+06   \n",
       "Ireland      1.666727e+04  1.233589e+05  2.938770e+05  2.351199e+04   \n",
       "Italy        9.195292e+06  7.008116e+06  2.331030e+06  6.977531e+05   \n",
       "Malta        1.205128e+06           NaN           NaN  5.260832e+03   \n",
       "Netherlands  3.870849e+06  4.560344e+04  5.221688e+04  1.038472e+05   \n",
       "Poland                NaN  8.504996e+05  2.077893e+05  7.328124e+05   \n",
       "Portugal     3.096130e+06  1.237300e+06  2.573624e+05  1.537330e+06   \n",
       "Romania      1.460573e+05  2.776233e+06  1.341007e+07  7.194247e+05   \n",
       "Spain        1.531321e+06  4.088206e+06  2.193543e+06  1.436452e+06   \n",
       "Sweden       7.623596e+03  2.239108e+04  1.722629e+04  6.489057e+03   \n",
       "\n",
       "TimePeriod           2019          2020  \n",
       "GeoAreaName                              \n",
       "Belgium      6.645361e+05           NaN  \n",
       "Bulgaria     2.589610e+06  2.159091e+06  \n",
       "Croatia      5.534965e+04           NaN  \n",
       "Cyprus                NaN  1.879470e+07  \n",
       "Denmark      2.490390e+05  1.977920e+05  \n",
       "Estonia               NaN           NaN  \n",
       "Finland               NaN           NaN  \n",
       "France       1.329666e+06  6.046173e+05  \n",
       "Germany      1.695590e+04           NaN  \n",
       "Greece       1.515755e+04  7.201374e+04  \n",
       "Ireland      4.400202e+02           NaN  \n",
       "Italy        2.116006e+05           NaN  \n",
       "Malta                 NaN           NaN  \n",
       "Netherlands  7.550317e+03           NaN  \n",
       "Poland                NaN           NaN  \n",
       "Portugal     1.605057e+05  1.029442e+04  \n",
       "Romania               NaN           NaN  \n",
       "Spain        1.257716e+06  2.463317e+05  \n",
       "Sweden                NaN           NaN  "
      ]
     },
     "execution_count": 9,
     "metadata": {},
     "output_type": "execute_result"
    },
    {
     "name": "stdout",
     "output_type": "stream",
     "text": [
      "Missing countries:\n",
      " Lithuania\n",
      "Latvia\n",
      "United Kingdom\n"
     ]
    }
   ],
   "source": [
    "sdg14check = sdg14[sdg14[\"GeoAreaName\"].isin(countries)]\n",
    "sdg14check.loc[\n",
    "    sdg14check[\"GeoAreaName\"].str.contains(r\"^(?=.*United)(?=.*Kingdom)\"), \"GeoAreaName\"\n",
    "] = \"United Kingdom\"\n",
    "sdg14check = sdg14check[sdg14check[\"SeriesCode\"] == \"EN_MAR_BEALITSQ\"].pivot_table(\n",
    "    columns=\"TimePeriod\", index=\"GeoAreaName\", values=\"Value\", aggfunc=\"mean\"\n",
    ")\n",
    "sdg14check\n",
    "missingCountries(sdg14check)"
   ]
  },
  {
   "attachments": {},
   "cell_type": "markdown",
   "metadata": {},
   "source": [
    "### 14.1\n",
    "\n",
    "#### (a) Index of coastal eutrophication\n",
    "\n",
    "We use Gross Nitrogen Balance: Max-Min transformation where the max-value is the maximum value in the period 2012-2021 and the min-value is zero.\n"
   ]
  },
  {
   "attachments": {},
   "cell_type": "markdown",
   "metadata": {},
   "source": [
    "##### Gross nutrient balance (Nitrogen kg/ha), Eurostat\n",
    "\n",
    "[Source](https://ec.europa.eu/eurostat/databrowser/view/AEI_PR_GNB__custom_153613/)\n"
   ]
  },
  {
   "cell_type": "code",
   "execution_count": 336,
   "metadata": {},
   "outputs": [
    {
     "data": {
      "text/html": [
       "<div>\n",
       "<style scoped>\n",
       "    .dataframe tbody tr th:only-of-type {\n",
       "        vertical-align: middle;\n",
       "    }\n",
       "\n",
       "    .dataframe tbody tr th {\n",
       "        vertical-align: top;\n",
       "    }\n",
       "\n",
       "    .dataframe thead th {\n",
       "        text-align: right;\n",
       "    }\n",
       "</style>\n",
       "<table border=\"1\" class=\"dataframe\">\n",
       "  <thead>\n",
       "    <tr style=\"text-align: right;\">\n",
       "      <th>TIME_PERIOD</th>\n",
       "      <th>2012</th>\n",
       "      <th>2016</th>\n",
       "      <th>2018</th>\n",
       "    </tr>\n",
       "    <tr>\n",
       "      <th>geo</th>\n",
       "      <th></th>\n",
       "      <th></th>\n",
       "      <th></th>\n",
       "    </tr>\n",
       "  </thead>\n",
       "  <tbody>\n",
       "    <tr>\n",
       "      <th>Belgium</th>\n",
       "      <td>23.68</td>\n",
       "      <td>NaN</td>\n",
       "      <td>NaN</td>\n",
       "    </tr>\n",
       "    <tr>\n",
       "      <th>Bulgaria</th>\n",
       "      <td>76.90</td>\n",
       "      <td>55.91</td>\n",
       "      <td>60.07</td>\n",
       "    </tr>\n",
       "    <tr>\n",
       "      <th>Croatia</th>\n",
       "      <td>49.10</td>\n",
       "      <td>71.89</td>\n",
       "      <td>61.95</td>\n",
       "    </tr>\n",
       "    <tr>\n",
       "      <th>Cyprus</th>\n",
       "      <td>5.19</td>\n",
       "      <td>NaN</td>\n",
       "      <td>NaN</td>\n",
       "    </tr>\n",
       "    <tr>\n",
       "      <th>Denmark</th>\n",
       "      <td>50.40</td>\n",
       "      <td>NaN</td>\n",
       "      <td>NaN</td>\n",
       "    </tr>\n",
       "    <tr>\n",
       "      <th>...</th>\n",
       "      <td>...</td>\n",
       "      <td>...</td>\n",
       "      <td>...</td>\n",
       "    </tr>\n",
       "    <tr>\n",
       "      <th>Portugal</th>\n",
       "      <td>68.08</td>\n",
       "      <td>66.83</td>\n",
       "      <td>67.37</td>\n",
       "    </tr>\n",
       "    <tr>\n",
       "      <th>Romania</th>\n",
       "      <td>80.44</td>\n",
       "      <td>88.36</td>\n",
       "      <td>100.00</td>\n",
       "    </tr>\n",
       "    <tr>\n",
       "      <th>Spain</th>\n",
       "      <td>72.69</td>\n",
       "      <td>70.28</td>\n",
       "      <td>NaN</td>\n",
       "    </tr>\n",
       "    <tr>\n",
       "      <th>Sweden</th>\n",
       "      <td>73.77</td>\n",
       "      <td>71.31</td>\n",
       "      <td>60.61</td>\n",
       "    </tr>\n",
       "    <tr>\n",
       "      <th>United Kingdom</th>\n",
       "      <td>48.57</td>\n",
       "      <td>49.02</td>\n",
       "      <td>NaN</td>\n",
       "    </tr>\n",
       "  </tbody>\n",
       "</table>\n",
       "<p>22 rows × 3 columns</p>\n",
       "</div>"
      ],
      "text/plain": [
       "TIME_PERIOD      2012   2016    2018\n",
       "geo                                 \n",
       "Belgium         23.68    NaN     NaN\n",
       "Bulgaria        76.90  55.91   60.07\n",
       "Croatia         49.10  71.89   61.95\n",
       "Cyprus           5.19    NaN     NaN\n",
       "Denmark         50.40    NaN     NaN\n",
       "...               ...    ...     ...\n",
       "Portugal        68.08  66.83   67.37\n",
       "Romania         80.44  88.36  100.00\n",
       "Spain           72.69  70.28     NaN\n",
       "Sweden          73.77  71.31   60.61\n",
       "United Kingdom  48.57  49.02     NaN\n",
       "\n",
       "[22 rows x 3 columns]"
      ]
     },
     "execution_count": 336,
     "metadata": {},
     "output_type": "execute_result"
    },
    {
     "name": "stdout",
     "output_type": "stream",
     "text": [
      "No missing countries\n"
     ]
    }
   ],
   "source": [
    "# Gross nutrient balance (Nitrogen kg/ha), Eurostat\n",
    "# https://ec.europa.eu/eurostat/databrowser/view/AEI_PR_GNB__custom_153613/\n",
    "\n",
    "nitro = pd.read_csv(\"../data/aei_pr_gnb.csv\")\n",
    "nitro[\"geo\"] = nitro[\"geo\"].map(abbrev_to_country).fillna(nitro[\"geo\"])\n",
    "nitro = nitro[nitro[\"geo\"].isin(countries)]\n",
    "nitro = nitro.pivot_table(\n",
    "    columns=\"TIME_PERIOD\", index=\"geo\", values=\"OBS_VALUE\", aggfunc=\"mean\"\n",
    ")\n",
    "mr = nitro.columns[-1]  # most recent year\n",
    "# maxMin transformation as (max-x)/(max-min) * 100 --> converts to 0-100 scale with 0=worst, 100=best\n",
    "nitro = (\n",
    "    (nitro.loc[:, \"2012\":mr].max().max() - nitro.loc[:, \"2012\":mr])\n",
    "    / (nitro.loc[:, \"2012\":mr].max().max() - nitro.loc[:, \"2012\":mr].min().min())\n",
    "    * 100\n",
    ").round(2)\n",
    "nitro[[2012, 2016, mr]]\n",
    "\n",
    "missingCountries(nitro)"
   ]
  },
  {
   "attachments": {},
   "cell_type": "markdown",
   "metadata": {},
   "source": [
    "#### (b) Floating Plastic Debris Density\n",
    "\n",
    "We use two indicators:\n",
    "\n",
    "1. Plastic Waste kg/ha: Max-Min Transformation where the max-value and min-values are the maximum and minimum in the period 2012-2021.\n",
    "\n",
    "2. Recovery Rate of Plastic Packaging: Without further transformation as score is provided dimensionless.\n"
   ]
  },
  {
   "attachments": {},
   "cell_type": "markdown",
   "metadata": {},
   "source": [
    "##### 1. Plastic Waste kg/ha, Eurostat\n",
    "\n",
    "[Source](https://ec.europa.eu/eurostat/databrowser/view/ENV_WASGEN/)\n"
   ]
  },
  {
   "cell_type": "code",
   "execution_count": 345,
   "metadata": {},
   "outputs": [
    {
     "data": {
      "text/html": [
       "<div>\n",
       "<style scoped>\n",
       "    .dataframe tbody tr th:only-of-type {\n",
       "        vertical-align: middle;\n",
       "    }\n",
       "\n",
       "    .dataframe tbody tr th {\n",
       "        vertical-align: top;\n",
       "    }\n",
       "\n",
       "    .dataframe thead th {\n",
       "        text-align: right;\n",
       "    }\n",
       "</style>\n",
       "<table border=\"1\" class=\"dataframe\">\n",
       "  <thead>\n",
       "    <tr style=\"text-align: right;\">\n",
       "      <th>TIME_PERIOD</th>\n",
       "      <th>2012</th>\n",
       "      <th>2016</th>\n",
       "      <th>2020</th>\n",
       "    </tr>\n",
       "    <tr>\n",
       "      <th>geo</th>\n",
       "      <th></th>\n",
       "      <th></th>\n",
       "      <th></th>\n",
       "    </tr>\n",
       "  </thead>\n",
       "  <tbody>\n",
       "    <tr>\n",
       "      <th>Belgium</th>\n",
       "      <td>54.62</td>\n",
       "      <td>51.26</td>\n",
       "      <td>31.93</td>\n",
       "    </tr>\n",
       "    <tr>\n",
       "      <th>Bulgaria</th>\n",
       "      <td>92.44</td>\n",
       "      <td>78.99</td>\n",
       "      <td>59.66</td>\n",
       "    </tr>\n",
       "    <tr>\n",
       "      <th>Croatia</th>\n",
       "      <td>96.64</td>\n",
       "      <td>90.76</td>\n",
       "      <td>78.15</td>\n",
       "    </tr>\n",
       "    <tr>\n",
       "      <th>Cyprus</th>\n",
       "      <td>100.00</td>\n",
       "      <td>98.32</td>\n",
       "      <td>88.24</td>\n",
       "    </tr>\n",
       "    <tr>\n",
       "      <th>Denmark</th>\n",
       "      <td>88.24</td>\n",
       "      <td>87.39</td>\n",
       "      <td>84.03</td>\n",
       "    </tr>\n",
       "    <tr>\n",
       "      <th>...</th>\n",
       "      <td>...</td>\n",
       "      <td>...</td>\n",
       "      <td>...</td>\n",
       "    </tr>\n",
       "    <tr>\n",
       "      <th>Portugal</th>\n",
       "      <td>89.92</td>\n",
       "      <td>78.99</td>\n",
       "      <td>68.07</td>\n",
       "    </tr>\n",
       "    <tr>\n",
       "      <th>Romania</th>\n",
       "      <td>84.03</td>\n",
       "      <td>92.44</td>\n",
       "      <td>90.76</td>\n",
       "    </tr>\n",
       "    <tr>\n",
       "      <th>Spain</th>\n",
       "      <td>84.03</td>\n",
       "      <td>90.76</td>\n",
       "      <td>88.24</td>\n",
       "    </tr>\n",
       "    <tr>\n",
       "      <th>Sweden</th>\n",
       "      <td>89.08</td>\n",
       "      <td>77.31</td>\n",
       "      <td>76.47</td>\n",
       "    </tr>\n",
       "    <tr>\n",
       "      <th>United Kingdom</th>\n",
       "      <td>73.11</td>\n",
       "      <td>66.39</td>\n",
       "      <td>67.23</td>\n",
       "    </tr>\n",
       "  </tbody>\n",
       "</table>\n",
       "<p>22 rows × 3 columns</p>\n",
       "</div>"
      ],
      "text/plain": [
       "TIME_PERIOD       2012   2016   2020\n",
       "geo                                 \n",
       "Belgium          54.62  51.26  31.93\n",
       "Bulgaria         92.44  78.99  59.66\n",
       "Croatia          96.64  90.76  78.15\n",
       "Cyprus          100.00  98.32  88.24\n",
       "Denmark          88.24  87.39  84.03\n",
       "...                ...    ...    ...\n",
       "Portugal         89.92  78.99  68.07\n",
       "Romania          84.03  92.44  90.76\n",
       "Spain            84.03  90.76  88.24\n",
       "Sweden           89.08  77.31  76.47\n",
       "United Kingdom   73.11  66.39  67.23\n",
       "\n",
       "[22 rows x 3 columns]"
      ]
     },
     "execution_count": 345,
     "metadata": {},
     "output_type": "execute_result"
    },
    {
     "name": "stdout",
     "output_type": "stream",
     "text": [
      "No missing countries\n"
     ]
    }
   ],
   "source": [
    "# Plastic Waste kg/ha, Eurostat\n",
    "# https://ec.europa.eu/eurostat/databrowser/view/ENV_WASGEN/\n",
    "\n",
    "wasteG = pd.read_csv(\"../data/env_wasgen.csv\")\n",
    "wasteG[\"geo\"] = wasteG[\"geo\"].map(abbrev_to_country).fillna(wasteG[\"geo\"])\n",
    "wasteG = wasteG[wasteG[\"geo\"].isin(countries)]\n",
    "\n",
    "wasteG = wasteG[wasteG[\"unit\"] == \"KG_HAB\"].pivot_table(\n",
    "    columns=\"TIME_PERIOD\", index=\"geo\", values=\"OBS_VALUE\", aggfunc=\"mean\"\n",
    ")\n",
    "mr = wasteG.columns[-1]  # most recent year\n",
    "# maxMin transformation as (max-x)/(max-min) * 100 --> converts to 0-100 scale with 0=worst, 100=best\n",
    "wasteG = (\n",
    "    (wasteG.loc[:, \"2012\":mr].max().max() - wasteG.loc[:, \"2012\":mr])\n",
    "    / (wasteG.loc[:, \"2012\":mr].max().max() - wasteG.loc[:, \"2012\":mr].min().min())\n",
    "    * 100\n",
    ").round(2)\n",
    "wasteG = wasteG.ffill(axis=1)  # fill empty values with last available year\n",
    "wasteG[[2012, 2016, mr]]\n",
    "missingCountries(wasteG)"
   ]
  },
  {
   "attachments": {},
   "cell_type": "markdown",
   "metadata": {},
   "source": [
    "##### 2. Recovery rates for packaging waste, Plastic Packaging\n",
    "\n",
    "[Source](https://ec.europa.eu/eurostat/databrowser/view/ten00062/)\n"
   ]
  },
  {
   "cell_type": "code",
   "execution_count": 347,
   "metadata": {},
   "outputs": [
    {
     "data": {
      "text/html": [
       "<div>\n",
       "<style scoped>\n",
       "    .dataframe tbody tr th:only-of-type {\n",
       "        vertical-align: middle;\n",
       "    }\n",
       "\n",
       "    .dataframe tbody tr th {\n",
       "        vertical-align: top;\n",
       "    }\n",
       "\n",
       "    .dataframe thead th {\n",
       "        text-align: right;\n",
       "    }\n",
       "</style>\n",
       "<table border=\"1\" class=\"dataframe\">\n",
       "  <thead>\n",
       "    <tr style=\"text-align: right;\">\n",
       "      <th>TIME_PERIOD</th>\n",
       "      <th>2012</th>\n",
       "      <th>2016</th>\n",
       "      <th>2020</th>\n",
       "    </tr>\n",
       "    <tr>\n",
       "      <th>geo</th>\n",
       "      <th></th>\n",
       "      <th></th>\n",
       "      <th></th>\n",
       "    </tr>\n",
       "  </thead>\n",
       "  <tbody>\n",
       "    <tr>\n",
       "      <th>Belgium</th>\n",
       "      <td>92.7</td>\n",
       "      <td>99.5</td>\n",
       "      <td>99.4</td>\n",
       "    </tr>\n",
       "    <tr>\n",
       "      <th>Bulgaria</th>\n",
       "      <td>44.1</td>\n",
       "      <td>52.6</td>\n",
       "      <td>50.6</td>\n",
       "    </tr>\n",
       "    <tr>\n",
       "      <th>Croatia</th>\n",
       "      <td>45.4</td>\n",
       "      <td>41.1</td>\n",
       "      <td>34.1</td>\n",
       "    </tr>\n",
       "    <tr>\n",
       "      <th>Cyprus</th>\n",
       "      <td>44.8</td>\n",
       "      <td>74.3</td>\n",
       "      <td>51.9</td>\n",
       "    </tr>\n",
       "    <tr>\n",
       "      <th>Denmark</th>\n",
       "      <td>99.4</td>\n",
       "      <td>98.1</td>\n",
       "      <td>73.1</td>\n",
       "    </tr>\n",
       "    <tr>\n",
       "      <th>...</th>\n",
       "      <td>...</td>\n",
       "      <td>...</td>\n",
       "      <td>...</td>\n",
       "    </tr>\n",
       "    <tr>\n",
       "      <th>Portugal</th>\n",
       "      <td>39.4</td>\n",
       "      <td>49.9</td>\n",
       "      <td>56.9</td>\n",
       "    </tr>\n",
       "    <tr>\n",
       "      <th>Romania</th>\n",
       "      <td>51.9</td>\n",
       "      <td>49.9</td>\n",
       "      <td>37.0</td>\n",
       "    </tr>\n",
       "    <tr>\n",
       "      <th>Spain</th>\n",
       "      <td>53.2</td>\n",
       "      <td>61.8</td>\n",
       "      <td>55.5</td>\n",
       "    </tr>\n",
       "    <tr>\n",
       "      <th>Sweden</th>\n",
       "      <td>58.1</td>\n",
       "      <td>61.7</td>\n",
       "      <td>50.7</td>\n",
       "    </tr>\n",
       "    <tr>\n",
       "      <th>United Kingdom</th>\n",
       "      <td>38.1</td>\n",
       "      <td>58.5</td>\n",
       "      <td>56.2</td>\n",
       "    </tr>\n",
       "  </tbody>\n",
       "</table>\n",
       "<p>22 rows × 3 columns</p>\n",
       "</div>"
      ],
      "text/plain": [
       "TIME_PERIOD     2012  2016  2020\n",
       "geo                             \n",
       "Belgium         92.7  99.5  99.4\n",
       "Bulgaria        44.1  52.6  50.6\n",
       "Croatia         45.4  41.1  34.1\n",
       "Cyprus          44.8  74.3  51.9\n",
       "Denmark         99.4  98.1  73.1\n",
       "...              ...   ...   ...\n",
       "Portugal        39.4  49.9  56.9\n",
       "Romania         51.9  49.9  37.0\n",
       "Spain           53.2  61.8  55.5\n",
       "Sweden          58.1  61.7  50.7\n",
       "United Kingdom  38.1  58.5  56.2\n",
       "\n",
       "[22 rows x 3 columns]"
      ]
     },
     "execution_count": 347,
     "metadata": {},
     "output_type": "execute_result"
    },
    {
     "name": "stdout",
     "output_type": "stream",
     "text": [
      "No missing countries\n"
     ]
    }
   ],
   "source": [
    "# Recovery rates for packaging waste, Plastic Packaging, Percentage, Eurostat\n",
    "# https://ec.europa.eu/eurostat/databrowser/view/ten00062/\n",
    "\n",
    "wasteR = pd.read_csv(\"../data/ten00062.csv\")\n",
    "wasteR[\"geo\"] = wasteR[\"geo\"].map(abbrev_to_country).fillna(wasteR[\"geo\"])\n",
    "wasteR = wasteR[wasteR[\"geo\"].isin(countries)]\n",
    "wasteR = wasteR.pivot_table(\n",
    "    columns=\"TIME_PERIOD\", index=\"geo\", values=\"OBS_VALUE\", aggfunc=\"mean\"\n",
    ")\n",
    "mr = wasteR.columns[-1]  # most recent year\n",
    "wasteR = wasteR.ffill(axis=1)  # fill empty values with last available year\n",
    "wasteR[[2012, 2016, mr]]\n",
    "missingCountries(wasteR)"
   ]
  },
  {
   "attachments": {},
   "cell_type": "markdown",
   "metadata": {},
   "source": [
    "### 14.2\n",
    "\n",
    "#### Proportion of national exclusive economic zones managed using ecosystem-based approaches\n",
    "\n",
    "As of now, it is a binary variable: Number of countries using ecosystem-based approaches to manage marine areas\n",
    "\n",
    "Data is scarce and the next round of data collection is in 2025. More information [here](https://unstats.un.org/sdgs/metadata/files/Metadata-14-02-01.pdf)\n",
    "\n",
    "Spatial comparison within the EU is not expected to yield great differences and we neglect target 14.2.\n"
   ]
  },
  {
   "attachments": {},
   "cell_type": "markdown",
   "metadata": {},
   "source": [
    "### 14.3\n",
    "\n",
    "Average marine acidity (pH) measured at agreed suite of representative sampling stations\n",
    "\n",
    "We use two indicators:\n",
    "\n",
    "1. Greenhouse gas emissions under the Effort Sharing Decision (ESD): Max-Min transformation where the max- and min-values are the maximum and\n",
    "   minimum in the assessment period (2012-2021)\n",
    "\n",
    "2. Carbon Emissions per capita: Max-Min Transformation where the max-value and min-values are the maximum and minimum in the period 2012-2021.\n"
   ]
  },
  {
   "attachments": {},
   "cell_type": "markdown",
   "metadata": {},
   "source": [
    "#### 1. Greenhouse gas emissions under the Effort Sharing Decision (ESD)\n",
    "\n",
    "Several sources (see code)\n"
   ]
  },
  {
   "cell_type": "code",
   "execution_count": 349,
   "metadata": {},
   "outputs": [
    {
     "data": {
      "text/html": [
       "<div>\n",
       "<style scoped>\n",
       "    .dataframe tbody tr th:only-of-type {\n",
       "        vertical-align: middle;\n",
       "    }\n",
       "\n",
       "    .dataframe tbody tr th {\n",
       "        vertical-align: top;\n",
       "    }\n",
       "\n",
       "    .dataframe thead th {\n",
       "        text-align: right;\n",
       "    }\n",
       "</style>\n",
       "<table border=\"1\" class=\"dataframe\">\n",
       "  <thead>\n",
       "    <tr style=\"text-align: right;\">\n",
       "      <th></th>\n",
       "      <th>2005</th>\n",
       "      <th>2006</th>\n",
       "      <th>2007</th>\n",
       "      <th>2008</th>\n",
       "      <th>2009</th>\n",
       "      <th>2010</th>\n",
       "      <th>2011</th>\n",
       "      <th>2012</th>\n",
       "      <th>2013</th>\n",
       "      <th>2014</th>\n",
       "      <th>2015</th>\n",
       "      <th>2016</th>\n",
       "      <th>2017</th>\n",
       "      <th>2018</th>\n",
       "      <th>2019</th>\n",
       "      <th>2020</th>\n",
       "      <th>2021</th>\n",
       "    </tr>\n",
       "    <tr>\n",
       "      <th>Geographic entity</th>\n",
       "      <th></th>\n",
       "      <th></th>\n",
       "      <th></th>\n",
       "      <th></th>\n",
       "      <th></th>\n",
       "      <th></th>\n",
       "      <th></th>\n",
       "      <th></th>\n",
       "      <th></th>\n",
       "      <th></th>\n",
       "      <th></th>\n",
       "      <th></th>\n",
       "      <th></th>\n",
       "      <th></th>\n",
       "      <th></th>\n",
       "      <th></th>\n",
       "      <th></th>\n",
       "    </tr>\n",
       "  </thead>\n",
       "  <tbody>\n",
       "    <tr>\n",
       "      <th>Belgium</th>\n",
       "      <td>7.894226e+07</td>\n",
       "      <td>7.769173e+07</td>\n",
       "      <td>7.676470e+07</td>\n",
       "      <td>7.920489e+07</td>\n",
       "      <td>7.582344e+07</td>\n",
       "      <td>7.888709e+07</td>\n",
       "      <td>7.351803e+07</td>\n",
       "      <td>7.394155e+07</td>\n",
       "      <td>74264633.0</td>\n",
       "      <td>70054910.0</td>\n",
       "      <td>7.271952e+07</td>\n",
       "      <td>7.406315e+07</td>\n",
       "      <td>7.082456e+07</td>\n",
       "      <td>7.425386e+07</td>\n",
       "      <td>7.201355e+07</td>\n",
       "      <td>64904157.0</td>\n",
       "      <td>6.952621e+07</td>\n",
       "    </tr>\n",
       "    <tr>\n",
       "      <th>Bulgaria</th>\n",
       "      <td>2.415308e+07</td>\n",
       "      <td>2.484923e+07</td>\n",
       "      <td>2.564486e+07</td>\n",
       "      <td>2.531097e+07</td>\n",
       "      <td>2.305398e+07</td>\n",
       "      <td>2.425483e+07</td>\n",
       "      <td>2.313565e+07</td>\n",
       "      <td>2.323988e+07</td>\n",
       "      <td>22238074.0</td>\n",
       "      <td>22900867.0</td>\n",
       "      <td>2.535487e+07</td>\n",
       "      <td>2.558795e+07</td>\n",
       "      <td>2.652679e+07</td>\n",
       "      <td>2.633923e+07</td>\n",
       "      <td>2.581452e+07</td>\n",
       "      <td>25735613.0</td>\n",
       "      <td>2.548095e+07</td>\n",
       "    </tr>\n",
       "    <tr>\n",
       "      <th>Croatia</th>\n",
       "      <td>1.719954e+07</td>\n",
       "      <td>1.753447e+07</td>\n",
       "      <td>1.786322e+07</td>\n",
       "      <td>1.787936e+07</td>\n",
       "      <td>1.713561e+07</td>\n",
       "      <td>1.737437e+07</td>\n",
       "      <td>1.719106e+07</td>\n",
       "      <td>1.628062e+07</td>\n",
       "      <td>15125525.0</td>\n",
       "      <td>14663196.0</td>\n",
       "      <td>1.556530e+07</td>\n",
       "      <td>1.600681e+07</td>\n",
       "      <td>1.666930e+07</td>\n",
       "      <td>1.621917e+07</td>\n",
       "      <td>1.605824e+07</td>\n",
       "      <td>16518244.0</td>\n",
       "      <td>1.623321e+07</td>\n",
       "    </tr>\n",
       "    <tr>\n",
       "      <th>Cyprus</th>\n",
       "      <td>4.137555e+06</td>\n",
       "      <td>4.220011e+06</td>\n",
       "      <td>4.416551e+06</td>\n",
       "      <td>4.457502e+06</td>\n",
       "      <td>4.435488e+06</td>\n",
       "      <td>4.415135e+06</td>\n",
       "      <td>4.562467e+06</td>\n",
       "      <td>4.250998e+06</td>\n",
       "      <td>3938120.0</td>\n",
       "      <td>3924856.0</td>\n",
       "      <td>4.060621e+06</td>\n",
       "      <td>4.111441e+06</td>\n",
       "      <td>4.270890e+06</td>\n",
       "      <td>4.162760e+06</td>\n",
       "      <td>4.377563e+06</td>\n",
       "      <td>4243155.0</td>\n",
       "      <td>4.604652e+06</td>\n",
       "    </tr>\n",
       "    <tr>\n",
       "      <th>Denmark</th>\n",
       "      <td>4.039735e+07</td>\n",
       "      <td>4.037132e+07</td>\n",
       "      <td>4.047414e+07</td>\n",
       "      <td>3.975169e+07</td>\n",
       "      <td>3.804919e+07</td>\n",
       "      <td>3.836427e+07</td>\n",
       "      <td>3.695189e+07</td>\n",
       "      <td>3.567756e+07</td>\n",
       "      <td>33705936.0</td>\n",
       "      <td>32643514.0</td>\n",
       "      <td>3.252022e+07</td>\n",
       "      <td>3.312468e+07</td>\n",
       "      <td>3.267691e+07</td>\n",
       "      <td>3.314244e+07</td>\n",
       "      <td>3.205059e+07</td>\n",
       "      <td>30835287.0</td>\n",
       "      <td>2.937253e+07</td>\n",
       "    </tr>\n",
       "    <tr>\n",
       "      <th>...</th>\n",
       "      <td>...</td>\n",
       "      <td>...</td>\n",
       "      <td>...</td>\n",
       "      <td>...</td>\n",
       "      <td>...</td>\n",
       "      <td>...</td>\n",
       "      <td>...</td>\n",
       "      <td>...</td>\n",
       "      <td>...</td>\n",
       "      <td>...</td>\n",
       "      <td>...</td>\n",
       "      <td>...</td>\n",
       "      <td>...</td>\n",
       "      <td>...</td>\n",
       "      <td>...</td>\n",
       "      <td>...</td>\n",
       "      <td>...</td>\n",
       "    </tr>\n",
       "    <tr>\n",
       "      <th>Portugal</th>\n",
       "      <td>4.700460e+07</td>\n",
       "      <td>4.556860e+07</td>\n",
       "      <td>4.516036e+07</td>\n",
       "      <td>4.488679e+07</td>\n",
       "      <td>4.359351e+07</td>\n",
       "      <td>4.347835e+07</td>\n",
       "      <td>4.139132e+07</td>\n",
       "      <td>3.923774e+07</td>\n",
       "      <td>38610318.0</td>\n",
       "      <td>38836638.0</td>\n",
       "      <td>4.061406e+07</td>\n",
       "      <td>4.157259e+07</td>\n",
       "      <td>4.018637e+07</td>\n",
       "      <td>4.057186e+07</td>\n",
       "      <td>4.152706e+07</td>\n",
       "      <td>38536930.0</td>\n",
       "      <td>4.048186e+07</td>\n",
       "    </tr>\n",
       "    <tr>\n",
       "      <th>Romania</th>\n",
       "      <td>7.491422e+07</td>\n",
       "      <td>7.630262e+07</td>\n",
       "      <td>7.306953e+07</td>\n",
       "      <td>7.665722e+07</td>\n",
       "      <td>7.099121e+07</td>\n",
       "      <td>6.802843e+07</td>\n",
       "      <td>7.109107e+07</td>\n",
       "      <td>7.279826e+07</td>\n",
       "      <td>72718616.0</td>\n",
       "      <td>72534134.0</td>\n",
       "      <td>7.455538e+07</td>\n",
       "      <td>7.312304e+07</td>\n",
       "      <td>7.536325e+07</td>\n",
       "      <td>7.765366e+07</td>\n",
       "      <td>7.521134e+07</td>\n",
       "      <td>77123535.0</td>\n",
       "      <td>8.227412e+07</td>\n",
       "    </tr>\n",
       "    <tr>\n",
       "      <th>Spain</th>\n",
       "      <td>2.381348e+08</td>\n",
       "      <td>2.418053e+08</td>\n",
       "      <td>2.462463e+08</td>\n",
       "      <td>2.355816e+08</td>\n",
       "      <td>2.229995e+08</td>\n",
       "      <td>2.245418e+08</td>\n",
       "      <td>2.135237e+08</td>\n",
       "      <td>2.041969e+08</td>\n",
       "      <td>200277677.0</td>\n",
       "      <td>199755020.0</td>\n",
       "      <td>1.961532e+08</td>\n",
       "      <td>1.984722e+08</td>\n",
       "      <td>2.011074e+08</td>\n",
       "      <td>2.030298e+08</td>\n",
       "      <td>2.018787e+08</td>\n",
       "      <td>184188341.0</td>\n",
       "      <td>1.948029e+08</td>\n",
       "    </tr>\n",
       "    <tr>\n",
       "      <th>Sweden</th>\n",
       "      <td>4.272485e+07</td>\n",
       "      <td>4.178460e+07</td>\n",
       "      <td>4.187305e+07</td>\n",
       "      <td>4.019959e+07</td>\n",
       "      <td>3.889854e+07</td>\n",
       "      <td>3.965155e+07</td>\n",
       "      <td>3.832618e+07</td>\n",
       "      <td>3.728999e+07</td>\n",
       "      <td>35278781.0</td>\n",
       "      <td>34522651.0</td>\n",
       "      <td>3.389718e+07</td>\n",
       "      <td>3.261225e+07</td>\n",
       "      <td>3.253054e+07</td>\n",
       "      <td>3.140023e+07</td>\n",
       "      <td>3.167970e+07</td>\n",
       "      <td>29384094.0</td>\n",
       "      <td>2.933604e+07</td>\n",
       "    </tr>\n",
       "    <tr>\n",
       "      <th>United Kingdom</th>\n",
       "      <td>4.099004e+08</td>\n",
       "      <td>3.945966e+08</td>\n",
       "      <td>3.856355e+08</td>\n",
       "      <td>3.772300e+08</td>\n",
       "      <td>3.557851e+08</td>\n",
       "      <td>3.646879e+08</td>\n",
       "      <td>3.372359e+08</td>\n",
       "      <td>3.435564e+08</td>\n",
       "      <td>339450356.0</td>\n",
       "      <td>324444705.0</td>\n",
       "      <td>3.260279e+08</td>\n",
       "      <td>3.338998e+08</td>\n",
       "      <td>3.320508e+08</td>\n",
       "      <td>3.294003e+08</td>\n",
       "      <td>3.291002e+08</td>\n",
       "      <td>298936220.0</td>\n",
       "      <td>NaN</td>\n",
       "    </tr>\n",
       "  </tbody>\n",
       "</table>\n",
       "<p>22 rows × 17 columns</p>\n",
       "</div>"
      ],
      "text/plain": [
       "                           2005          2006          2007          2008  \\\n",
       "Geographic entity                                                           \n",
       "Belgium            7.894226e+07  7.769173e+07  7.676470e+07  7.920489e+07   \n",
       "Bulgaria           2.415308e+07  2.484923e+07  2.564486e+07  2.531097e+07   \n",
       "Croatia            1.719954e+07  1.753447e+07  1.786322e+07  1.787936e+07   \n",
       "Cyprus             4.137555e+06  4.220011e+06  4.416551e+06  4.457502e+06   \n",
       "Denmark            4.039735e+07  4.037132e+07  4.047414e+07  3.975169e+07   \n",
       "...                         ...           ...           ...           ...   \n",
       "Portugal           4.700460e+07  4.556860e+07  4.516036e+07  4.488679e+07   \n",
       "Romania            7.491422e+07  7.630262e+07  7.306953e+07  7.665722e+07   \n",
       "Spain              2.381348e+08  2.418053e+08  2.462463e+08  2.355816e+08   \n",
       "Sweden             4.272485e+07  4.178460e+07  4.187305e+07  4.019959e+07   \n",
       "United Kingdom     4.099004e+08  3.945966e+08  3.856355e+08  3.772300e+08   \n",
       "\n",
       "                           2009          2010          2011          2012  \\\n",
       "Geographic entity                                                           \n",
       "Belgium            7.582344e+07  7.888709e+07  7.351803e+07  7.394155e+07   \n",
       "Bulgaria           2.305398e+07  2.425483e+07  2.313565e+07  2.323988e+07   \n",
       "Croatia            1.713561e+07  1.737437e+07  1.719106e+07  1.628062e+07   \n",
       "Cyprus             4.435488e+06  4.415135e+06  4.562467e+06  4.250998e+06   \n",
       "Denmark            3.804919e+07  3.836427e+07  3.695189e+07  3.567756e+07   \n",
       "...                         ...           ...           ...           ...   \n",
       "Portugal           4.359351e+07  4.347835e+07  4.139132e+07  3.923774e+07   \n",
       "Romania            7.099121e+07  6.802843e+07  7.109107e+07  7.279826e+07   \n",
       "Spain              2.229995e+08  2.245418e+08  2.135237e+08  2.041969e+08   \n",
       "Sweden             3.889854e+07  3.965155e+07  3.832618e+07  3.728999e+07   \n",
       "United Kingdom     3.557851e+08  3.646879e+08  3.372359e+08  3.435564e+08   \n",
       "\n",
       "                          2013         2014          2015          2016  \\\n",
       "Geographic entity                                                         \n",
       "Belgium             74264633.0   70054910.0  7.271952e+07  7.406315e+07   \n",
       "Bulgaria            22238074.0   22900867.0  2.535487e+07  2.558795e+07   \n",
       "Croatia             15125525.0   14663196.0  1.556530e+07  1.600681e+07   \n",
       "Cyprus               3938120.0    3924856.0  4.060621e+06  4.111441e+06   \n",
       "Denmark             33705936.0   32643514.0  3.252022e+07  3.312468e+07   \n",
       "...                        ...          ...           ...           ...   \n",
       "Portugal            38610318.0   38836638.0  4.061406e+07  4.157259e+07   \n",
       "Romania             72718616.0   72534134.0  7.455538e+07  7.312304e+07   \n",
       "Spain              200277677.0  199755020.0  1.961532e+08  1.984722e+08   \n",
       "Sweden              35278781.0   34522651.0  3.389718e+07  3.261225e+07   \n",
       "United Kingdom     339450356.0  324444705.0  3.260279e+08  3.338998e+08   \n",
       "\n",
       "                           2017          2018          2019         2020  \\\n",
       "Geographic entity                                                          \n",
       "Belgium            7.082456e+07  7.425386e+07  7.201355e+07   64904157.0   \n",
       "Bulgaria           2.652679e+07  2.633923e+07  2.581452e+07   25735613.0   \n",
       "Croatia            1.666930e+07  1.621917e+07  1.605824e+07   16518244.0   \n",
       "Cyprus             4.270890e+06  4.162760e+06  4.377563e+06    4243155.0   \n",
       "Denmark            3.267691e+07  3.314244e+07  3.205059e+07   30835287.0   \n",
       "...                         ...           ...           ...          ...   \n",
       "Portugal           4.018637e+07  4.057186e+07  4.152706e+07   38536930.0   \n",
       "Romania            7.536325e+07  7.765366e+07  7.521134e+07   77123535.0   \n",
       "Spain              2.011074e+08  2.030298e+08  2.018787e+08  184188341.0   \n",
       "Sweden             3.253054e+07  3.140023e+07  3.167970e+07   29384094.0   \n",
       "United Kingdom     3.320508e+08  3.294003e+08  3.291002e+08  298936220.0   \n",
       "\n",
       "                           2021  \n",
       "Geographic entity                \n",
       "Belgium            6.952621e+07  \n",
       "Bulgaria           2.548095e+07  \n",
       "Croatia            1.623321e+07  \n",
       "Cyprus             4.604652e+06  \n",
       "Denmark            2.937253e+07  \n",
       "...                         ...  \n",
       "Portugal           4.048186e+07  \n",
       "Romania            8.227412e+07  \n",
       "Spain              1.948029e+08  \n",
       "Sweden             2.933604e+07  \n",
       "United Kingdom              NaN  \n",
       "\n",
       "[22 rows x 17 columns]"
      ]
     },
     "execution_count": 349,
     "metadata": {},
     "output_type": "execute_result"
    }
   ],
   "source": [
    "# Greenhouse gas emissions under the Effort Sharing Decision (ESD), Million tonnes CO2 equivalent (Mt CO2 eq), European Environment Agency\n",
    "# https://www.eea.europa.eu/data-and-maps/data/esd-4\n",
    "\n",
    "ghgESD = pd.read_excel(\"../data/EEA_ESD-GHG_2022.xlsx\", sheet_name=1, skiprows=11)\n",
    "ghgESD = ghgESD[ghgESD[\"Geographic entity\"].isin(countries)]\n",
    "ghgESD = ghgESD.set_index(\"Geographic entity\")\n",
    "ghgESD = ghgESD.dropna(axis=1, how=\"all\")\n",
    "\n",
    "mr = ghgESD.columns[-1]  # most recent year\n",
    "ghgESD = ghgESD * 1_000_000\n",
    "ghgESD"
   ]
  },
  {
   "cell_type": "code",
   "execution_count": 354,
   "metadata": {},
   "outputs": [
    {
     "data": {
      "text/html": [
       "<div>\n",
       "<style scoped>\n",
       "    .dataframe tbody tr th:only-of-type {\n",
       "        vertical-align: middle;\n",
       "    }\n",
       "\n",
       "    .dataframe tbody tr th {\n",
       "        vertical-align: top;\n",
       "    }\n",
       "\n",
       "    .dataframe thead th {\n",
       "        text-align: right;\n",
       "    }\n",
       "</style>\n",
       "<table border=\"1\" class=\"dataframe\">\n",
       "  <thead>\n",
       "    <tr style=\"text-align: right;\">\n",
       "      <th></th>\n",
       "      <th>2012</th>\n",
       "      <th>2016</th>\n",
       "      <th>2021</th>\n",
       "    </tr>\n",
       "    <tr>\n",
       "      <th>Geographic entity</th>\n",
       "      <th></th>\n",
       "      <th></th>\n",
       "      <th></th>\n",
       "    </tr>\n",
       "  </thead>\n",
       "  <tbody>\n",
       "    <tr>\n",
       "      <th>Belgium</th>\n",
       "      <td>100.0</td>\n",
       "      <td>99.633951</td>\n",
       "      <td>100.00000</td>\n",
       "    </tr>\n",
       "    <tr>\n",
       "      <th>Bulgaria</th>\n",
       "      <td>100.0</td>\n",
       "      <td>100.000000</td>\n",
       "      <td>100.00000</td>\n",
       "    </tr>\n",
       "    <tr>\n",
       "      <th>Croatia</th>\n",
       "      <td>100.0</td>\n",
       "      <td>100.000000</td>\n",
       "      <td>100.00000</td>\n",
       "    </tr>\n",
       "    <tr>\n",
       "      <th>Cyprus</th>\n",
       "      <td>100.0</td>\n",
       "      <td>100.000000</td>\n",
       "      <td>86.94582</td>\n",
       "    </tr>\n",
       "    <tr>\n",
       "      <th>Denmark</th>\n",
       "      <td>100.0</td>\n",
       "      <td>100.000000</td>\n",
       "      <td>100.00000</td>\n",
       "    </tr>\n",
       "    <tr>\n",
       "      <th>...</th>\n",
       "      <td>...</td>\n",
       "      <td>...</td>\n",
       "      <td>...</td>\n",
       "    </tr>\n",
       "    <tr>\n",
       "      <th>Portugal</th>\n",
       "      <td>100.0</td>\n",
       "      <td>100.000000</td>\n",
       "      <td>100.00000</td>\n",
       "    </tr>\n",
       "    <tr>\n",
       "      <th>Romania</th>\n",
       "      <td>100.0</td>\n",
       "      <td>100.000000</td>\n",
       "      <td>100.00000</td>\n",
       "    </tr>\n",
       "    <tr>\n",
       "      <th>Spain</th>\n",
       "      <td>100.0</td>\n",
       "      <td>100.000000</td>\n",
       "      <td>100.00000</td>\n",
       "    </tr>\n",
       "    <tr>\n",
       "      <th>Sweden</th>\n",
       "      <td>100.0</td>\n",
       "      <td>100.000000</td>\n",
       "      <td>100.00000</td>\n",
       "    </tr>\n",
       "    <tr>\n",
       "      <th>United Kingdom</th>\n",
       "      <td>100.0</td>\n",
       "      <td>100.000000</td>\n",
       "      <td>100.00000</td>\n",
       "    </tr>\n",
       "  </tbody>\n",
       "</table>\n",
       "<p>22 rows × 3 columns</p>\n",
       "</div>"
      ],
      "text/plain": [
       "                    2012        2016       2021\n",
       "Geographic entity                              \n",
       "Belgium            100.0   99.633951  100.00000\n",
       "Bulgaria           100.0  100.000000  100.00000\n",
       "Croatia            100.0  100.000000  100.00000\n",
       "Cyprus             100.0  100.000000   86.94582\n",
       "Denmark            100.0  100.000000  100.00000\n",
       "...                  ...         ...        ...\n",
       "Portugal           100.0  100.000000  100.00000\n",
       "Romania            100.0  100.000000  100.00000\n",
       "Spain              100.0  100.000000  100.00000\n",
       "Sweden             100.0  100.000000  100.00000\n",
       "United Kingdom     100.0  100.000000  100.00000\n",
       "\n",
       "[22 rows x 3 columns]"
      ]
     },
     "execution_count": 354,
     "metadata": {},
     "output_type": "execute_result"
    },
    {
     "name": "stdout",
     "output_type": "stream",
     "text": [
      "No missing countries\n"
     ]
    }
   ],
   "source": [
    "# Build ESD allocation with two sources and interpolation for years previous to 2013\n",
    "\n",
    "# Allocation for 2020 target\n",
    "# https://ec.europa.eu/clima/ets/esdAllocations.do?languageCode=en&esdRegistry=-1&esdYear=&search=Search&currentSortSettings=\n",
    "allocation2020 = pd.read_xml(\n",
    "    \"../data/esdAllocations2020.xml\", xpath=\".//ESDAllocations/ESDAllocationInfo\"\n",
    ")\n",
    "allocation2020[\"Country\"] = (\n",
    "    allocation2020[\"ESDMemberState\"]\n",
    "    .map(abbrev_to_country)\n",
    "    .fillna(allocation2020[\"ESDMemberState\"])\n",
    ")\n",
    "allocation2020 = allocation2020[allocation2020[\"Country\"].isin(countries)]\n",
    "allocation2020 = allocation2020.pivot_table(\n",
    "    columns=\"ESDYear\", index=\"Country\", values=\"Allocation\", aggfunc=\"mean\"\n",
    ")\n",
    "\n",
    "# Allocation for 2030 target\n",
    "# https://eur-lex.europa.eu/legal-content/EN/TXT/HTML/?uri=CELEX:32020D2126\n",
    "allocation2030 = pd.read_html(\"../data/esdAllocations2030.html\")[13][1:]\n",
    "allocation2030.columns = allocation2030.iloc[0]\n",
    "allocation2030 = allocation2030[1:]\n",
    "allocation2030.loc[\n",
    "    allocation2030[\"Member State\"].str.contains(\"Netherlands\"), \"Member State\"\n",
    "] = \"Netherlands\"\n",
    "allocation2030 = allocation2030[allocation2030[\"Member State\"].isin(countries)]\n",
    "allocation2030.set_index(\"Member State\", inplace=True)\n",
    "for col in allocation2030.columns:\n",
    "    allocation2030[col] = allocation2030[col].apply(\n",
    "        lambda x: str(x).replace(\"\\xa0\", \"\")\n",
    "    )\n",
    "allocation2030 = allocation2030.astype(int)\n",
    "\n",
    "# Merge 2005 values with 2020 and 2030 allocations. Interpolate for years 2006-2012\n",
    "allocationESD = ghgESD[[2005]].merge(\n",
    "    allocation2020.merge(\n",
    "        allocation2030, left_index=True, right_index=True, how=\"outer\"\n",
    "    ),\n",
    "    left_index=True,\n",
    "    right_index=True,\n",
    "    how=\"outer\",\n",
    ")\n",
    "allocationESD.columns = allocationESD.columns.astype(int)\n",
    "allocationESD[list(range(2006, 2013))] = np.nan  # create empty columns for 2006-2012\n",
    "allocationESD = allocationESD[list(range(2005, 2031))]\n",
    "allocationESD.interpolate(axis=1, inplace=True)\n",
    "\n",
    "# Calculate score for ESD\n",
    "scoreESD = 100 - (100 * (ghgESD - allocationESD) / allocationESD)\n",
    "scoreESD[scoreESD > 100] = 100\n",
    "scoreESD = scoreESD.ffill(axis=1)  # fill empty values with last available year\n",
    "scoreESD[[2012, 2016, 2021]]\n",
    "missingCountries(scoreESD)"
   ]
  },
  {
   "attachments": {},
   "cell_type": "markdown",
   "metadata": {},
   "source": [
    "Alternative (dif-ref) score for ESD (measuring this way does not make a lot of sense to me)\n"
   ]
  },
  {
   "cell_type": "code",
   "execution_count": 15,
   "metadata": {},
   "outputs": [
    {
     "data": {
      "text/html": [
       "<div>\n",
       "<style scoped>\n",
       "    .dataframe tbody tr th:only-of-type {\n",
       "        vertical-align: middle;\n",
       "    }\n",
       "\n",
       "    .dataframe tbody tr th {\n",
       "        vertical-align: top;\n",
       "    }\n",
       "\n",
       "    .dataframe thead th {\n",
       "        text-align: right;\n",
       "    }\n",
       "</style>\n",
       "<table border=\"1\" class=\"dataframe\">\n",
       "  <thead>\n",
       "    <tr style=\"text-align: right;\">\n",
       "      <th></th>\n",
       "      <th>2012</th>\n",
       "      <th>2018</th>\n",
       "      <th>2021</th>\n",
       "    </tr>\n",
       "    <tr>\n",
       "      <th>Geographic entity</th>\n",
       "      <th></th>\n",
       "      <th></th>\n",
       "      <th></th>\n",
       "    </tr>\n",
       "  </thead>\n",
       "  <tbody>\n",
       "    <tr>\n",
       "      <th>Belgium</th>\n",
       "      <td>91.656932</td>\n",
       "      <td>91.199322</td>\n",
       "      <td>68.926378</td>\n",
       "    </tr>\n",
       "    <tr>\n",
       "      <th>Bulgaria</th>\n",
       "      <td>100.000000</td>\n",
       "      <td>100.000000</td>\n",
       "      <td>85.870684</td>\n",
       "    </tr>\n",
       "    <tr>\n",
       "      <th>Croatia</th>\n",
       "      <td>100.000000</td>\n",
       "      <td>100.000000</td>\n",
       "      <td>100.000000</td>\n",
       "    </tr>\n",
       "    <tr>\n",
       "      <th>Cyprus</th>\n",
       "      <td>93.063293</td>\n",
       "      <td>95.282985</td>\n",
       "      <td>58.003181</td>\n",
       "    </tr>\n",
       "    <tr>\n",
       "      <th>Denmark</th>\n",
       "      <td>88.726856</td>\n",
       "      <td>96.633523</td>\n",
       "      <td>80.718421</td>\n",
       "    </tr>\n",
       "    <tr>\n",
       "      <th>Estonia</th>\n",
       "      <td>92.497465</td>\n",
       "      <td>98.385997</td>\n",
       "      <td>86.192175</td>\n",
       "    </tr>\n",
       "    <tr>\n",
       "      <th>Finland</th>\n",
       "      <td>87.856553</td>\n",
       "      <td>95.061850</td>\n",
       "      <td>70.558746</td>\n",
       "    </tr>\n",
       "    <tr>\n",
       "      <th>France</th>\n",
       "      <td>93.315120</td>\n",
       "      <td>100.000000</td>\n",
       "      <td>70.431556</td>\n",
       "    </tr>\n",
       "    <tr>\n",
       "      <th>Germany</th>\n",
       "      <td>93.219499</td>\n",
       "      <td>94.368820</td>\n",
       "      <td>65.038617</td>\n",
       "    </tr>\n",
       "    <tr>\n",
       "      <th>Greece</th>\n",
       "      <td>100.000000</td>\n",
       "      <td>100.000000</td>\n",
       "      <td>100.000000</td>\n",
       "    </tr>\n",
       "    <tr>\n",
       "      <th>Ireland</th>\n",
       "      <td>89.746323</td>\n",
       "      <td>79.476854</td>\n",
       "      <td>64.730193</td>\n",
       "    </tr>\n",
       "    <tr>\n",
       "      <th>Italy</th>\n",
       "      <td>97.895965</td>\n",
       "      <td>100.000000</td>\n",
       "      <td>82.319661</td>\n",
       "    </tr>\n",
       "    <tr>\n",
       "      <th>Latvia</th>\n",
       "      <td>100.000000</td>\n",
       "      <td>100.000000</td>\n",
       "      <td>93.071966</td>\n",
       "    </tr>\n",
       "    <tr>\n",
       "      <th>Lithuania</th>\n",
       "      <td>100.000000</td>\n",
       "      <td>100.000000</td>\n",
       "      <td>76.951109</td>\n",
       "    </tr>\n",
       "    <tr>\n",
       "      <th>Malta</th>\n",
       "      <td>100.000000</td>\n",
       "      <td>81.959640</td>\n",
       "      <td>41.708830</td>\n",
       "    </tr>\n",
       "    <tr>\n",
       "      <th>Netherlands</th>\n",
       "      <td>92.446999</td>\n",
       "      <td>100.000000</td>\n",
       "      <td>86.997350</td>\n",
       "    </tr>\n",
       "    <tr>\n",
       "      <th>Poland</th>\n",
       "      <td>100.000000</td>\n",
       "      <td>96.173054</td>\n",
       "      <td>82.836723</td>\n",
       "    </tr>\n",
       "    <tr>\n",
       "      <th>Portugal</th>\n",
       "      <td>100.000000</td>\n",
       "      <td>100.000000</td>\n",
       "      <td>99.847374</td>\n",
       "    </tr>\n",
       "    <tr>\n",
       "      <th>Romania</th>\n",
       "      <td>100.000000</td>\n",
       "      <td>100.000000</td>\n",
       "      <td>92.692054</td>\n",
       "    </tr>\n",
       "    <tr>\n",
       "      <th>Spain</th>\n",
       "      <td>100.000000</td>\n",
       "      <td>100.000000</td>\n",
       "      <td>91.809604</td>\n",
       "    </tr>\n",
       "    <tr>\n",
       "      <th>Sweden</th>\n",
       "      <td>96.646863</td>\n",
       "      <td>100.000000</td>\n",
       "      <td>86.895445</td>\n",
       "    </tr>\n",
       "    <tr>\n",
       "      <th>United Kingdom</th>\n",
       "      <td>100.000000</td>\n",
       "      <td>100.000000</td>\n",
       "      <td>NaN</td>\n",
       "    </tr>\n",
       "  </tbody>\n",
       "</table>\n",
       "</div>"
      ],
      "text/plain": [
       "                         2012        2018        2021\n",
       "Geographic entity                                    \n",
       "Belgium             91.656932   91.199322   68.926378\n",
       "Bulgaria           100.000000  100.000000   85.870684\n",
       "Croatia            100.000000  100.000000  100.000000\n",
       "Cyprus              93.063293   95.282985   58.003181\n",
       "Denmark             88.726856   96.633523   80.718421\n",
       "Estonia             92.497465   98.385997   86.192175\n",
       "Finland             87.856553   95.061850   70.558746\n",
       "France              93.315120  100.000000   70.431556\n",
       "Germany             93.219499   94.368820   65.038617\n",
       "Greece             100.000000  100.000000  100.000000\n",
       "Ireland             89.746323   79.476854   64.730193\n",
       "Italy               97.895965  100.000000   82.319661\n",
       "Latvia             100.000000  100.000000   93.071966\n",
       "Lithuania          100.000000  100.000000   76.951109\n",
       "Malta              100.000000   81.959640   41.708830\n",
       "Netherlands         92.446999  100.000000   86.997350\n",
       "Poland             100.000000   96.173054   82.836723\n",
       "Portugal           100.000000  100.000000   99.847374\n",
       "Romania            100.000000  100.000000   92.692054\n",
       "Spain              100.000000  100.000000   91.809604\n",
       "Sweden              96.646863  100.000000   86.895445\n",
       "United Kingdom     100.000000  100.000000         NaN"
      ]
     },
     "execution_count": 15,
     "metadata": {},
     "output_type": "execute_result"
    }
   ],
   "source": [
    "# Alternative (dif-ref) score for ESD (measuring this way does not make a lot of sense to me)\n",
    "\n",
    "scoreESD2020 = 100 - 100 * (\n",
    "    ghgESD.loc[:, :2020].subtract(allocationESD[2020], axis=0)\n",
    ").divide(allocationESD[2020], axis=0)\n",
    "scoreESD2030 = 100 - 100 * (\n",
    "    ghgESD.loc[:, 2021:].subtract(allocationESD[2030], axis=0)\n",
    ").divide(allocationESD[2030], axis=0)\n",
    "scoreESD1 = scoreESD2020.merge(scoreESD2030, left_index=True, right_index=True)\n",
    "scoreESD1[scoreESD1 > 100] = 100\n",
    "scoreESD1[[2012, 2018, 2021]]"
   ]
  },
  {
   "attachments": {},
   "cell_type": "markdown",
   "metadata": {},
   "source": [
    "#### 2. Carbon emissions per capita\n",
    "\n",
    "Several sources (see code)\n"
   ]
  },
  {
   "cell_type": "code",
   "execution_count": 16,
   "metadata": {},
   "outputs": [],
   "source": [
    "# Population on 1 January, Eurostat\n",
    "# https://ec.europa.eu/eurostat/databrowser/view/tps00001/\n",
    "\n",
    "pop = pd.read_csv(\"../data/tps00001.csv\")\n",
    "pop[\"geo\"] = pop[\"geo\"].map(abbrev_to_country).fillna(pop[\"geo\"])\n",
    "pop = pop[pop[\"geo\"].isin(countries)]\n",
    "pop = pop.pivot_table(\n",
    "    columns=\"TIME_PERIOD\", index=\"geo\", values=\"OBS_VALUE\", aggfunc=\"mean\"\n",
    ")"
   ]
  },
  {
   "cell_type": "code",
   "execution_count": 356,
   "metadata": {},
   "outputs": [
    {
     "data": {
      "text/html": [
       "<div>\n",
       "<style scoped>\n",
       "    .dataframe tbody tr th:only-of-type {\n",
       "        vertical-align: middle;\n",
       "    }\n",
       "\n",
       "    .dataframe tbody tr th {\n",
       "        vertical-align: top;\n",
       "    }\n",
       "\n",
       "    .dataframe thead th {\n",
       "        text-align: right;\n",
       "    }\n",
       "</style>\n",
       "<table border=\"1\" class=\"dataframe\">\n",
       "  <thead>\n",
       "    <tr style=\"text-align: right;\">\n",
       "      <th>TIME_PERIOD</th>\n",
       "      <th>1988</th>\n",
       "      <th>1989</th>\n",
       "      <th>1990</th>\n",
       "      <th>1991</th>\n",
       "      <th>1992</th>\n",
       "      <th>1993</th>\n",
       "      <th>1994</th>\n",
       "      <th>1995</th>\n",
       "      <th>1996</th>\n",
       "      <th>1997</th>\n",
       "      <th>...</th>\n",
       "      <th>2013</th>\n",
       "      <th>2014</th>\n",
       "      <th>2015</th>\n",
       "      <th>2016</th>\n",
       "      <th>2017</th>\n",
       "      <th>2018</th>\n",
       "      <th>2019</th>\n",
       "      <th>2020</th>\n",
       "      <th>2021</th>\n",
       "      <th>2022</th>\n",
       "    </tr>\n",
       "    <tr>\n",
       "      <th>geo</th>\n",
       "      <th></th>\n",
       "      <th></th>\n",
       "      <th></th>\n",
       "      <th></th>\n",
       "      <th></th>\n",
       "      <th></th>\n",
       "      <th></th>\n",
       "      <th></th>\n",
       "      <th></th>\n",
       "      <th></th>\n",
       "      <th></th>\n",
       "      <th></th>\n",
       "      <th></th>\n",
       "      <th></th>\n",
       "      <th></th>\n",
       "      <th></th>\n",
       "      <th></th>\n",
       "      <th></th>\n",
       "      <th></th>\n",
       "      <th></th>\n",
       "      <th></th>\n",
       "    </tr>\n",
       "  </thead>\n",
       "  <tbody>\n",
       "    <tr>\n",
       "      <th>Belgium</th>\n",
       "      <td>NaN</td>\n",
       "      <td>NaN</td>\n",
       "      <td>NaN</td>\n",
       "      <td>NaN</td>\n",
       "      <td>NaN</td>\n",
       "      <td>NaN</td>\n",
       "      <td>NaN</td>\n",
       "      <td>NaN</td>\n",
       "      <td>NaN</td>\n",
       "      <td>NaN</td>\n",
       "      <td>...</td>\n",
       "      <td>9564.893939</td>\n",
       "      <td>9027.680389</td>\n",
       "      <td>9384.259029</td>\n",
       "      <td>9192.649143</td>\n",
       "      <td>9155.052795</td>\n",
       "      <td>9213.232445</td>\n",
       "      <td>9131.633407</td>\n",
       "      <td>8155.779505</td>\n",
       "      <td>NaN</td>\n",
       "      <td>NaN</td>\n",
       "    </tr>\n",
       "    <tr>\n",
       "      <th>Bulgaria</th>\n",
       "      <td>NaN</td>\n",
       "      <td>NaN</td>\n",
       "      <td>NaN</td>\n",
       "      <td>NaN</td>\n",
       "      <td>NaN</td>\n",
       "      <td>NaN</td>\n",
       "      <td>NaN</td>\n",
       "      <td>NaN</td>\n",
       "      <td>NaN</td>\n",
       "      <td>NaN</td>\n",
       "      <td>...</td>\n",
       "      <td>5924.200967</td>\n",
       "      <td>6317.365513</td>\n",
       "      <td>6774.230589</td>\n",
       "      <td>6447.039776</td>\n",
       "      <td>6798.518529</td>\n",
       "      <td>6295.373895</td>\n",
       "      <td>6140.487217</td>\n",
       "      <td>5377.837417</td>\n",
       "      <td>NaN</td>\n",
       "      <td>NaN</td>\n",
       "    </tr>\n",
       "    <tr>\n",
       "      <th>Croatia</th>\n",
       "      <td>NaN</td>\n",
       "      <td>NaN</td>\n",
       "      <td>NaN</td>\n",
       "      <td>NaN</td>\n",
       "      <td>NaN</td>\n",
       "      <td>NaN</td>\n",
       "      <td>NaN</td>\n",
       "      <td>NaN</td>\n",
       "      <td>NaN</td>\n",
       "      <td>NaN</td>\n",
       "      <td>...</td>\n",
       "      <td>4410.627056</td>\n",
       "      <td>4250.172306</td>\n",
       "      <td>4302.348037</td>\n",
       "      <td>4410.935342</td>\n",
       "      <td>4620.141047</td>\n",
       "      <td>4453.496815</td>\n",
       "      <td>4529.488652</td>\n",
       "      <td>4197.549878</td>\n",
       "      <td>NaN</td>\n",
       "      <td>NaN</td>\n",
       "    </tr>\n",
       "    <tr>\n",
       "      <th>Cyprus</th>\n",
       "      <td>NaN</td>\n",
       "      <td>NaN</td>\n",
       "      <td>NaN</td>\n",
       "      <td>NaN</td>\n",
       "      <td>NaN</td>\n",
       "      <td>NaN</td>\n",
       "      <td>NaN</td>\n",
       "      <td>NaN</td>\n",
       "      <td>NaN</td>\n",
       "      <td>NaN</td>\n",
       "      <td>...</td>\n",
       "      <td>8505.112730</td>\n",
       "      <td>9012.972028</td>\n",
       "      <td>9125.698931</td>\n",
       "      <td>9735.017134</td>\n",
       "      <td>9979.983669</td>\n",
       "      <td>9703.807756</td>\n",
       "      <td>9563.876657</td>\n",
       "      <td>8561.990079</td>\n",
       "      <td>NaN</td>\n",
       "      <td>NaN</td>\n",
       "    </tr>\n",
       "    <tr>\n",
       "      <th>Denmark</th>\n",
       "      <td>NaN</td>\n",
       "      <td>NaN</td>\n",
       "      <td>NaN</td>\n",
       "      <td>NaN</td>\n",
       "      <td>NaN</td>\n",
       "      <td>NaN</td>\n",
       "      <td>NaN</td>\n",
       "      <td>NaN</td>\n",
       "      <td>NaN</td>\n",
       "      <td>NaN</td>\n",
       "      <td>...</td>\n",
       "      <td>7959.393342</td>\n",
       "      <td>7210.624756</td>\n",
       "      <td>6741.971990</td>\n",
       "      <td>7034.621397</td>\n",
       "      <td>6605.525461</td>\n",
       "      <td>6579.832180</td>\n",
       "      <td>5911.428036</td>\n",
       "      <td>5065.500691</td>\n",
       "      <td>NaN</td>\n",
       "      <td>NaN</td>\n",
       "    </tr>\n",
       "    <tr>\n",
       "      <th>...</th>\n",
       "      <td>...</td>\n",
       "      <td>...</td>\n",
       "      <td>...</td>\n",
       "      <td>...</td>\n",
       "      <td>...</td>\n",
       "      <td>...</td>\n",
       "      <td>...</td>\n",
       "      <td>...</td>\n",
       "      <td>...</td>\n",
       "      <td>...</td>\n",
       "      <td>...</td>\n",
       "      <td>...</td>\n",
       "      <td>...</td>\n",
       "      <td>...</td>\n",
       "      <td>...</td>\n",
       "      <td>...</td>\n",
       "      <td>...</td>\n",
       "      <td>...</td>\n",
       "      <td>...</td>\n",
       "      <td>...</td>\n",
       "      <td>...</td>\n",
       "    </tr>\n",
       "    <tr>\n",
       "      <th>Portugal</th>\n",
       "      <td>NaN</td>\n",
       "      <td>NaN</td>\n",
       "      <td>NaN</td>\n",
       "      <td>NaN</td>\n",
       "      <td>NaN</td>\n",
       "      <td>NaN</td>\n",
       "      <td>NaN</td>\n",
       "      <td>NaN</td>\n",
       "      <td>NaN</td>\n",
       "      <td>NaN</td>\n",
       "      <td>...</td>\n",
       "      <td>4878.090992</td>\n",
       "      <td>4901.215569</td>\n",
       "      <td>5357.080825</td>\n",
       "      <td>5218.463196</td>\n",
       "      <td>5745.892677</td>\n",
       "      <td>5413.938764</td>\n",
       "      <td>5073.866234</td>\n",
       "      <td>4225.049969</td>\n",
       "      <td>NaN</td>\n",
       "      <td>NaN</td>\n",
       "    </tr>\n",
       "    <tr>\n",
       "      <th>Romania</th>\n",
       "      <td>NaN</td>\n",
       "      <td>NaN</td>\n",
       "      <td>NaN</td>\n",
       "      <td>NaN</td>\n",
       "      <td>NaN</td>\n",
       "      <td>NaN</td>\n",
       "      <td>NaN</td>\n",
       "      <td>NaN</td>\n",
       "      <td>NaN</td>\n",
       "      <td>NaN</td>\n",
       "      <td>...</td>\n",
       "      <td>3967.250071</td>\n",
       "      <td>3964.055606</td>\n",
       "      <td>3961.248469</td>\n",
       "      <td>3941.246679</td>\n",
       "      <td>4125.881716</td>\n",
       "      <td>4143.011171</td>\n",
       "      <td>3991.226023</td>\n",
       "      <td>3842.943896</td>\n",
       "      <td>NaN</td>\n",
       "      <td>NaN</td>\n",
       "    </tr>\n",
       "    <tr>\n",
       "      <th>Spain</th>\n",
       "      <td>NaN</td>\n",
       "      <td>NaN</td>\n",
       "      <td>NaN</td>\n",
       "      <td>NaN</td>\n",
       "      <td>NaN</td>\n",
       "      <td>NaN</td>\n",
       "      <td>NaN</td>\n",
       "      <td>NaN</td>\n",
       "      <td>NaN</td>\n",
       "      <td>NaN</td>\n",
       "      <td>...</td>\n",
       "      <td>5704.109687</td>\n",
       "      <td>5793.594923</td>\n",
       "      <td>6172.271150</td>\n",
       "      <td>5973.530332</td>\n",
       "      <td>6285.787679</td>\n",
       "      <td>6180.986050</td>\n",
       "      <td>5769.633420</td>\n",
       "      <td>4642.960982</td>\n",
       "      <td>NaN</td>\n",
       "      <td>NaN</td>\n",
       "    </tr>\n",
       "    <tr>\n",
       "      <th>Sweden</th>\n",
       "      <td>NaN</td>\n",
       "      <td>NaN</td>\n",
       "      <td>NaN</td>\n",
       "      <td>NaN</td>\n",
       "      <td>NaN</td>\n",
       "      <td>NaN</td>\n",
       "      <td>NaN</td>\n",
       "      <td>NaN</td>\n",
       "      <td>NaN</td>\n",
       "      <td>NaN</td>\n",
       "      <td>...</td>\n",
       "      <td>4980.294359</td>\n",
       "      <td>4743.102650</td>\n",
       "      <td>4709.933105</td>\n",
       "      <td>4663.869730</td>\n",
       "      <td>4547.962397</td>\n",
       "      <td>4435.009558</td>\n",
       "      <td>4264.559243</td>\n",
       "      <td>3625.572241</td>\n",
       "      <td>NaN</td>\n",
       "      <td>NaN</td>\n",
       "    </tr>\n",
       "    <tr>\n",
       "      <th>United Kingdom</th>\n",
       "      <td>NaN</td>\n",
       "      <td>NaN</td>\n",
       "      <td>NaN</td>\n",
       "      <td>NaN</td>\n",
       "      <td>NaN</td>\n",
       "      <td>NaN</td>\n",
       "      <td>NaN</td>\n",
       "      <td>NaN</td>\n",
       "      <td>NaN</td>\n",
       "      <td>NaN</td>\n",
       "      <td>...</td>\n",
       "      <td>7942.168591</td>\n",
       "      <td>7288.332434</td>\n",
       "      <td>6988.779292</td>\n",
       "      <td>6585.252455</td>\n",
       "      <td>6393.098417</td>\n",
       "      <td>6241.312073</td>\n",
       "      <td>5983.507432</td>\n",
       "      <td>5052.171156</td>\n",
       "      <td>NaN</td>\n",
       "      <td>NaN</td>\n",
       "    </tr>\n",
       "  </tbody>\n",
       "</table>\n",
       "<p>22 rows × 35 columns</p>\n",
       "</div>"
      ],
      "text/plain": [
       "TIME_PERIOD     1988  1989  1990  1991  1992  1993  1994  1995  1996  1997  \\\n",
       "geo                                                                          \n",
       "Belgium          NaN   NaN   NaN   NaN   NaN   NaN   NaN   NaN   NaN   NaN   \n",
       "Bulgaria         NaN   NaN   NaN   NaN   NaN   NaN   NaN   NaN   NaN   NaN   \n",
       "Croatia          NaN   NaN   NaN   NaN   NaN   NaN   NaN   NaN   NaN   NaN   \n",
       "Cyprus           NaN   NaN   NaN   NaN   NaN   NaN   NaN   NaN   NaN   NaN   \n",
       "Denmark          NaN   NaN   NaN   NaN   NaN   NaN   NaN   NaN   NaN   NaN   \n",
       "...              ...   ...   ...   ...   ...   ...   ...   ...   ...   ...   \n",
       "Portugal         NaN   NaN   NaN   NaN   NaN   NaN   NaN   NaN   NaN   NaN   \n",
       "Romania          NaN   NaN   NaN   NaN   NaN   NaN   NaN   NaN   NaN   NaN   \n",
       "Spain            NaN   NaN   NaN   NaN   NaN   NaN   NaN   NaN   NaN   NaN   \n",
       "Sweden           NaN   NaN   NaN   NaN   NaN   NaN   NaN   NaN   NaN   NaN   \n",
       "United Kingdom   NaN   NaN   NaN   NaN   NaN   NaN   NaN   NaN   NaN   NaN   \n",
       "\n",
       "TIME_PERIOD     ...         2013         2014         2015         2016  \\\n",
       "geo             ...                                                       \n",
       "Belgium         ...  9564.893939  9027.680389  9384.259029  9192.649143   \n",
       "Bulgaria        ...  5924.200967  6317.365513  6774.230589  6447.039776   \n",
       "Croatia         ...  4410.627056  4250.172306  4302.348037  4410.935342   \n",
       "Cyprus          ...  8505.112730  9012.972028  9125.698931  9735.017134   \n",
       "Denmark         ...  7959.393342  7210.624756  6741.971990  7034.621397   \n",
       "...             ...          ...          ...          ...          ...   \n",
       "Portugal        ...  4878.090992  4901.215569  5357.080825  5218.463196   \n",
       "Romania         ...  3967.250071  3964.055606  3961.248469  3941.246679   \n",
       "Spain           ...  5704.109687  5793.594923  6172.271150  5973.530332   \n",
       "Sweden          ...  4980.294359  4743.102650  4709.933105  4663.869730   \n",
       "United Kingdom  ...  7942.168591  7288.332434  6988.779292  6585.252455   \n",
       "\n",
       "TIME_PERIOD            2017         2018         2019         2020  2021  2022  \n",
       "geo                                                                             \n",
       "Belgium         9155.052795  9213.232445  9131.633407  8155.779505   NaN   NaN  \n",
       "Bulgaria        6798.518529  6295.373895  6140.487217  5377.837417   NaN   NaN  \n",
       "Croatia         4620.141047  4453.496815  4529.488652  4197.549878   NaN   NaN  \n",
       "Cyprus          9979.983669  9703.807756  9563.876657  8561.990079   NaN   NaN  \n",
       "Denmark         6605.525461  6579.832180  5911.428036  5065.500691   NaN   NaN  \n",
       "...                     ...          ...          ...          ...   ...   ...  \n",
       "Portugal        5745.892677  5413.938764  5073.866234  4225.049969   NaN   NaN  \n",
       "Romania         4125.881716  4143.011171  3991.226023  3842.943896   NaN   NaN  \n",
       "Spain           6285.787679  6180.986050  5769.633420  4642.960982   NaN   NaN  \n",
       "Sweden          4547.962397  4435.009558  4264.559243  3625.572241   NaN   NaN  \n",
       "United Kingdom  6393.098417  6241.312073  5983.507432  5052.171156   NaN   NaN  \n",
       "\n",
       "[22 rows x 35 columns]"
      ]
     },
     "execution_count": 356,
     "metadata": {},
     "output_type": "execute_result"
    },
    {
     "name": "stdout",
     "output_type": "stream",
     "text": [
      "No missing countries\n"
     ]
    }
   ],
   "source": [
    "# CO2, TOTX4_MEMONIA, THS_T thousand tonnes, Eurostat\n",
    "# https://ec.europa.eu/eurostat/databrowser/view/ENV_AIR_GGE/\n",
    "\n",
    "co2 = pd.read_csv(\"../data/env_air_gge.csv\")\n",
    "co2[\"geo\"] = co2[\"geo\"].map(abbrev_to_country).fillna(co2[\"geo\"])\n",
    "co2 = co2[co2[\"geo\"].isin(countries)]\n",
    "co2 = co2.pivot_table(\n",
    "    columns=\"TIME_PERIOD\", index=\"geo\", values=\"OBS_VALUE\", aggfunc=\"mean\"\n",
    ")\n",
    "\n",
    "mr = co2.columns[-1]  # most recent year\n",
    "co2pc = co2 / pop * 1000 * 1000  ## tonnes co2 per capita\n",
    "co2pc\n",
    "# maxMin transformation as (max-x)/(max-min) * 100 --> converts to 0-100 scale with 0=worst, 100=best\n",
    "co2pc = (\n",
    "    (co2pc.loc[:, 2012:mr].max().max() - co2pc.loc[:, 2012:mr])\n",
    "    / (co2pc.loc[:, 2012:mr].max().max() - co2pc.loc[:, 2012:mr].min().min())\n",
    "    * 100\n",
    ").round(2)\n",
    "\n",
    "# co2pc[[2012, 2016, mr]]\n",
    "\n",
    "missingCountries(co2pc)"
   ]
  },
  {
   "cell_type": "code",
   "execution_count": 18,
   "metadata": {},
   "outputs": [
    {
     "data": {
      "text/html": [
       "<div>\n",
       "<style scoped>\n",
       "    .dataframe tbody tr th:only-of-type {\n",
       "        vertical-align: middle;\n",
       "    }\n",
       "\n",
       "    .dataframe tbody tr th {\n",
       "        vertical-align: top;\n",
       "    }\n",
       "\n",
       "    .dataframe thead th {\n",
       "        text-align: right;\n",
       "    }\n",
       "</style>\n",
       "<table border=\"1\" class=\"dataframe\">\n",
       "  <thead>\n",
       "    <tr style=\"text-align: right;\">\n",
       "      <th></th>\n",
       "      <th>2012</th>\n",
       "      <th>2018</th>\n",
       "      <th>2021</th>\n",
       "    </tr>\n",
       "    <tr>\n",
       "      <th>geo</th>\n",
       "      <th></th>\n",
       "      <th></th>\n",
       "      <th></th>\n",
       "    </tr>\n",
       "  </thead>\n",
       "  <tbody>\n",
       "    <tr>\n",
       "      <th>Belgium</th>\n",
       "      <td>47.69</td>\n",
       "      <td>51.71</td>\n",
       "      <td>55.72</td>\n",
       "    </tr>\n",
       "    <tr>\n",
       "      <th>Bulgaria</th>\n",
       "      <td>69.89</td>\n",
       "      <td>73.34</td>\n",
       "      <td>73.62</td>\n",
       "    </tr>\n",
       "    <tr>\n",
       "      <th>Croatia</th>\n",
       "      <td>87.80</td>\n",
       "      <td>89.04</td>\n",
       "      <td>88.46</td>\n",
       "    </tr>\n",
       "    <tr>\n",
       "      <th>Cyprus</th>\n",
       "      <td>54.53</td>\n",
       "      <td>53.95</td>\n",
       "      <td>54.06</td>\n",
       "    </tr>\n",
       "    <tr>\n",
       "      <th>Denmark</th>\n",
       "      <td>65.29</td>\n",
       "      <td>74.85</td>\n",
       "      <td>82.76</td>\n",
       "    </tr>\n",
       "    <tr>\n",
       "      <th>Estonia</th>\n",
       "      <td>12.53</td>\n",
       "      <td>11.12</td>\n",
       "      <td>59.32</td>\n",
       "    </tr>\n",
       "    <tr>\n",
       "      <th>Finland</th>\n",
       "      <td>45.77</td>\n",
       "      <td>55.54</td>\n",
       "      <td>68.23</td>\n",
       "    </tr>\n",
       "    <tr>\n",
       "      <th>France</th>\n",
       "      <td>79.37</td>\n",
       "      <td>84.88</td>\n",
       "      <td>87.31</td>\n",
       "    </tr>\n",
       "    <tr>\n",
       "      <th>Germany</th>\n",
       "      <td>40.23</td>\n",
       "      <td>48.77</td>\n",
       "      <td>57.15</td>\n",
       "    </tr>\n",
       "    <tr>\n",
       "      <th>Greece</th>\n",
       "      <td>56.07</td>\n",
       "      <td>69.17</td>\n",
       "      <td>81.01</td>\n",
       "    </tr>\n",
       "    <tr>\n",
       "      <th>Ireland</th>\n",
       "      <td>55.34</td>\n",
       "      <td>57.47</td>\n",
       "      <td>62.32</td>\n",
       "    </tr>\n",
       "    <tr>\n",
       "      <th>Italy</th>\n",
       "      <td>68.21</td>\n",
       "      <td>76.83</td>\n",
       "      <td>78.69</td>\n",
       "    </tr>\n",
       "    <tr>\n",
       "      <th>Latvia</th>\n",
       "      <td>94.41</td>\n",
       "      <td>91.17</td>\n",
       "      <td>93.06</td>\n",
       "    </tr>\n",
       "    <tr>\n",
       "      <th>Lithuania</th>\n",
       "      <td>85.17</td>\n",
       "      <td>84.36</td>\n",
       "      <td>83.59</td>\n",
       "    </tr>\n",
       "    <tr>\n",
       "      <th>Malta</th>\n",
       "      <td>70.46</td>\n",
       "      <td>97.98</td>\n",
       "      <td>97.23</td>\n",
       "    </tr>\n",
       "    <tr>\n",
       "      <th>Netherlands</th>\n",
       "      <td>42.63</td>\n",
       "      <td>47.76</td>\n",
       "      <td>57.51</td>\n",
       "    </tr>\n",
       "    <tr>\n",
       "      <th>Poland</th>\n",
       "      <td>53.21</td>\n",
       "      <td>50.76</td>\n",
       "      <td>52.37</td>\n",
       "    </tr>\n",
       "    <tr>\n",
       "      <th>Portugal</th>\n",
       "      <td>85.49</td>\n",
       "      <td>83.30</td>\n",
       "      <td>92.02</td>\n",
       "    </tr>\n",
       "    <tr>\n",
       "      <th>Romania</th>\n",
       "      <td>87.58</td>\n",
       "      <td>90.67</td>\n",
       "      <td>90.60</td>\n",
       "    </tr>\n",
       "    <tr>\n",
       "      <th>Spain</th>\n",
       "      <td>75.18</td>\n",
       "      <td>76.69</td>\n",
       "      <td>83.89</td>\n",
       "    </tr>\n",
       "    <tr>\n",
       "      <th>Sweden</th>\n",
       "      <td>83.74</td>\n",
       "      <td>90.36</td>\n",
       "      <td>96.28</td>\n",
       "    </tr>\n",
       "    <tr>\n",
       "      <th>United Kingdom</th>\n",
       "      <td>60.82</td>\n",
       "      <td>77.17</td>\n",
       "      <td>84.41</td>\n",
       "    </tr>\n",
       "  </tbody>\n",
       "</table>\n",
       "</div>"
      ],
      "text/plain": [
       "                 2012   2018   2021\n",
       "geo                                \n",
       "Belgium         47.69  51.71  55.72\n",
       "Bulgaria        69.89  73.34  73.62\n",
       "Croatia         87.80  89.04  88.46\n",
       "Cyprus          54.53  53.95  54.06\n",
       "Denmark         65.29  74.85  82.76\n",
       "Estonia         12.53  11.12  59.32\n",
       "Finland         45.77  55.54  68.23\n",
       "France          79.37  84.88  87.31\n",
       "Germany         40.23  48.77  57.15\n",
       "Greece          56.07  69.17  81.01\n",
       "Ireland         55.34  57.47  62.32\n",
       "Italy           68.21  76.83  78.69\n",
       "Latvia          94.41  91.17  93.06\n",
       "Lithuania       85.17  84.36  83.59\n",
       "Malta           70.46  97.98  97.23\n",
       "Netherlands     42.63  47.76  57.51\n",
       "Poland          53.21  50.76  52.37\n",
       "Portugal        85.49  83.30  92.02\n",
       "Romania         87.58  90.67  90.60\n",
       "Spain           75.18  76.69  83.89\n",
       "Sweden          83.74  90.36  96.28\n",
       "United Kingdom  60.82  77.17  84.41"
      ]
     },
     "execution_count": 18,
     "metadata": {},
     "output_type": "execute_result"
    },
    {
     "name": "stdout",
     "output_type": "stream",
     "text": [
      "No missing countries\n"
     ]
    }
   ],
   "source": [
    "# Data to corrobarate the ENV_AIR_GGE data. Very close numbers and we have for 2021\n",
    "# Fossil CO2 emissions by country (territorial), million tonnes of carbon per year (1MtC = 1 million tonne of carbon = 3.664 million tonnes of CO2)\n",
    "# https://globalcarbonbudget.org/carbonbudget/\n",
    "\n",
    "co2T = pd.read_excel(\n",
    "    \"../data/National_Fossil_Carbon_Emissions_2022v1.0.xlsx\", sheet_name=1, skiprows=11\n",
    ")\n",
    "co2T = co2T.T\n",
    "co2T.columns = co2T.iloc[0, :]\n",
    "co2T.columns = co2T.columns.astype(int)\n",
    "co2T = co2T.rename_axis(index=\"geo\", columns=None)\n",
    "co2T = co2T[co2T.index.isin(countries)]\n",
    "\n",
    "mr = co2T.columns[-1]  # most recent year\n",
    "co2T = co2T * 3.664  # convert from carbon to co2\n",
    "co2pc = co2T / pop * 1000_000  ## tonnes co2 per capita\n",
    "\n",
    "# maxMin transformation as (max-x)/(max-min) * 100 --> converts to 0-100 scale with 0=worst, 100=best\n",
    "co2pc = (\n",
    "    (co2pc.loc[:, 2012:mr].max().max() - co2pc.loc[:, 2012:mr])\n",
    "    / (co2pc.loc[:, 2012:mr].max().max() - co2pc.loc[:, 2012:mr].min().min())\n",
    "    * 100\n",
    ").round(2)\n",
    "co2pc = co2pc.ffill(axis=1)  # fill empty values with last available year\n",
    "co2pc[[2012, 2018, mr]]\n",
    "\n",
    "missingCountries(co2pc)"
   ]
  },
  {
   "attachments": {},
   "cell_type": "markdown",
   "metadata": {},
   "source": [
    "### 14.4\n",
    "\n",
    "Proportion of fish stocks within biologically sustainable levels\n",
    "\n",
    "We use two indicators:\n",
    "\n",
    "1. FMSY/F: catch-weighted average\n",
    "\n",
    "2. B/BMSY: catch-weighted average\n"
   ]
  },
  {
   "attachments": {},
   "cell_type": "markdown",
   "metadata": {},
   "source": [
    "#### 1. FMSY/F\n"
   ]
  },
  {
   "attachments": {},
   "cell_type": "markdown",
   "metadata": {},
   "source": [
    "#### 2. B/BMSY\n"
   ]
  },
  {
   "attachments": {},
   "cell_type": "markdown",
   "metadata": {},
   "source": [
    "### 14.5\n",
    "\n",
    "Coverage of protected areas in relation to marine area\n",
    "\n",
    "We consider two indicators:\n",
    "\n",
    "1. Coverage of protected areas in relation to marine areas: Distance to Reference transformation where the max-value is set to 30% and the min-value is 0%\n",
    "2. OHI 'Biodiversity' Index : No further transformation\n"
   ]
  },
  {
   "attachments": {},
   "cell_type": "markdown",
   "metadata": {},
   "source": [
    "#### 1. Marine protected areas (% of territorial waters)\n",
    "\n",
    "[Source](https://data.worldbank.org/indicator/ER.MRN.PTMR.ZS)\n"
   ]
  },
  {
   "cell_type": "code",
   "execution_count": 359,
   "metadata": {},
   "outputs": [
    {
     "data": {
      "text/html": [
       "<div>\n",
       "<style scoped>\n",
       "    .dataframe tbody tr th:only-of-type {\n",
       "        vertical-align: middle;\n",
       "    }\n",
       "\n",
       "    .dataframe tbody tr th {\n",
       "        vertical-align: top;\n",
       "    }\n",
       "\n",
       "    .dataframe thead th {\n",
       "        text-align: right;\n",
       "    }\n",
       "</style>\n",
       "<table border=\"1\" class=\"dataframe\">\n",
       "  <thead>\n",
       "    <tr style=\"text-align: right;\">\n",
       "      <th></th>\n",
       "      <th>2016</th>\n",
       "      <th>2017</th>\n",
       "      <th>2018</th>\n",
       "      <th>2019</th>\n",
       "      <th>2020</th>\n",
       "      <th>2021</th>\n",
       "    </tr>\n",
       "    <tr>\n",
       "      <th>Country Name</th>\n",
       "      <th></th>\n",
       "      <th></th>\n",
       "      <th></th>\n",
       "      <th></th>\n",
       "      <th></th>\n",
       "      <th></th>\n",
       "    </tr>\n",
       "  </thead>\n",
       "  <tbody>\n",
       "    <tr>\n",
       "      <th>Belgium</th>\n",
       "      <td>36.651179</td>\n",
       "      <td>36.655243</td>\n",
       "      <td>36.655243</td>\n",
       "      <td>36.653420</td>\n",
       "      <td>36.653420</td>\n",
       "      <td>36.653416</td>\n",
       "    </tr>\n",
       "    <tr>\n",
       "      <th>Bulgaria</th>\n",
       "      <td>8.103060</td>\n",
       "      <td>8.103310</td>\n",
       "      <td>8.103310</td>\n",
       "      <td>8.108620</td>\n",
       "      <td>8.108338</td>\n",
       "      <td>8.108338</td>\n",
       "    </tr>\n",
       "    <tr>\n",
       "      <th>Cyprus</th>\n",
       "      <td>0.123118</td>\n",
       "      <td>0.122716</td>\n",
       "      <td>0.122716</td>\n",
       "      <td>0.123078</td>\n",
       "      <td>8.620539</td>\n",
       "      <td>8.620539</td>\n",
       "    </tr>\n",
       "    <tr>\n",
       "      <th>Germany</th>\n",
       "      <td>45.356552</td>\n",
       "      <td>45.357396</td>\n",
       "      <td>45.357396</td>\n",
       "      <td>45.380450</td>\n",
       "      <td>45.388630</td>\n",
       "      <td>45.460426</td>\n",
       "    </tr>\n",
       "    <tr>\n",
       "      <th>Denmark</th>\n",
       "      <td>17.848149</td>\n",
       "      <td>17.848993</td>\n",
       "      <td>17.848993</td>\n",
       "      <td>17.919840</td>\n",
       "      <td>18.322210</td>\n",
       "      <td>18.322140</td>\n",
       "    </tr>\n",
       "    <tr>\n",
       "      <th>Spain</th>\n",
       "      <td>8.729889</td>\n",
       "      <td>8.374113</td>\n",
       "      <td>8.374113</td>\n",
       "      <td>12.688430</td>\n",
       "      <td>12.758700</td>\n",
       "      <td>12.757444</td>\n",
       "    </tr>\n",
       "    <tr>\n",
       "      <th>Estonia</th>\n",
       "      <td>18.626329</td>\n",
       "      <td>18.620442</td>\n",
       "      <td>18.620442</td>\n",
       "      <td>18.634920</td>\n",
       "      <td>18.778840</td>\n",
       "      <td>18.778709</td>\n",
       "    </tr>\n",
       "    <tr>\n",
       "      <th>Finland</th>\n",
       "      <td>11.130294</td>\n",
       "      <td>10.509963</td>\n",
       "      <td>10.509963</td>\n",
       "      <td>12.110620</td>\n",
       "      <td>11.986870</td>\n",
       "      <td>11.987005</td>\n",
       "    </tr>\n",
       "    <tr>\n",
       "      <th>France</th>\n",
       "      <td>26.166849</td>\n",
       "      <td>45.045795</td>\n",
       "      <td>45.045795</td>\n",
       "      <td>48.928770</td>\n",
       "      <td>50.356530</td>\n",
       "      <td>49.826946</td>\n",
       "    </tr>\n",
       "    <tr>\n",
       "      <th>United Kingdom</th>\n",
       "      <td>20.235423</td>\n",
       "      <td>28.873306</td>\n",
       "      <td>28.873306</td>\n",
       "      <td>29.162740</td>\n",
       "      <td>44.202830</td>\n",
       "      <td>44.202827</td>\n",
       "    </tr>\n",
       "    <tr>\n",
       "      <th>Greece</th>\n",
       "      <td>1.457183</td>\n",
       "      <td>4.517865</td>\n",
       "      <td>4.517865</td>\n",
       "      <td>4.517861</td>\n",
       "      <td>4.517863</td>\n",
       "      <td>4.517871</td>\n",
       "    </tr>\n",
       "    <tr>\n",
       "      <th>Croatia</th>\n",
       "      <td>8.540921</td>\n",
       "      <td>8.541085</td>\n",
       "      <td>8.541085</td>\n",
       "      <td>8.541029</td>\n",
       "      <td>8.991410</td>\n",
       "      <td>8.987750</td>\n",
       "    </tr>\n",
       "    <tr>\n",
       "      <th>Ireland</th>\n",
       "      <td>2.332324</td>\n",
       "      <td>2.332111</td>\n",
       "      <td>2.332111</td>\n",
       "      <td>2.332142</td>\n",
       "      <td>2.331836</td>\n",
       "      <td>2.331836</td>\n",
       "    </tr>\n",
       "    <tr>\n",
       "      <th>Italy</th>\n",
       "      <td>8.783572</td>\n",
       "      <td>8.794648</td>\n",
       "      <td>8.794648</td>\n",
       "      <td>8.777930</td>\n",
       "      <td>9.735907</td>\n",
       "      <td>9.735967</td>\n",
       "    </tr>\n",
       "    <tr>\n",
       "      <th>Lithuania</th>\n",
       "      <td>21.515908</td>\n",
       "      <td>25.591027</td>\n",
       "      <td>25.591027</td>\n",
       "      <td>25.592470</td>\n",
       "      <td>25.592470</td>\n",
       "      <td>25.593271</td>\n",
       "    </tr>\n",
       "    <tr>\n",
       "      <th>Latvia</th>\n",
       "      <td>16.035541</td>\n",
       "      <td>16.036362</td>\n",
       "      <td>16.036362</td>\n",
       "      <td>16.036610</td>\n",
       "      <td>16.037890</td>\n",
       "      <td>16.037357</td>\n",
       "    </tr>\n",
       "    <tr>\n",
       "      <th>Malta</th>\n",
       "      <td>6.264285</td>\n",
       "      <td>6.270051</td>\n",
       "      <td>6.270051</td>\n",
       "      <td>7.444799</td>\n",
       "      <td>7.444940</td>\n",
       "      <td>7.444803</td>\n",
       "    </tr>\n",
       "    <tr>\n",
       "      <th>Netherlands</th>\n",
       "      <td>21.490538</td>\n",
       "      <td>26.674686</td>\n",
       "      <td>26.674686</td>\n",
       "      <td>26.862340</td>\n",
       "      <td>26.862950</td>\n",
       "      <td>26.858734</td>\n",
       "    </tr>\n",
       "    <tr>\n",
       "      <th>Poland</th>\n",
       "      <td>22.572749</td>\n",
       "      <td>22.571823</td>\n",
       "      <td>22.571823</td>\n",
       "      <td>22.572430</td>\n",
       "      <td>22.572470</td>\n",
       "      <td>22.572470</td>\n",
       "    </tr>\n",
       "    <tr>\n",
       "      <th>Portugal</th>\n",
       "      <td>8.356609</td>\n",
       "      <td>16.563935</td>\n",
       "      <td>16.563935</td>\n",
       "      <td>16.564600</td>\n",
       "      <td>16.818320</td>\n",
       "      <td>16.819141</td>\n",
       "    </tr>\n",
       "    <tr>\n",
       "      <th>Romania</th>\n",
       "      <td>8.426853</td>\n",
       "      <td>23.096305</td>\n",
       "      <td>23.096305</td>\n",
       "      <td>23.095950</td>\n",
       "      <td>23.098580</td>\n",
       "      <td>23.098583</td>\n",
       "    </tr>\n",
       "    <tr>\n",
       "      <th>Sweden</th>\n",
       "      <td>8.204258</td>\n",
       "      <td>15.213185</td>\n",
       "      <td>15.213185</td>\n",
       "      <td>15.368610</td>\n",
       "      <td>15.376230</td>\n",
       "      <td>15.763428</td>\n",
       "    </tr>\n",
       "  </tbody>\n",
       "</table>\n",
       "</div>"
      ],
      "text/plain": [
       "                     2016       2017       2018       2019       2020  \\\n",
       "Country Name                                                            \n",
       "Belgium         36.651179  36.655243  36.655243  36.653420  36.653420   \n",
       "Bulgaria         8.103060   8.103310   8.103310   8.108620   8.108338   \n",
       "Cyprus           0.123118   0.122716   0.122716   0.123078   8.620539   \n",
       "Germany         45.356552  45.357396  45.357396  45.380450  45.388630   \n",
       "Denmark         17.848149  17.848993  17.848993  17.919840  18.322210   \n",
       "Spain            8.729889   8.374113   8.374113  12.688430  12.758700   \n",
       "Estonia         18.626329  18.620442  18.620442  18.634920  18.778840   \n",
       "Finland         11.130294  10.509963  10.509963  12.110620  11.986870   \n",
       "France          26.166849  45.045795  45.045795  48.928770  50.356530   \n",
       "United Kingdom  20.235423  28.873306  28.873306  29.162740  44.202830   \n",
       "Greece           1.457183   4.517865   4.517865   4.517861   4.517863   \n",
       "Croatia          8.540921   8.541085   8.541085   8.541029   8.991410   \n",
       "Ireland          2.332324   2.332111   2.332111   2.332142   2.331836   \n",
       "Italy            8.783572   8.794648   8.794648   8.777930   9.735907   \n",
       "Lithuania       21.515908  25.591027  25.591027  25.592470  25.592470   \n",
       "Latvia          16.035541  16.036362  16.036362  16.036610  16.037890   \n",
       "Malta            6.264285   6.270051   6.270051   7.444799   7.444940   \n",
       "Netherlands     21.490538  26.674686  26.674686  26.862340  26.862950   \n",
       "Poland          22.572749  22.571823  22.571823  22.572430  22.572470   \n",
       "Portugal         8.356609  16.563935  16.563935  16.564600  16.818320   \n",
       "Romania          8.426853  23.096305  23.096305  23.095950  23.098580   \n",
       "Sweden           8.204258  15.213185  15.213185  15.368610  15.376230   \n",
       "\n",
       "                     2021  \n",
       "Country Name               \n",
       "Belgium         36.653416  \n",
       "Bulgaria         8.108338  \n",
       "Cyprus           8.620539  \n",
       "Germany         45.460426  \n",
       "Denmark         18.322140  \n",
       "Spain           12.757444  \n",
       "Estonia         18.778709  \n",
       "Finland         11.987005  \n",
       "France          49.826946  \n",
       "United Kingdom  44.202827  \n",
       "Greece           4.517871  \n",
       "Croatia          8.987750  \n",
       "Ireland          2.331836  \n",
       "Italy            9.735967  \n",
       "Lithuania       25.593271  \n",
       "Latvia          16.037357  \n",
       "Malta            7.444803  \n",
       "Netherlands     26.858734  \n",
       "Poland          22.572470  \n",
       "Portugal        16.819141  \n",
       "Romania         23.098583  \n",
       "Sweden          15.763428  "
      ]
     },
     "execution_count": 359,
     "metadata": {},
     "output_type": "execute_result"
    },
    {
     "data": {
      "text/html": [
       "<div>\n",
       "<style scoped>\n",
       "    .dataframe tbody tr th:only-of-type {\n",
       "        vertical-align: middle;\n",
       "    }\n",
       "\n",
       "    .dataframe tbody tr th {\n",
       "        vertical-align: top;\n",
       "    }\n",
       "\n",
       "    .dataframe thead th {\n",
       "        text-align: right;\n",
       "    }\n",
       "</style>\n",
       "<table border=\"1\" class=\"dataframe\">\n",
       "  <thead>\n",
       "    <tr style=\"text-align: right;\">\n",
       "      <th></th>\n",
       "      <th>2016</th>\n",
       "      <th>2021</th>\n",
       "    </tr>\n",
       "    <tr>\n",
       "      <th>Country Name</th>\n",
       "      <th></th>\n",
       "      <th></th>\n",
       "    </tr>\n",
       "  </thead>\n",
       "  <tbody>\n",
       "    <tr>\n",
       "      <th>Belgium</th>\n",
       "      <td>100.00</td>\n",
       "      <td>100.00</td>\n",
       "    </tr>\n",
       "    <tr>\n",
       "      <th>Bulgaria</th>\n",
       "      <td>27.01</td>\n",
       "      <td>27.03</td>\n",
       "    </tr>\n",
       "    <tr>\n",
       "      <th>Croatia</th>\n",
       "      <td>28.47</td>\n",
       "      <td>29.96</td>\n",
       "    </tr>\n",
       "    <tr>\n",
       "      <th>Cyprus</th>\n",
       "      <td>0.41</td>\n",
       "      <td>28.74</td>\n",
       "    </tr>\n",
       "    <tr>\n",
       "      <th>Denmark</th>\n",
       "      <td>59.49</td>\n",
       "      <td>61.07</td>\n",
       "    </tr>\n",
       "    <tr>\n",
       "      <th>Estonia</th>\n",
       "      <td>62.09</td>\n",
       "      <td>62.60</td>\n",
       "    </tr>\n",
       "    <tr>\n",
       "      <th>Finland</th>\n",
       "      <td>37.10</td>\n",
       "      <td>39.96</td>\n",
       "    </tr>\n",
       "    <tr>\n",
       "      <th>France</th>\n",
       "      <td>87.22</td>\n",
       "      <td>100.00</td>\n",
       "    </tr>\n",
       "    <tr>\n",
       "      <th>Germany</th>\n",
       "      <td>100.00</td>\n",
       "      <td>100.00</td>\n",
       "    </tr>\n",
       "    <tr>\n",
       "      <th>Greece</th>\n",
       "      <td>4.86</td>\n",
       "      <td>15.06</td>\n",
       "    </tr>\n",
       "    <tr>\n",
       "      <th>Ireland</th>\n",
       "      <td>7.77</td>\n",
       "      <td>7.77</td>\n",
       "    </tr>\n",
       "    <tr>\n",
       "      <th>Italy</th>\n",
       "      <td>29.28</td>\n",
       "      <td>32.45</td>\n",
       "    </tr>\n",
       "    <tr>\n",
       "      <th>Latvia</th>\n",
       "      <td>53.45</td>\n",
       "      <td>53.46</td>\n",
       "    </tr>\n",
       "    <tr>\n",
       "      <th>Lithuania</th>\n",
       "      <td>71.72</td>\n",
       "      <td>85.31</td>\n",
       "    </tr>\n",
       "    <tr>\n",
       "      <th>Malta</th>\n",
       "      <td>20.88</td>\n",
       "      <td>24.82</td>\n",
       "    </tr>\n",
       "    <tr>\n",
       "      <th>Netherlands</th>\n",
       "      <td>71.64</td>\n",
       "      <td>89.53</td>\n",
       "    </tr>\n",
       "    <tr>\n",
       "      <th>Poland</th>\n",
       "      <td>75.24</td>\n",
       "      <td>75.24</td>\n",
       "    </tr>\n",
       "    <tr>\n",
       "      <th>Portugal</th>\n",
       "      <td>27.86</td>\n",
       "      <td>56.06</td>\n",
       "    </tr>\n",
       "    <tr>\n",
       "      <th>Romania</th>\n",
       "      <td>28.09</td>\n",
       "      <td>77.00</td>\n",
       "    </tr>\n",
       "    <tr>\n",
       "      <th>Spain</th>\n",
       "      <td>29.10</td>\n",
       "      <td>42.52</td>\n",
       "    </tr>\n",
       "    <tr>\n",
       "      <th>Sweden</th>\n",
       "      <td>27.35</td>\n",
       "      <td>52.54</td>\n",
       "    </tr>\n",
       "    <tr>\n",
       "      <th>United Kingdom</th>\n",
       "      <td>67.45</td>\n",
       "      <td>100.00</td>\n",
       "    </tr>\n",
       "  </tbody>\n",
       "</table>\n",
       "</div>"
      ],
      "text/plain": [
       "                  2016    2021\n",
       "Country Name                  \n",
       "Belgium         100.00  100.00\n",
       "Bulgaria         27.01   27.03\n",
       "Croatia          28.47   29.96\n",
       "Cyprus            0.41   28.74\n",
       "Denmark          59.49   61.07\n",
       "Estonia          62.09   62.60\n",
       "Finland          37.10   39.96\n",
       "France           87.22  100.00\n",
       "Germany         100.00  100.00\n",
       "Greece            4.86   15.06\n",
       "Ireland           7.77    7.77\n",
       "Italy            29.28   32.45\n",
       "Latvia           53.45   53.46\n",
       "Lithuania        71.72   85.31\n",
       "Malta            20.88   24.82\n",
       "Netherlands      71.64   89.53\n",
       "Poland           75.24   75.24\n",
       "Portugal         27.86   56.06\n",
       "Romania          28.09   77.00\n",
       "Spain            29.10   42.52\n",
       "Sweden           27.35   52.54\n",
       "United Kingdom   67.45  100.00"
      ]
     },
     "execution_count": 359,
     "metadata": {},
     "output_type": "execute_result"
    },
    {
     "name": "stdout",
     "output_type": "stream",
     "text": [
      "No missing countries\n"
     ]
    }
   ],
   "source": [
    "# Marine protected areas (% of territorial waters), World Bank aggregation of https://www.protectedplanet.net/en/thematic-areas/marine-protected-areas\n",
    "# https://data.worldbank.org/indicator/ER.MRN.PTMR.ZS\n",
    "\n",
    "mpa = pd.read_csv(\"../data/API_ER.MRN.PTMR.ZS_DS2.csv\", skiprows=4)\n",
    "mpa = mpa[mpa[\"Country Name\"].isin(countries)].set_index(\"Country Name\")\n",
    "mpa = mpa.dropna(axis=1, how=\"all\")\n",
    "mpa = mpa.drop([\"Country Code\", \"Indicator Name\", \"Indicator Code\"], axis=1)\n",
    "# display all rows\n",
    "pd.set_option(\"display.max_rows\", None)\n",
    "mpa\n",
    "mpa = (mpa / 0.3).round(2)  # dis-ref with target 30%\n",
    "mpa[mpa > 100] = 100\n",
    "mpa.sort_index(inplace=True)\n",
    "mpa[[\"2016\", \"2021\"]]\n",
    "missingCountries(mpa)"
   ]
  },
  {
   "attachments": {},
   "cell_type": "markdown",
   "metadata": {},
   "source": [
    "#### 2. OHI 'Biodiversity' Index\n",
    "\n",
    "[Source](https://oceanhealthindex.org/global-scores/data-download/)\n"
   ]
  },
  {
   "cell_type": "code",
   "execution_count": 20,
   "metadata": {},
   "outputs": [
    {
     "data": {
      "text/html": [
       "<div>\n",
       "<style scoped>\n",
       "    .dataframe tbody tr th:only-of-type {\n",
       "        vertical-align: middle;\n",
       "    }\n",
       "\n",
       "    .dataframe tbody tr th {\n",
       "        vertical-align: top;\n",
       "    }\n",
       "\n",
       "    .dataframe thead th {\n",
       "        text-align: right;\n",
       "    }\n",
       "</style>\n",
       "<table border=\"1\" class=\"dataframe\">\n",
       "  <thead>\n",
       "    <tr style=\"text-align: right;\">\n",
       "      <th>scenario</th>\n",
       "      <th>2012</th>\n",
       "      <th>2018</th>\n",
       "      <th>2022</th>\n",
       "    </tr>\n",
       "    <tr>\n",
       "      <th>region_name</th>\n",
       "      <th></th>\n",
       "      <th></th>\n",
       "      <th></th>\n",
       "    </tr>\n",
       "  </thead>\n",
       "  <tbody>\n",
       "    <tr>\n",
       "      <th>Belgium</th>\n",
       "      <td>74.65</td>\n",
       "      <td>71.16</td>\n",
       "      <td>71.53</td>\n",
       "    </tr>\n",
       "    <tr>\n",
       "      <th>Bulgaria</th>\n",
       "      <td>76.12</td>\n",
       "      <td>69.96</td>\n",
       "      <td>66.19</td>\n",
       "    </tr>\n",
       "    <tr>\n",
       "      <th>Croatia</th>\n",
       "      <td>60.77</td>\n",
       "      <td>55.80</td>\n",
       "      <td>55.65</td>\n",
       "    </tr>\n",
       "    <tr>\n",
       "      <th>Cyprus</th>\n",
       "      <td>68.48</td>\n",
       "      <td>65.77</td>\n",
       "      <td>64.07</td>\n",
       "    </tr>\n",
       "    <tr>\n",
       "      <th>Denmark</th>\n",
       "      <td>72.56</td>\n",
       "      <td>69.75</td>\n",
       "      <td>71.17</td>\n",
       "    </tr>\n",
       "    <tr>\n",
       "      <th>Estonia</th>\n",
       "      <td>80.68</td>\n",
       "      <td>73.42</td>\n",
       "      <td>74.96</td>\n",
       "    </tr>\n",
       "    <tr>\n",
       "      <th>Finland</th>\n",
       "      <td>79.25</td>\n",
       "      <td>71.68</td>\n",
       "      <td>73.02</td>\n",
       "    </tr>\n",
       "    <tr>\n",
       "      <th>France</th>\n",
       "      <td>72.20</td>\n",
       "      <td>74.81</td>\n",
       "      <td>75.08</td>\n",
       "    </tr>\n",
       "    <tr>\n",
       "      <th>Germany</th>\n",
       "      <td>73.45</td>\n",
       "      <td>69.04</td>\n",
       "      <td>72.25</td>\n",
       "    </tr>\n",
       "    <tr>\n",
       "      <th>Greece</th>\n",
       "      <td>66.28</td>\n",
       "      <td>60.73</td>\n",
       "      <td>59.42</td>\n",
       "    </tr>\n",
       "    <tr>\n",
       "      <th>Ireland</th>\n",
       "      <td>67.64</td>\n",
       "      <td>67.55</td>\n",
       "      <td>66.89</td>\n",
       "    </tr>\n",
       "    <tr>\n",
       "      <th>Italy</th>\n",
       "      <td>68.72</td>\n",
       "      <td>65.31</td>\n",
       "      <td>64.08</td>\n",
       "    </tr>\n",
       "    <tr>\n",
       "      <th>Latvia</th>\n",
       "      <td>77.70</td>\n",
       "      <td>70.57</td>\n",
       "      <td>72.39</td>\n",
       "    </tr>\n",
       "    <tr>\n",
       "      <th>Lithuania</th>\n",
       "      <td>76.04</td>\n",
       "      <td>69.22</td>\n",
       "      <td>71.82</td>\n",
       "    </tr>\n",
       "    <tr>\n",
       "      <th>Malta</th>\n",
       "      <td>72.23</td>\n",
       "      <td>64.57</td>\n",
       "      <td>64.19</td>\n",
       "    </tr>\n",
       "    <tr>\n",
       "      <th>Netherlands</th>\n",
       "      <td>67.14</td>\n",
       "      <td>65.53</td>\n",
       "      <td>68.68</td>\n",
       "    </tr>\n",
       "    <tr>\n",
       "      <th>Poland</th>\n",
       "      <td>67.41</td>\n",
       "      <td>64.34</td>\n",
       "      <td>66.45</td>\n",
       "    </tr>\n",
       "    <tr>\n",
       "      <th>Portugal</th>\n",
       "      <td>75.73</td>\n",
       "      <td>72.12</td>\n",
       "      <td>72.07</td>\n",
       "    </tr>\n",
       "    <tr>\n",
       "      <th>Romania</th>\n",
       "      <td>82.49</td>\n",
       "      <td>72.39</td>\n",
       "      <td>70.55</td>\n",
       "    </tr>\n",
       "    <tr>\n",
       "      <th>Spain</th>\n",
       "      <td>72.29</td>\n",
       "      <td>69.36</td>\n",
       "      <td>68.31</td>\n",
       "    </tr>\n",
       "    <tr>\n",
       "      <th>Sweden</th>\n",
       "      <td>75.00</td>\n",
       "      <td>71.16</td>\n",
       "      <td>70.96</td>\n",
       "    </tr>\n",
       "    <tr>\n",
       "      <th>United Kingdom</th>\n",
       "      <td>68.30</td>\n",
       "      <td>72.90</td>\n",
       "      <td>71.45</td>\n",
       "    </tr>\n",
       "  </tbody>\n",
       "</table>\n",
       "</div>"
      ],
      "text/plain": [
       "scenario         2012   2018   2022\n",
       "region_name                        \n",
       "Belgium         74.65  71.16  71.53\n",
       "Bulgaria        76.12  69.96  66.19\n",
       "Croatia         60.77  55.80  55.65\n",
       "Cyprus          68.48  65.77  64.07\n",
       "Denmark         72.56  69.75  71.17\n",
       "Estonia         80.68  73.42  74.96\n",
       "Finland         79.25  71.68  73.02\n",
       "France          72.20  74.81  75.08\n",
       "Germany         73.45  69.04  72.25\n",
       "Greece          66.28  60.73  59.42\n",
       "Ireland         67.64  67.55  66.89\n",
       "Italy           68.72  65.31  64.08\n",
       "Latvia          77.70  70.57  72.39\n",
       "Lithuania       76.04  69.22  71.82\n",
       "Malta           72.23  64.57  64.19\n",
       "Netherlands     67.14  65.53  68.68\n",
       "Poland          67.41  64.34  66.45\n",
       "Portugal        75.73  72.12  72.07\n",
       "Romania         82.49  72.39  70.55\n",
       "Spain           72.29  69.36  68.31\n",
       "Sweden          75.00  71.16  70.96\n",
       "United Kingdom  68.30  72.90  71.45"
      ]
     },
     "execution_count": 20,
     "metadata": {},
     "output_type": "execute_result"
    },
    {
     "name": "stdout",
     "output_type": "stream",
     "text": [
      "No missing countries\n"
     ]
    }
   ],
   "source": [
    "# OHI 'Biodiversity' Index\n",
    "# https://oceanhealthindex.org/global-scores/data-download/\n",
    "\n",
    "ohiBio = pd.read_csv(\"../data/scoresOHI.csv\")\n",
    "ohiBio = ohiBio[ohiBio[\"region_name\"].isin(countries)]\n",
    "ohiBio = ohiBio[(ohiBio.long_goal == \"Biodiversity\") & (ohiBio.dimension == \"score\")]\n",
    "ohiBio = ohiBio.pivot_table(\n",
    "    columns=\"scenario\", index=\"region_name\", values=\"value\", aggfunc=\"mean\"\n",
    ")\n",
    "\n",
    "ohiBio[[2012, 2018, 2022]]\n",
    "missingCountries(ohiBio)"
   ]
  },
  {
   "attachments": {},
   "cell_type": "markdown",
   "metadata": {},
   "source": [
    "### 14.6\n",
    "\n",
    "Degree of implementation of international instruments aiming to combat illegal, unreported and unregulated fishing\n",
    "\n",
    "We use two indicators:\n",
    "\n",
    "1. Fishing Subsidies relative to Landings: Max-Min Transformation where the max-value and min-value are the maximum and minimum in the assessment period (2012-2021)\n",
    "2. TAC/Catch:\n"
   ]
  },
  {
   "cell_type": "code",
   "execution_count": 21,
   "metadata": {},
   "outputs": [],
   "source": [
    "# load oecd abbreviation list\n",
    "with open(\"../data/oecdAbb.csv\") as csv_file:\n",
    "    reader = csv.reader(csv_file)\n",
    "    oecdAbb = dict(reader)"
   ]
  },
  {
   "attachments": {},
   "cell_type": "markdown",
   "metadata": {},
   "source": [
    "#### 1. Fishing Subsidies relative to Landings\n",
    "\n",
    "Several sources\n"
   ]
  },
  {
   "cell_type": "code",
   "execution_count": 22,
   "metadata": {},
   "outputs": [],
   "source": [
    "# Fisheries Support Estimate\n",
    "# https://stats.oecd.org/Index.aspx?DataSetCode=FISH_FSE\n",
    "\n",
    "fse = pd.read_csv(\"../data/FISH_FSE.csv\")\n",
    "fse = fse[fse[\"Country\"].isin(countries)]\n",
    "\n",
    "# strip variable codes and delete parent variables to avoid double counting\n",
    "# solution from https://stackoverflow.com/q/76183612/14534411\n",
    "\n",
    "separator = \".\"\n",
    "fse[\"vCode\"] = fse.Variable.str.rsplit(\".\", n=1).str.get(0)\n",
    "\n",
    "variableAll = fse.vCode.unique().tolist()\n",
    "\n",
    "\n",
    "def is_parent(p, target):\n",
    "    return p.startswith(target) and len(p) > len(target) and p[len(target)] == \".\"\n",
    "\n",
    "\n",
    "vSupport = []\n",
    "prev = \"\"\n",
    "for s in sorted(variableAll) + [\"\"]:\n",
    "    if prev and not is_parent(s, prev):\n",
    "        vSupport.append(prev)\n",
    "    prev = s\n",
    "\n",
    "fse = fse[(fse.vCode.isin(vSupport)) | (fse.vCode.isna())]\n",
    "\n",
    "# we use US dollars because some countries use their own currency ('Danish Krone', 'Zloty', 'Swedish Krona')\n",
    "fse = fse[fse.Measure == \"US dollar\"][[\"Country\", \"Variable\", \"Value\", \"Year\", \"Unit\"]]\n",
    "\n",
    "# we include I.B, I.C, I.D, I.E  II. SUPPORT FOR SERVICES TO THE SECTOR (except the ones specified below)\n",
    "fse = fse[\n",
    "    fse.Variable.str.startswith((\"I.E.1\", \"II.\"))\n",
    "    & ~fse.Variable.str.startswith((\"II.E\", \"II.F\", \"II.G\"))\n",
    "]\n",
    "\n",
    "fse = fse.groupby([\"Country\", \"Year\"]).sum(numeric_only=True).reset_index()\n",
    "\n",
    "# fse = fse.pivot_table(columns='Year', index='Country', values='Value', aggfunc='mean')\n",
    "# fse[[2012, 2016, 2020]]"
   ]
  },
  {
   "cell_type": "code",
   "execution_count": 23,
   "metadata": {},
   "outputs": [],
   "source": [
    "# Landings in USD\n",
    "# https://data.oecd.org/fish/fish-landings.htm\n",
    "\n",
    "landing = pd.read_csv(\"../data/fishLandingsOECD.csv\")\n",
    "landing[\"LOCATION\"] = landing[\"LOCATION\"].map(oecdAbb).fillna(landing[\"LOCATION\"])\n",
    "landing = landing[\n",
    "    landing[\"LOCATION\"].isin(countries)\n",
    "    & (landing[\"MEASURE\"] == \"USD\")\n",
    "    & (landing[\"SUBJECT\"] == \"TOT\")\n",
    "]\n",
    "# landing = landing.pivot_table(columns='TIME', index='LOCATION', values='Value', aggfunc='mean')\n",
    "# landing = landing[list(range(2010, 2021))]\n",
    "landing.rename(\n",
    "    columns={\"LOCATION\": \"Country\", \"TIME\": \"Year\", \"Value\": \"Landing\"}, inplace=True\n",
    ")"
   ]
  },
  {
   "cell_type": "code",
   "execution_count": 369,
   "metadata": {},
   "outputs": [
    {
     "data": {
      "text/html": [
       "<div>\n",
       "<style scoped>\n",
       "    .dataframe tbody tr th:only-of-type {\n",
       "        vertical-align: middle;\n",
       "    }\n",
       "\n",
       "    .dataframe tbody tr th {\n",
       "        vertical-align: top;\n",
       "    }\n",
       "\n",
       "    .dataframe thead th {\n",
       "        text-align: right;\n",
       "    }\n",
       "</style>\n",
       "<table border=\"1\" class=\"dataframe\">\n",
       "  <thead>\n",
       "    <tr style=\"text-align: right;\">\n",
       "      <th>Year</th>\n",
       "      <th>2012</th>\n",
       "      <th>2016</th>\n",
       "      <th>2020</th>\n",
       "    </tr>\n",
       "    <tr>\n",
       "      <th>Country</th>\n",
       "      <th></th>\n",
       "      <th></th>\n",
       "      <th></th>\n",
       "    </tr>\n",
       "  </thead>\n",
       "  <tbody>\n",
       "    <tr>\n",
       "      <th>Belgium</th>\n",
       "      <td>99.47</td>\n",
       "      <td>99.96</td>\n",
       "      <td>99.61</td>\n",
       "    </tr>\n",
       "    <tr>\n",
       "      <th>Denmark</th>\n",
       "      <td>98.66</td>\n",
       "      <td>98.88</td>\n",
       "      <td>98.66</td>\n",
       "    </tr>\n",
       "    <tr>\n",
       "      <th>Estonia</th>\n",
       "      <td>97.82</td>\n",
       "      <td>99.78</td>\n",
       "      <td>98.83</td>\n",
       "    </tr>\n",
       "    <tr>\n",
       "      <th>France</th>\n",
       "      <td>99.40</td>\n",
       "      <td>99.99</td>\n",
       "      <td>99.97</td>\n",
       "    </tr>\n",
       "    <tr>\n",
       "      <th>Germany</th>\n",
       "      <td>NaN</td>\n",
       "      <td>100.00</td>\n",
       "      <td>99.78</td>\n",
       "    </tr>\n",
       "    <tr>\n",
       "      <th>Greece</th>\n",
       "      <td>99.72</td>\n",
       "      <td>100.00</td>\n",
       "      <td>99.30</td>\n",
       "    </tr>\n",
       "    <tr>\n",
       "      <th>Ireland</th>\n",
       "      <td>NaN</td>\n",
       "      <td>99.88</td>\n",
       "      <td>99.21</td>\n",
       "    </tr>\n",
       "    <tr>\n",
       "      <th>Italy</th>\n",
       "      <td>99.54</td>\n",
       "      <td>99.16</td>\n",
       "      <td>99.49</td>\n",
       "    </tr>\n",
       "    <tr>\n",
       "      <th>Latvia</th>\n",
       "      <td>NaN</td>\n",
       "      <td>99.31</td>\n",
       "      <td>99.86</td>\n",
       "    </tr>\n",
       "    <tr>\n",
       "      <th>Lithuania</th>\n",
       "      <td>99.60</td>\n",
       "      <td>99.14</td>\n",
       "      <td>99.86</td>\n",
       "    </tr>\n",
       "    <tr>\n",
       "      <th>Netherlands</th>\n",
       "      <td>99.94</td>\n",
       "      <td>99.89</td>\n",
       "      <td>99.96</td>\n",
       "    </tr>\n",
       "    <tr>\n",
       "      <th>Poland</th>\n",
       "      <td>54.66</td>\n",
       "      <td>49.16</td>\n",
       "      <td>26.98</td>\n",
       "    </tr>\n",
       "    <tr>\n",
       "      <th>Portugal</th>\n",
       "      <td>99.94</td>\n",
       "      <td>100.00</td>\n",
       "      <td>100.00</td>\n",
       "    </tr>\n",
       "    <tr>\n",
       "      <th>Spain</th>\n",
       "      <td>99.79</td>\n",
       "      <td>99.96</td>\n",
       "      <td>99.95</td>\n",
       "    </tr>\n",
       "    <tr>\n",
       "      <th>Sweden</th>\n",
       "      <td>96.51</td>\n",
       "      <td>95.76</td>\n",
       "      <td>95.86</td>\n",
       "    </tr>\n",
       "    <tr>\n",
       "      <th>United Kingdom</th>\n",
       "      <td>99.80</td>\n",
       "      <td>99.92</td>\n",
       "      <td>99.82</td>\n",
       "    </tr>\n",
       "  </tbody>\n",
       "</table>\n",
       "</div>"
      ],
      "text/plain": [
       "Year             2012    2016    2020\n",
       "Country                              \n",
       "Belgium         99.47   99.96   99.61\n",
       "Denmark         98.66   98.88   98.66\n",
       "Estonia         97.82   99.78   98.83\n",
       "France          99.40   99.99   99.97\n",
       "Germany           NaN  100.00   99.78\n",
       "Greece          99.72  100.00   99.30\n",
       "Ireland           NaN   99.88   99.21\n",
       "Italy           99.54   99.16   99.49\n",
       "Latvia            NaN   99.31   99.86\n",
       "Lithuania       99.60   99.14   99.86\n",
       "Netherlands     99.94   99.89   99.96\n",
       "Poland          54.66   49.16   26.98\n",
       "Portugal        99.94  100.00  100.00\n",
       "Spain           99.79   99.96   99.95\n",
       "Sweden          96.51   95.76   95.86\n",
       "United Kingdom  99.80   99.92   99.82"
      ]
     },
     "execution_count": 369,
     "metadata": {},
     "output_type": "execute_result"
    },
    {
     "name": "stdout",
     "output_type": "stream",
     "text": [
      "Missing countries:\n",
      " Bulgaria\n",
      "Cyprus\n",
      "Croatia\n",
      "Finland\n",
      "Malta\n",
      "Romania\n"
     ]
    }
   ],
   "source": [
    "# merge subsidies-landings and calculate score\n",
    "fseLanding = pd.merge(\n",
    "    fse, landing, how=\"left\", left_on=[\"Country\", \"Year\"], right_on=[\"Country\", \"Year\"]\n",
    ")\n",
    "fseLanding[\"fseLanding\"] = fseLanding.Value / fseLanding.Landing\n",
    "fseLanding = fseLanding.pivot_table(\n",
    "    columns=\"Year\", index=\"Country\", values=\"fseLanding\", aggfunc=\"mean\"\n",
    ")\n",
    "mr = fseLanding.columns[-1]  # most recent year\n",
    "# fseLanding = fseLanding[~fseLanding.index.str.contains(\"Poland\")] Poland is an outlier\n",
    "# maxMin transformation as (max-x)/(max-min) * 100 --> converts to 0-100 scale with 0=worst, 100=best\n",
    "fseScore = (\n",
    "    (fseLanding.loc[:, 2012:mr].max().max() - fseLanding.loc[:, 2012:mr])\n",
    "    / (fseLanding.loc[:, 2012:mr].max().max() - fseLanding.loc[:, 2012:mr].min().min())\n",
    "    * 100\n",
    ").round(2)\n",
    "fseScore = fseScore.ffill(axis=1)  # fill empty values with last available year\n",
    "fseScore[[2012, 2016, mr]]\n",
    "\n",
    "\n",
    "missingCountries(fseScore)"
   ]
  },
  {
   "cell_type": "code",
   "execution_count": 25,
   "metadata": {},
   "outputs": [
    {
     "data": {
      "text/html": [
       "<div>\n",
       "<style scoped>\n",
       "    .dataframe tbody tr th:only-of-type {\n",
       "        vertical-align: middle;\n",
       "    }\n",
       "\n",
       "    .dataframe tbody tr th {\n",
       "        vertical-align: top;\n",
       "    }\n",
       "\n",
       "    .dataframe thead th {\n",
       "        text-align: right;\n",
       "    }\n",
       "</style>\n",
       "<table border=\"1\" class=\"dataframe\">\n",
       "  <thead>\n",
       "    <tr style=\"text-align: right;\">\n",
       "      <th></th>\n",
       "      <th>ReEst_Subsidy2009</th>\n",
       "    </tr>\n",
       "    <tr>\n",
       "      <th>Countries</th>\n",
       "      <th></th>\n",
       "    </tr>\n",
       "  </thead>\n",
       "  <tbody>\n",
       "    <tr>\n",
       "      <th>Belgium</th>\n",
       "      <td>3.000196e+04</td>\n",
       "    </tr>\n",
       "    <tr>\n",
       "      <th>Bulgaria</th>\n",
       "      <td>2.633312e+04</td>\n",
       "    </tr>\n",
       "    <tr>\n",
       "      <th>Croatia</th>\n",
       "      <td>9.133978e+02</td>\n",
       "    </tr>\n",
       "    <tr>\n",
       "      <th>Cyprus</th>\n",
       "      <td>1.111352e+04</td>\n",
       "    </tr>\n",
       "    <tr>\n",
       "      <th>Estonia</th>\n",
       "      <td>6.581073e+04</td>\n",
       "    </tr>\n",
       "    <tr>\n",
       "      <th>Finland</th>\n",
       "      <td>9.037797e+04</td>\n",
       "    </tr>\n",
       "    <tr>\n",
       "      <th>France</th>\n",
       "      <td>5.693041e+05</td>\n",
       "    </tr>\n",
       "    <tr>\n",
       "      <th>Germany</th>\n",
       "      <td>1.950170e+05</td>\n",
       "    </tr>\n",
       "    <tr>\n",
       "      <th>Greece</th>\n",
       "      <td>2.258344e+05</td>\n",
       "    </tr>\n",
       "    <tr>\n",
       "      <th>Ireland</th>\n",
       "      <td>1.594584e+05</td>\n",
       "    </tr>\n",
       "    <tr>\n",
       "      <th>Italy</th>\n",
       "      <td>3.686579e+05</td>\n",
       "    </tr>\n",
       "    <tr>\n",
       "      <th>Latvia</th>\n",
       "      <td>1.236160e+05</td>\n",
       "    </tr>\n",
       "    <tr>\n",
       "      <th>Lithuania</th>\n",
       "      <td>1.051834e+05</td>\n",
       "    </tr>\n",
       "    <tr>\n",
       "      <th>Malta</th>\n",
       "      <td>8.467710e+03</td>\n",
       "    </tr>\n",
       "    <tr>\n",
       "      <th>Poland</th>\n",
       "      <td>4.762180e+05</td>\n",
       "    </tr>\n",
       "    <tr>\n",
       "      <th>Portugal</th>\n",
       "      <td>1.933229e+05</td>\n",
       "    </tr>\n",
       "    <tr>\n",
       "      <th>Romania</th>\n",
       "      <td>5.901909e+04</td>\n",
       "    </tr>\n",
       "    <tr>\n",
       "      <th>Spain</th>\n",
       "      <td>1.387905e+06</td>\n",
       "    </tr>\n",
       "    <tr>\n",
       "      <th>Sweden</th>\n",
       "      <td>2.352742e+05</td>\n",
       "    </tr>\n",
       "    <tr>\n",
       "      <th>United Kingdom</th>\n",
       "      <td>5.440888e+05</td>\n",
       "    </tr>\n",
       "  </tbody>\n",
       "</table>\n",
       "</div>"
      ],
      "text/plain": [
       "                ReEst_Subsidy2009\n",
       "Countries                        \n",
       "Belgium              3.000196e+04\n",
       "Bulgaria             2.633312e+04\n",
       "Croatia              9.133978e+02\n",
       "Cyprus               1.111352e+04\n",
       "Estonia              6.581073e+04\n",
       "Finland              9.037797e+04\n",
       "France               5.693041e+05\n",
       "Germany              1.950170e+05\n",
       "Greece               2.258344e+05\n",
       "Ireland              1.594584e+05\n",
       "Italy                3.686579e+05\n",
       "Latvia               1.236160e+05\n",
       "Lithuania            1.051834e+05\n",
       "Malta                8.467710e+03\n",
       "Poland               4.762180e+05\n",
       "Portugal             1.933229e+05\n",
       "Romania              5.901909e+04\n",
       "Spain                1.387905e+06\n",
       "Sweden               2.352742e+05\n",
       "United Kingdom       5.440888e+05"
      ]
     },
     "execution_count": 25,
     "metadata": {},
     "output_type": "execute_result"
    },
    {
     "name": "stdout",
     "output_type": "stream",
     "text": [
      "Missing countries:\n",
      " Denmark\n",
      "Netherlands\n"
     ]
    },
    {
     "data": {
      "text/html": [
       "<div>\n",
       "<style scoped>\n",
       "    .dataframe tbody tr th:only-of-type {\n",
       "        vertical-align: middle;\n",
       "    }\n",
       "\n",
       "    .dataframe tbody tr th {\n",
       "        vertical-align: top;\n",
       "    }\n",
       "\n",
       "    .dataframe thead th {\n",
       "        text-align: right;\n",
       "    }\n",
       "</style>\n",
       "<table border=\"1\" class=\"dataframe\">\n",
       "  <thead>\n",
       "    <tr style=\"text-align: right;\">\n",
       "      <th></th>\n",
       "      <th>Constant 2018 USD</th>\n",
       "    </tr>\n",
       "    <tr>\n",
       "      <th>Country</th>\n",
       "      <th></th>\n",
       "    </tr>\n",
       "  </thead>\n",
       "  <tbody>\n",
       "    <tr>\n",
       "      <th>Belgium</th>\n",
       "      <td>3.499169e+07</td>\n",
       "    </tr>\n",
       "    <tr>\n",
       "      <th>Bulgaria</th>\n",
       "      <td>1.570597e+07</td>\n",
       "    </tr>\n",
       "    <tr>\n",
       "      <th>Croatia</th>\n",
       "      <td>4.364076e+07</td>\n",
       "    </tr>\n",
       "    <tr>\n",
       "      <th>Cyprus</th>\n",
       "      <td>2.950699e+07</td>\n",
       "    </tr>\n",
       "    <tr>\n",
       "      <th>Denmark</th>\n",
       "      <td>2.664440e+08</td>\n",
       "    </tr>\n",
       "    <tr>\n",
       "      <th>Estonia</th>\n",
       "      <td>8.575283e+07</td>\n",
       "    </tr>\n",
       "    <tr>\n",
       "      <th>Finland</th>\n",
       "      <td>8.503777e+07</td>\n",
       "    </tr>\n",
       "    <tr>\n",
       "      <th>France</th>\n",
       "      <td>3.328355e+08</td>\n",
       "    </tr>\n",
       "    <tr>\n",
       "      <th>Germany</th>\n",
       "      <td>1.949695e+08</td>\n",
       "    </tr>\n",
       "    <tr>\n",
       "      <th>Greece</th>\n",
       "      <td>2.193778e+08</td>\n",
       "    </tr>\n",
       "    <tr>\n",
       "      <th>Ireland</th>\n",
       "      <td>1.724855e+08</td>\n",
       "    </tr>\n",
       "    <tr>\n",
       "      <th>Italy</th>\n",
       "      <td>3.550369e+08</td>\n",
       "    </tr>\n",
       "    <tr>\n",
       "      <th>Latvia</th>\n",
       "      <td>4.112008e+07</td>\n",
       "    </tr>\n",
       "    <tr>\n",
       "      <th>Lithuania</th>\n",
       "      <td>2.689930e+07</td>\n",
       "    </tr>\n",
       "    <tr>\n",
       "      <th>Malta</th>\n",
       "      <td>2.739874e+07</td>\n",
       "    </tr>\n",
       "    <tr>\n",
       "      <th>Netherlands</th>\n",
       "      <td>1.982761e+08</td>\n",
       "    </tr>\n",
       "    <tr>\n",
       "      <th>Poland</th>\n",
       "      <td>7.613524e+07</td>\n",
       "    </tr>\n",
       "    <tr>\n",
       "      <th>Portugal</th>\n",
       "      <td>1.407283e+08</td>\n",
       "    </tr>\n",
       "    <tr>\n",
       "      <th>Romania</th>\n",
       "      <td>1.063918e+07</td>\n",
       "    </tr>\n",
       "    <tr>\n",
       "      <th>Spain</th>\n",
       "      <td>8.436523e+08</td>\n",
       "    </tr>\n",
       "    <tr>\n",
       "      <th>Sweden</th>\n",
       "      <td>2.267631e+08</td>\n",
       "    </tr>\n",
       "    <tr>\n",
       "      <th>United Kingdom</th>\n",
       "      <td>3.701858e+08</td>\n",
       "    </tr>\n",
       "  </tbody>\n",
       "</table>\n",
       "</div>"
      ],
      "text/plain": [
       "                Constant 2018 USD\n",
       "Country                          \n",
       "Belgium              3.499169e+07\n",
       "Bulgaria             1.570597e+07\n",
       "Croatia              4.364076e+07\n",
       "Cyprus               2.950699e+07\n",
       "Denmark              2.664440e+08\n",
       "Estonia              8.575283e+07\n",
       "Finland              8.503777e+07\n",
       "France               3.328355e+08\n",
       "Germany              1.949695e+08\n",
       "Greece               2.193778e+08\n",
       "Ireland              1.724855e+08\n",
       "Italy                3.550369e+08\n",
       "Latvia               4.112008e+07\n",
       "Lithuania            2.689930e+07\n",
       "Malta                2.739874e+07\n",
       "Netherlands          1.982761e+08\n",
       "Poland               7.613524e+07\n",
       "Portugal             1.407283e+08\n",
       "Romania              1.063918e+07\n",
       "Spain                8.436523e+08\n",
       "Sweden               2.267631e+08\n",
       "United Kingdom       3.701858e+08"
      ]
     },
     "execution_count": 25,
     "metadata": {},
     "output_type": "execute_result"
    },
    {
     "name": "stdout",
     "output_type": "stream",
     "text": [
      "No missing countries\n"
     ]
    }
   ],
   "source": [
    "# Alternative dataset. Difference is large\n",
    "# https://www.sciencedirect.com/science/article/abs/pii/S0308597X16000026#bib4\n",
    "sumaila2009 = pd.read_excel(\"../data/subsidies2016Sumaila.xlsx\")\n",
    "sumaila2009[\"Countries\"] = sumaila2009[\"Countries\"].str.strip()\n",
    "sumaila2009 = sumaila2009[\n",
    "    sumaila2009[\"Countries\"].isin(countries) | sumaila2009[\"Countries\"].isin(countryAbb)\n",
    "]\n",
    "sumaila2009.Countries = sumaila2009.Countries.map(abbrev_to_country).fillna(\n",
    "    sumaila2009.Countries\n",
    ")\n",
    "sumaila2009 = sumaila2009[[\"Countries\", \"ReEst_Subsidy2009\", \"SubType\"]]\n",
    "sumaila2009 = sumaila2009.groupby([\"Countries\"]).sum(numeric_only=True)\n",
    "sumaila2009\n",
    "\n",
    "missingCountries(sumaila2009)\n",
    "\n",
    "sumaila2018 = pd.read_csv(\"../data/subsidies2019Sumaila.csv\")\n",
    "sumaila2018 = sumaila2018[[\"Country\", \"Constant 2018 USD\", \"Type\"]]\n",
    "sumaila2018 = sumaila2018[sumaila2018.Country.isin(countries)]\n",
    "sumaila2018 = sumaila2018.groupby([\"Country\"]).sum(numeric_only=True)\n",
    "sumaila2018\n",
    "\n",
    "missingCountries(sumaila2018)"
   ]
  },
  {
   "attachments": {},
   "cell_type": "markdown",
   "metadata": {},
   "source": [
    "#### 2. TAC/Catch\n"
   ]
  },
  {
   "attachments": {},
   "cell_type": "markdown",
   "metadata": {},
   "source": [
    "### 14.7\n",
    "\n",
    "Sustainable fisheries as a proportion of GDP in small island developing States, least developed countries and all countries\n",
    "\n",
    "We use two indicators:\n",
    "\n",
    "1. OHI Coastal 'Livelihoods & economies' Index: No further transformation\n",
    "2. OHI 'Tourism & recreation' Index: No further transformation\n"
   ]
  },
  {
   "attachments": {},
   "cell_type": "markdown",
   "metadata": {},
   "source": [
    "#### 1. OHI 'Livelihoods & economies' Index\n",
    "\n",
    "[Source](https://oceanhealthindex.org/global-scores/data-download/)\n"
   ]
  },
  {
   "cell_type": "code",
   "execution_count": 26,
   "metadata": {},
   "outputs": [
    {
     "data": {
      "text/html": [
       "<div>\n",
       "<style scoped>\n",
       "    .dataframe tbody tr th:only-of-type {\n",
       "        vertical-align: middle;\n",
       "    }\n",
       "\n",
       "    .dataframe tbody tr th {\n",
       "        vertical-align: top;\n",
       "    }\n",
       "\n",
       "    .dataframe thead th {\n",
       "        text-align: right;\n",
       "    }\n",
       "</style>\n",
       "<table border=\"1\" class=\"dataframe\">\n",
       "  <thead>\n",
       "    <tr style=\"text-align: right;\">\n",
       "      <th>scenario</th>\n",
       "      <th>2012</th>\n",
       "      <th>2018</th>\n",
       "      <th>2022</th>\n",
       "    </tr>\n",
       "    <tr>\n",
       "      <th>region_name</th>\n",
       "      <th></th>\n",
       "      <th></th>\n",
       "      <th></th>\n",
       "    </tr>\n",
       "  </thead>\n",
       "  <tbody>\n",
       "    <tr>\n",
       "      <th>Belgium</th>\n",
       "      <td>67.75</td>\n",
       "      <td>80.50</td>\n",
       "      <td>80.50</td>\n",
       "    </tr>\n",
       "    <tr>\n",
       "      <th>Bulgaria</th>\n",
       "      <td>71.31</td>\n",
       "      <td>71.31</td>\n",
       "      <td>71.31</td>\n",
       "    </tr>\n",
       "    <tr>\n",
       "      <th>Croatia</th>\n",
       "      <td>78.76</td>\n",
       "      <td>78.56</td>\n",
       "      <td>78.56</td>\n",
       "    </tr>\n",
       "    <tr>\n",
       "      <th>Cyprus</th>\n",
       "      <td>65.03</td>\n",
       "      <td>63.18</td>\n",
       "      <td>63.18</td>\n",
       "    </tr>\n",
       "    <tr>\n",
       "      <th>Denmark</th>\n",
       "      <td>61.44</td>\n",
       "      <td>66.22</td>\n",
       "      <td>66.22</td>\n",
       "    </tr>\n",
       "    <tr>\n",
       "      <th>Estonia</th>\n",
       "      <td>59.66</td>\n",
       "      <td>73.81</td>\n",
       "      <td>73.81</td>\n",
       "    </tr>\n",
       "    <tr>\n",
       "      <th>Finland</th>\n",
       "      <td>75.44</td>\n",
       "      <td>82.24</td>\n",
       "      <td>82.24</td>\n",
       "    </tr>\n",
       "    <tr>\n",
       "      <th>France</th>\n",
       "      <td>79.40</td>\n",
       "      <td>79.41</td>\n",
       "      <td>79.41</td>\n",
       "    </tr>\n",
       "    <tr>\n",
       "      <th>Germany</th>\n",
       "      <td>86.50</td>\n",
       "      <td>89.31</td>\n",
       "      <td>89.31</td>\n",
       "    </tr>\n",
       "    <tr>\n",
       "      <th>Greece</th>\n",
       "      <td>64.92</td>\n",
       "      <td>61.38</td>\n",
       "      <td>61.38</td>\n",
       "    </tr>\n",
       "    <tr>\n",
       "      <th>Ireland</th>\n",
       "      <td>73.29</td>\n",
       "      <td>77.30</td>\n",
       "      <td>77.30</td>\n",
       "    </tr>\n",
       "    <tr>\n",
       "      <th>Italy</th>\n",
       "      <td>83.58</td>\n",
       "      <td>85.62</td>\n",
       "      <td>85.62</td>\n",
       "    </tr>\n",
       "    <tr>\n",
       "      <th>Latvia</th>\n",
       "      <td>77.74</td>\n",
       "      <td>89.50</td>\n",
       "      <td>89.50</td>\n",
       "    </tr>\n",
       "    <tr>\n",
       "      <th>Lithuania</th>\n",
       "      <td>70.18</td>\n",
       "      <td>76.21</td>\n",
       "      <td>76.21</td>\n",
       "    </tr>\n",
       "    <tr>\n",
       "      <th>Malta</th>\n",
       "      <td>84.24</td>\n",
       "      <td>86.67</td>\n",
       "      <td>86.67</td>\n",
       "    </tr>\n",
       "    <tr>\n",
       "      <th>Netherlands</th>\n",
       "      <td>60.89</td>\n",
       "      <td>62.19</td>\n",
       "      <td>62.19</td>\n",
       "    </tr>\n",
       "    <tr>\n",
       "      <th>Poland</th>\n",
       "      <td>80.23</td>\n",
       "      <td>81.50</td>\n",
       "      <td>81.50</td>\n",
       "    </tr>\n",
       "    <tr>\n",
       "      <th>Portugal</th>\n",
       "      <td>92.97</td>\n",
       "      <td>93.38</td>\n",
       "      <td>93.38</td>\n",
       "    </tr>\n",
       "    <tr>\n",
       "      <th>Romania</th>\n",
       "      <td>90.29</td>\n",
       "      <td>88.77</td>\n",
       "      <td>88.77</td>\n",
       "    </tr>\n",
       "    <tr>\n",
       "      <th>Spain</th>\n",
       "      <td>77.74</td>\n",
       "      <td>77.21</td>\n",
       "      <td>77.21</td>\n",
       "    </tr>\n",
       "    <tr>\n",
       "      <th>Sweden</th>\n",
       "      <td>100.00</td>\n",
       "      <td>100.00</td>\n",
       "      <td>100.00</td>\n",
       "    </tr>\n",
       "    <tr>\n",
       "      <th>United Kingdom</th>\n",
       "      <td>87.45</td>\n",
       "      <td>88.59</td>\n",
       "      <td>88.59</td>\n",
       "    </tr>\n",
       "  </tbody>\n",
       "</table>\n",
       "</div>"
      ],
      "text/plain": [
       "scenario          2012    2018    2022\n",
       "region_name                           \n",
       "Belgium          67.75   80.50   80.50\n",
       "Bulgaria         71.31   71.31   71.31\n",
       "Croatia          78.76   78.56   78.56\n",
       "Cyprus           65.03   63.18   63.18\n",
       "Denmark          61.44   66.22   66.22\n",
       "Estonia          59.66   73.81   73.81\n",
       "Finland          75.44   82.24   82.24\n",
       "France           79.40   79.41   79.41\n",
       "Germany          86.50   89.31   89.31\n",
       "Greece           64.92   61.38   61.38\n",
       "Ireland          73.29   77.30   77.30\n",
       "Italy            83.58   85.62   85.62\n",
       "Latvia           77.74   89.50   89.50\n",
       "Lithuania        70.18   76.21   76.21\n",
       "Malta            84.24   86.67   86.67\n",
       "Netherlands      60.89   62.19   62.19\n",
       "Poland           80.23   81.50   81.50\n",
       "Portugal         92.97   93.38   93.38\n",
       "Romania          90.29   88.77   88.77\n",
       "Spain            77.74   77.21   77.21\n",
       "Sweden          100.00  100.00  100.00\n",
       "United Kingdom   87.45   88.59   88.59"
      ]
     },
     "execution_count": 26,
     "metadata": {},
     "output_type": "execute_result"
    },
    {
     "name": "stdout",
     "output_type": "stream",
     "text": [
      "No missing countries\n"
     ]
    }
   ],
   "source": [
    "# OHI 'Livelihoods & economies' Index\n",
    "# https://oceanhealthindex.org/global-scores/data-download/\n",
    "\n",
    "ohiLive = pd.read_csv(\"../data/scoresOHI.csv\")\n",
    "ohiLive = ohiLive[ohiLive[\"region_name\"].isin(countries)]\n",
    "ohiLive = ohiLive[\n",
    "    (ohiLive.long_goal == \"Livelihoods & economies\") & (ohiLive.dimension == \"score\")\n",
    "]\n",
    "ohiLive = ohiLive.pivot_table(\n",
    "    columns=\"scenario\", index=\"region_name\", values=\"value\", aggfunc=\"mean\"\n",
    ")\n",
    "\n",
    "ohiLive[[2012, 2018, 2022]]\n",
    "\n",
    "missingCountries(ohiLive)"
   ]
  },
  {
   "attachments": {},
   "cell_type": "markdown",
   "metadata": {},
   "source": [
    "#### 2. OHI 'Tourism & recreation' Index\n",
    "\n",
    "[Source](https://oceanhealthindex.org/global-scores/data-download/)\n"
   ]
  },
  {
   "cell_type": "code",
   "execution_count": 27,
   "metadata": {},
   "outputs": [
    {
     "data": {
      "text/html": [
       "<div>\n",
       "<style scoped>\n",
       "    .dataframe tbody tr th:only-of-type {\n",
       "        vertical-align: middle;\n",
       "    }\n",
       "\n",
       "    .dataframe tbody tr th {\n",
       "        vertical-align: top;\n",
       "    }\n",
       "\n",
       "    .dataframe thead th {\n",
       "        text-align: right;\n",
       "    }\n",
       "</style>\n",
       "<table border=\"1\" class=\"dataframe\">\n",
       "  <thead>\n",
       "    <tr style=\"text-align: right;\">\n",
       "      <th>scenario</th>\n",
       "      <th>2012</th>\n",
       "      <th>2018</th>\n",
       "      <th>2022</th>\n",
       "    </tr>\n",
       "    <tr>\n",
       "      <th>region_name</th>\n",
       "      <th></th>\n",
       "      <th></th>\n",
       "      <th></th>\n",
       "    </tr>\n",
       "  </thead>\n",
       "  <tbody>\n",
       "    <tr>\n",
       "      <th>Belgium</th>\n",
       "      <td>25.64</td>\n",
       "      <td>23.87</td>\n",
       "      <td>22.89</td>\n",
       "    </tr>\n",
       "    <tr>\n",
       "      <th>Bulgaria</th>\n",
       "      <td>23.30</td>\n",
       "      <td>27.91</td>\n",
       "      <td>19.88</td>\n",
       "    </tr>\n",
       "    <tr>\n",
       "      <th>Croatia</th>\n",
       "      <td>69.36</td>\n",
       "      <td>88.66</td>\n",
       "      <td>70.06</td>\n",
       "    </tr>\n",
       "    <tr>\n",
       "      <th>Cyprus</th>\n",
       "      <td>60.50</td>\n",
       "      <td>58.80</td>\n",
       "      <td>59.75</td>\n",
       "    </tr>\n",
       "    <tr>\n",
       "      <th>Denmark</th>\n",
       "      <td>23.47</td>\n",
       "      <td>27.84</td>\n",
       "      <td>22.73</td>\n",
       "    </tr>\n",
       "    <tr>\n",
       "      <th>Estonia</th>\n",
       "      <td>38.02</td>\n",
       "      <td>41.89</td>\n",
       "      <td>36.82</td>\n",
       "    </tr>\n",
       "    <tr>\n",
       "      <th>Finland</th>\n",
       "      <td>24.10</td>\n",
       "      <td>26.95</td>\n",
       "      <td>19.94</td>\n",
       "    </tr>\n",
       "    <tr>\n",
       "      <th>France</th>\n",
       "      <td>44.27</td>\n",
       "      <td>47.72</td>\n",
       "      <td>45.29</td>\n",
       "    </tr>\n",
       "    <tr>\n",
       "      <th>Germany</th>\n",
       "      <td>71.18</td>\n",
       "      <td>72.50</td>\n",
       "      <td>61.55</td>\n",
       "    </tr>\n",
       "    <tr>\n",
       "      <th>Greece</th>\n",
       "      <td>85.06</td>\n",
       "      <td>100.00</td>\n",
       "      <td>100.00</td>\n",
       "    </tr>\n",
       "    <tr>\n",
       "      <th>Ireland</th>\n",
       "      <td>23.52</td>\n",
       "      <td>22.06</td>\n",
       "      <td>21.68</td>\n",
       "    </tr>\n",
       "    <tr>\n",
       "      <th>Italy</th>\n",
       "      <td>54.93</td>\n",
       "      <td>65.70</td>\n",
       "      <td>57.67</td>\n",
       "    </tr>\n",
       "    <tr>\n",
       "      <th>Latvia</th>\n",
       "      <td>36.83</td>\n",
       "      <td>33.42</td>\n",
       "      <td>30.08</td>\n",
       "    </tr>\n",
       "    <tr>\n",
       "      <th>Lithuania</th>\n",
       "      <td>14.03</td>\n",
       "      <td>19.44</td>\n",
       "      <td>14.89</td>\n",
       "    </tr>\n",
       "    <tr>\n",
       "      <th>Malta</th>\n",
       "      <td>100.00</td>\n",
       "      <td>100.00</td>\n",
       "      <td>100.00</td>\n",
       "    </tr>\n",
       "    <tr>\n",
       "      <th>Netherlands</th>\n",
       "      <td>61.06</td>\n",
       "      <td>61.17</td>\n",
       "      <td>62.31</td>\n",
       "    </tr>\n",
       "    <tr>\n",
       "      <th>Poland</th>\n",
       "      <td>16.68</td>\n",
       "      <td>19.69</td>\n",
       "      <td>17.89</td>\n",
       "    </tr>\n",
       "    <tr>\n",
       "      <th>Portugal</th>\n",
       "      <td>61.92</td>\n",
       "      <td>89.12</td>\n",
       "      <td>72.35</td>\n",
       "    </tr>\n",
       "    <tr>\n",
       "      <th>Romania</th>\n",
       "      <td>20.15</td>\n",
       "      <td>24.25</td>\n",
       "      <td>22.50</td>\n",
       "    </tr>\n",
       "    <tr>\n",
       "      <th>Spain</th>\n",
       "      <td>40.22</td>\n",
       "      <td>48.27</td>\n",
       "      <td>41.12</td>\n",
       "    </tr>\n",
       "    <tr>\n",
       "      <th>Sweden</th>\n",
       "      <td>37.09</td>\n",
       "      <td>42.52</td>\n",
       "      <td>31.40</td>\n",
       "    </tr>\n",
       "    <tr>\n",
       "      <th>United Kingdom</th>\n",
       "      <td>50.05</td>\n",
       "      <td>53.90</td>\n",
       "      <td>50.69</td>\n",
       "    </tr>\n",
       "  </tbody>\n",
       "</table>\n",
       "</div>"
      ],
      "text/plain": [
       "scenario          2012    2018    2022\n",
       "region_name                           \n",
       "Belgium          25.64   23.87   22.89\n",
       "Bulgaria         23.30   27.91   19.88\n",
       "Croatia          69.36   88.66   70.06\n",
       "Cyprus           60.50   58.80   59.75\n",
       "Denmark          23.47   27.84   22.73\n",
       "Estonia          38.02   41.89   36.82\n",
       "Finland          24.10   26.95   19.94\n",
       "France           44.27   47.72   45.29\n",
       "Germany          71.18   72.50   61.55\n",
       "Greece           85.06  100.00  100.00\n",
       "Ireland          23.52   22.06   21.68\n",
       "Italy            54.93   65.70   57.67\n",
       "Latvia           36.83   33.42   30.08\n",
       "Lithuania        14.03   19.44   14.89\n",
       "Malta           100.00  100.00  100.00\n",
       "Netherlands      61.06   61.17   62.31\n",
       "Poland           16.68   19.69   17.89\n",
       "Portugal         61.92   89.12   72.35\n",
       "Romania          20.15   24.25   22.50\n",
       "Spain            40.22   48.27   41.12\n",
       "Sweden           37.09   42.52   31.40\n",
       "United Kingdom   50.05   53.90   50.69"
      ]
     },
     "execution_count": 27,
     "metadata": {},
     "output_type": "execute_result"
    },
    {
     "name": "stdout",
     "output_type": "stream",
     "text": [
      "No missing countries\n"
     ]
    }
   ],
   "source": [
    "# OHI 'Tourism & recreation' Index\n",
    "# https://oceanhealthindex.org/global-scores/data-download/\n",
    "\n",
    "ohiTour = pd.read_csv(\"../data/scoresOHI.csv\")\n",
    "ohiTour = ohiTour[ohiTour[\"region_name\"].isin(countries)]\n",
    "ohiTour = ohiTour[\n",
    "    (ohiTour.long_goal == \"Tourism & recreation\") & (ohiTour.dimension == \"score\")\n",
    "]\n",
    "ohiTour = ohiTour.pivot_table(\n",
    "    columns=\"scenario\", index=\"region_name\", values=\"value\", aggfunc=\"mean\"\n",
    ")\n",
    "\n",
    "ohiTour[[2012, 2018, 2022]]\n",
    "\n",
    "missingCountries(ohiTour)"
   ]
  },
  {
   "attachments": {},
   "cell_type": "markdown",
   "metadata": {},
   "source": [
    "### 14.a\n",
    "\n",
    "Proportion of total research budget allocated to research in the field of marine technology\n",
    "\n",
    "We use two indicators:\n",
    "\n",
    "1. Official UNSD indicator ER_RDE_OSEX: Max-Min transformation where the max-value and min-value are the maximum and minimum in the assessment period (2009-2017) of all European countries (not restricted to the countries in the analysis).\n",
    "2. SAD/TAC: Catch-weighted TAC relative to Scientific Advice\n",
    "\n",
    "Note: ER_RDE_OSEX data comes from Global Ocean Science Report (GOSR) 2020, and goes from 2013 to 2017. Data for 2009-2012 data is available in the [UNstats archive](https://unstats.un.org/sdgs/indicators/database/archive) (download csv for 29-Mar-19)\n"
   ]
  },
  {
   "attachments": {},
   "cell_type": "markdown",
   "metadata": {},
   "source": [
    "#### 1. Ocean science expenditure ER_RDE_OSEX\n",
    "\n",
    "Several sources\n"
   ]
  },
  {
   "cell_type": "code",
   "execution_count": 185,
   "metadata": {},
   "outputs": [],
   "source": [
    "# EEZ area\n",
    "# https://emodnet.ec.europa.eu/geonetwork/srv/eng/catalog.search#/metadata/d4a3fede-b0aa-485e-b4b2-77e8e3801fd0\n",
    "eez = pd.read_csv(\n",
    "    \"../data/EMODnet_EEZ_v11_20210506.csv\", delimiter=\";\", encoding=\"latin-1\"\n",
    ")\n",
    "eez = eez[[\"Territory\", \"Area_km2\"]].groupby([\"Territory\"]).sum(numeric_only=True)\n",
    "eez = eez[eez.index.isin(allEurope)]"
   ]
  },
  {
   "cell_type": "code",
   "execution_count": 29,
   "metadata": {},
   "outputs": [],
   "source": [
    "# %%time\n",
    "# National ocean science expenditure as a share of total research and development funding (%), UNstats archive (years 2009-2012)\n",
    "# https://unstats.un.org/sdgs/indicators/database/archive\n",
    "\n",
    "# # read old data by chunks to speed loading and save 14.a.1 to separate file\n",
    "# iter_csv = pd.read_csv('./data/AllData_Onward_20190329.csv', iterator=True, chunksize=1000, encoding='cp1252')\n",
    "# oResearchOld = pd.concat([chunk[chunk.Indicator == '14.a.1'] for chunk in iter_csv])\n",
    "# oResearchOld.to_csv('./data/archive14a1.csv', index=False)\n",
    "\n",
    "oResearchOld = pd.read_csv(\"../data/archive14a1.csv\")\n",
    "oResearchOld = oResearchOld.pivot(\n",
    "    index=\"GeoAreaName\", columns=\"TimePeriod\", values=\"Value\"\n",
    ")"
   ]
  },
  {
   "cell_type": "code",
   "execution_count": 370,
   "metadata": {},
   "outputs": [
    {
     "data": {
      "text/html": [
       "<div>\n",
       "<style scoped>\n",
       "    .dataframe tbody tr th:only-of-type {\n",
       "        vertical-align: middle;\n",
       "    }\n",
       "\n",
       "    .dataframe tbody tr th {\n",
       "        vertical-align: top;\n",
       "    }\n",
       "\n",
       "    .dataframe thead th {\n",
       "        text-align: right;\n",
       "    }\n",
       "</style>\n",
       "<table border=\"1\" class=\"dataframe\">\n",
       "  <thead>\n",
       "    <tr style=\"text-align: right;\">\n",
       "      <th>TimePeriod</th>\n",
       "      <th>2009</th>\n",
       "      <th>2010</th>\n",
       "      <th>2011</th>\n",
       "      <th>2012</th>\n",
       "      <th>2013_x</th>\n",
       "      <th>2013_y</th>\n",
       "      <th>2014</th>\n",
       "      <th>2015</th>\n",
       "      <th>2016</th>\n",
       "      <th>2017</th>\n",
       "      <th>2018</th>\n",
       "      <th>2019</th>\n",
       "      <th>2020</th>\n",
       "      <th>2021</th>\n",
       "    </tr>\n",
       "    <tr>\n",
       "      <th>GeoAreaName</th>\n",
       "      <th></th>\n",
       "      <th></th>\n",
       "      <th></th>\n",
       "      <th></th>\n",
       "      <th></th>\n",
       "      <th></th>\n",
       "      <th></th>\n",
       "      <th></th>\n",
       "      <th></th>\n",
       "      <th></th>\n",
       "      <th></th>\n",
       "      <th></th>\n",
       "      <th></th>\n",
       "      <th></th>\n",
       "    </tr>\n",
       "  </thead>\n",
       "  <tbody>\n",
       "    <tr>\n",
       "      <th>Belgium</th>\n",
       "      <td>0.10139</td>\n",
       "      <td>0.06896</td>\n",
       "      <td>0.04898</td>\n",
       "      <td>0.05072</td>\n",
       "      <td>NaN</td>\n",
       "      <td>0.37339</td>\n",
       "      <td>0.35534</td>\n",
       "      <td>0.29857</td>\n",
       "      <td>0.28028</td>\n",
       "      <td>0.26589</td>\n",
       "      <td>0.039</td>\n",
       "      <td>0.122</td>\n",
       "      <td>0.136</td>\n",
       "      <td>0.121</td>\n",
       "    </tr>\n",
       "    <tr>\n",
       "      <th>Bulgaria</th>\n",
       "      <td>NaN</td>\n",
       "      <td>NaN</td>\n",
       "      <td>NaN</td>\n",
       "      <td>NaN</td>\n",
       "      <td>NaN</td>\n",
       "      <td>0.08690</td>\n",
       "      <td>0.06631</td>\n",
       "      <td>0.04895</td>\n",
       "      <td>0.05712</td>\n",
       "      <td>0.06366</td>\n",
       "      <td>NaN</td>\n",
       "      <td>NaN</td>\n",
       "      <td>NaN</td>\n",
       "      <td>NaN</td>\n",
       "    </tr>\n",
       "    <tr>\n",
       "      <th>Croatia</th>\n",
       "      <td>NaN</td>\n",
       "      <td>NaN</td>\n",
       "      <td>NaN</td>\n",
       "      <td>NaN</td>\n",
       "      <td>4.73095</td>\n",
       "      <td>2.92606</td>\n",
       "      <td>NaN</td>\n",
       "      <td>NaN</td>\n",
       "      <td>NaN</td>\n",
       "      <td>NaN</td>\n",
       "      <td>NaN</td>\n",
       "      <td>NaN</td>\n",
       "      <td>NaN</td>\n",
       "      <td>NaN</td>\n",
       "    </tr>\n",
       "    <tr>\n",
       "      <th>Finland</th>\n",
       "      <td>0.13736</td>\n",
       "      <td>0.15909</td>\n",
       "      <td>0.00017</td>\n",
       "      <td>0.20056</td>\n",
       "      <td>0.19544</td>\n",
       "      <td>0.31524</td>\n",
       "      <td>0.33874</td>\n",
       "      <td>0.30814</td>\n",
       "      <td>0.31978</td>\n",
       "      <td>0.31646</td>\n",
       "      <td>NaN</td>\n",
       "      <td>NaN</td>\n",
       "      <td>NaN</td>\n",
       "      <td>NaN</td>\n",
       "    </tr>\n",
       "    <tr>\n",
       "      <th>France</th>\n",
       "      <td>NaN</td>\n",
       "      <td>NaN</td>\n",
       "      <td>NaN</td>\n",
       "      <td>NaN</td>\n",
       "      <td>0.79318</td>\n",
       "      <td>NaN</td>\n",
       "      <td>NaN</td>\n",
       "      <td>NaN</td>\n",
       "      <td>NaN</td>\n",
       "      <td>0.52954</td>\n",
       "      <td>NaN</td>\n",
       "      <td>NaN</td>\n",
       "      <td>0.560</td>\n",
       "      <td>0.579</td>\n",
       "    </tr>\n",
       "    <tr>\n",
       "      <th>Germany</th>\n",
       "      <td>NaN</td>\n",
       "      <td>NaN</td>\n",
       "      <td>NaN</td>\n",
       "      <td>NaN</td>\n",
       "      <td>0.39863</td>\n",
       "      <td>0.32170</td>\n",
       "      <td>0.30502</td>\n",
       "      <td>0.24607</td>\n",
       "      <td>0.25098</td>\n",
       "      <td>0.24542</td>\n",
       "      <td>0.273</td>\n",
       "      <td>0.247</td>\n",
       "      <td>0.282</td>\n",
       "      <td>0.338</td>\n",
       "    </tr>\n",
       "    <tr>\n",
       "      <th>Ireland</th>\n",
       "      <td>NaN</td>\n",
       "      <td>NaN</td>\n",
       "      <td>NaN</td>\n",
       "      <td>NaN</td>\n",
       "      <td>NaN</td>\n",
       "      <td>NaN</td>\n",
       "      <td>NaN</td>\n",
       "      <td>NaN</td>\n",
       "      <td>NaN</td>\n",
       "      <td>4.80811</td>\n",
       "      <td>NaN</td>\n",
       "      <td>NaN</td>\n",
       "      <td>NaN</td>\n",
       "      <td>NaN</td>\n",
       "    </tr>\n",
       "    <tr>\n",
       "      <th>Italy</th>\n",
       "      <td>0.68649</td>\n",
       "      <td>0.74768</td>\n",
       "      <td>0.86588</td>\n",
       "      <td>1.04130</td>\n",
       "      <td>1.04468</td>\n",
       "      <td>0.36694</td>\n",
       "      <td>0.35486</td>\n",
       "      <td>0.30667</td>\n",
       "      <td>0.30592</td>\n",
       "      <td>0.19400</td>\n",
       "      <td>NaN</td>\n",
       "      <td>NaN</td>\n",
       "      <td>NaN</td>\n",
       "      <td>NaN</td>\n",
       "    </tr>\n",
       "    <tr>\n",
       "      <th>Netherlands</th>\n",
       "      <td>NaN</td>\n",
       "      <td>NaN</td>\n",
       "      <td>NaN</td>\n",
       "      <td>NaN</td>\n",
       "      <td>NaN</td>\n",
       "      <td>0.24938</td>\n",
       "      <td>0.23610</td>\n",
       "      <td>0.20488</td>\n",
       "      <td>0.21217</td>\n",
       "      <td>0.23503</td>\n",
       "      <td>NaN</td>\n",
       "      <td>NaN</td>\n",
       "      <td>NaN</td>\n",
       "      <td>NaN</td>\n",
       "    </tr>\n",
       "    <tr>\n",
       "      <th>Norway</th>\n",
       "      <td>2.69262</td>\n",
       "      <td>NaN</td>\n",
       "      <td>3.28223</td>\n",
       "      <td>NaN</td>\n",
       "      <td>3.57744</td>\n",
       "      <td>6.98989</td>\n",
       "      <td>NaN</td>\n",
       "      <td>5.60533</td>\n",
       "      <td>NaN</td>\n",
       "      <td>5.35469</td>\n",
       "      <td>NaN</td>\n",
       "      <td>NaN</td>\n",
       "      <td>NaN</td>\n",
       "      <td>NaN</td>\n",
       "    </tr>\n",
       "    <tr>\n",
       "      <th>Poland</th>\n",
       "      <td>NaN</td>\n",
       "      <td>NaN</td>\n",
       "      <td>NaN</td>\n",
       "      <td>NaN</td>\n",
       "      <td>NaN</td>\n",
       "      <td>0.17224</td>\n",
       "      <td>0.18258</td>\n",
       "      <td>0.12176</td>\n",
       "      <td>0.11960</td>\n",
       "      <td>0.11541</td>\n",
       "      <td>NaN</td>\n",
       "      <td>NaN</td>\n",
       "      <td>NaN</td>\n",
       "      <td>NaN</td>\n",
       "    </tr>\n",
       "    <tr>\n",
       "      <th>Portugal</th>\n",
       "      <td>NaN</td>\n",
       "      <td>NaN</td>\n",
       "      <td>NaN</td>\n",
       "      <td>NaN</td>\n",
       "      <td>NaN</td>\n",
       "      <td>NaN</td>\n",
       "      <td>2.20526</td>\n",
       "      <td>2.50724</td>\n",
       "      <td>2.39374</td>\n",
       "      <td>NaN</td>\n",
       "      <td>NaN</td>\n",
       "      <td>NaN</td>\n",
       "      <td>NaN</td>\n",
       "      <td>NaN</td>\n",
       "    </tr>\n",
       "    <tr>\n",
       "      <th>Romania</th>\n",
       "      <td>0.46525</td>\n",
       "      <td>0.34974</td>\n",
       "      <td>0.51346</td>\n",
       "      <td>0.54116</td>\n",
       "      <td>0.64881</td>\n",
       "      <td>NaN</td>\n",
       "      <td>NaN</td>\n",
       "      <td>NaN</td>\n",
       "      <td>NaN</td>\n",
       "      <td>NaN</td>\n",
       "      <td>NaN</td>\n",
       "      <td>NaN</td>\n",
       "      <td>NaN</td>\n",
       "      <td>NaN</td>\n",
       "    </tr>\n",
       "    <tr>\n",
       "      <th>Spain</th>\n",
       "      <td>NaN</td>\n",
       "      <td>0.37284</td>\n",
       "      <td>0.36979</td>\n",
       "      <td>0.35975</td>\n",
       "      <td>0.28410</td>\n",
       "      <td>NaN</td>\n",
       "      <td>NaN</td>\n",
       "      <td>NaN</td>\n",
       "      <td>0.49478</td>\n",
       "      <td>0.45241</td>\n",
       "      <td>NaN</td>\n",
       "      <td>NaN</td>\n",
       "      <td>NaN</td>\n",
       "      <td>NaN</td>\n",
       "    </tr>\n",
       "  </tbody>\n",
       "</table>\n",
       "</div>"
      ],
      "text/plain": [
       "TimePeriod      2009     2010     2011     2012   2013_x   2013_y     2014  \\\n",
       "GeoAreaName                                                                  \n",
       "Belgium      0.10139  0.06896  0.04898  0.05072      NaN  0.37339  0.35534   \n",
       "Bulgaria         NaN      NaN      NaN      NaN      NaN  0.08690  0.06631   \n",
       "Croatia          NaN      NaN      NaN      NaN  4.73095  2.92606      NaN   \n",
       "Finland      0.13736  0.15909  0.00017  0.20056  0.19544  0.31524  0.33874   \n",
       "France           NaN      NaN      NaN      NaN  0.79318      NaN      NaN   \n",
       "Germany          NaN      NaN      NaN      NaN  0.39863  0.32170  0.30502   \n",
       "Ireland          NaN      NaN      NaN      NaN      NaN      NaN      NaN   \n",
       "Italy        0.68649  0.74768  0.86588  1.04130  1.04468  0.36694  0.35486   \n",
       "Netherlands      NaN      NaN      NaN      NaN      NaN  0.24938  0.23610   \n",
       "Norway       2.69262      NaN  3.28223      NaN  3.57744  6.98989      NaN   \n",
       "Poland           NaN      NaN      NaN      NaN      NaN  0.17224  0.18258   \n",
       "Portugal         NaN      NaN      NaN      NaN      NaN      NaN  2.20526   \n",
       "Romania      0.46525  0.34974  0.51346  0.54116  0.64881      NaN      NaN   \n",
       "Spain            NaN  0.37284  0.36979  0.35975  0.28410      NaN      NaN   \n",
       "\n",
       "TimePeriod      2015     2016     2017   2018   2019   2020   2021  \n",
       "GeoAreaName                                                         \n",
       "Belgium      0.29857  0.28028  0.26589  0.039  0.122  0.136  0.121  \n",
       "Bulgaria     0.04895  0.05712  0.06366    NaN    NaN    NaN    NaN  \n",
       "Croatia          NaN      NaN      NaN    NaN    NaN    NaN    NaN  \n",
       "Finland      0.30814  0.31978  0.31646    NaN    NaN    NaN    NaN  \n",
       "France           NaN      NaN  0.52954    NaN    NaN  0.560  0.579  \n",
       "Germany      0.24607  0.25098  0.24542  0.273  0.247  0.282  0.338  \n",
       "Ireland          NaN      NaN  4.80811    NaN    NaN    NaN    NaN  \n",
       "Italy        0.30667  0.30592  0.19400    NaN    NaN    NaN    NaN  \n",
       "Netherlands  0.20488  0.21217  0.23503    NaN    NaN    NaN    NaN  \n",
       "Norway       5.60533      NaN  5.35469    NaN    NaN    NaN    NaN  \n",
       "Poland       0.12176  0.11960  0.11541    NaN    NaN    NaN    NaN  \n",
       "Portugal     2.50724  2.39374      NaN    NaN    NaN    NaN    NaN  \n",
       "Romania          NaN      NaN      NaN    NaN    NaN    NaN    NaN  \n",
       "Spain            NaN  0.49478  0.45241    NaN    NaN    NaN    NaN  "
      ]
     },
     "execution_count": 370,
     "metadata": {},
     "output_type": "execute_result"
    },
    {
     "data": {
      "text/html": [
       "<div>\n",
       "<style scoped>\n",
       "    .dataframe tbody tr th:only-of-type {\n",
       "        vertical-align: middle;\n",
       "    }\n",
       "\n",
       "    .dataframe tbody tr th {\n",
       "        vertical-align: top;\n",
       "    }\n",
       "\n",
       "    .dataframe thead th {\n",
       "        text-align: right;\n",
       "    }\n",
       "</style>\n",
       "<table border=\"1\" class=\"dataframe\">\n",
       "  <thead>\n",
       "    <tr style=\"text-align: right;\">\n",
       "      <th></th>\n",
       "      <th>2013</th>\n",
       "      <th>2017</th>\n",
       "    </tr>\n",
       "  </thead>\n",
       "  <tbody>\n",
       "    <tr>\n",
       "      <th>Belgium</th>\n",
       "      <td>0.020000</td>\n",
       "      <td>0.000</td>\n",
       "    </tr>\n",
       "    <tr>\n",
       "      <th>Bulgaria</th>\n",
       "      <td>0.100000</td>\n",
       "      <td>0.060</td>\n",
       "    </tr>\n",
       "    <tr>\n",
       "      <th>Croatia</th>\n",
       "      <td>7.850000</td>\n",
       "      <td>12.894</td>\n",
       "    </tr>\n",
       "    <tr>\n",
       "      <th>Cyprus</th>\n",
       "      <td>3.858182</td>\n",
       "      <td>12.894</td>\n",
       "    </tr>\n",
       "    <tr>\n",
       "      <th>Denmark</th>\n",
       "      <td>3.858182</td>\n",
       "      <td>12.894</td>\n",
       "    </tr>\n",
       "    <tr>\n",
       "      <th>Estonia</th>\n",
       "      <td>3.858182</td>\n",
       "      <td>12.894</td>\n",
       "    </tr>\n",
       "    <tr>\n",
       "      <th>Finland</th>\n",
       "      <td>1.210000</td>\n",
       "      <td>1.210</td>\n",
       "    </tr>\n",
       "    <tr>\n",
       "      <th>France</th>\n",
       "      <td>13.300000</td>\n",
       "      <td>8.860</td>\n",
       "    </tr>\n",
       "    <tr>\n",
       "      <th>Germany</th>\n",
       "      <td>0.840000</td>\n",
       "      <td>0.630</td>\n",
       "    </tr>\n",
       "    <tr>\n",
       "      <th>Greece</th>\n",
       "      <td>3.858182</td>\n",
       "      <td>12.894</td>\n",
       "    </tr>\n",
       "    <tr>\n",
       "      <th>Ireland</th>\n",
       "      <td>3.858182</td>\n",
       "      <td>100.000</td>\n",
       "    </tr>\n",
       "    <tr>\n",
       "      <th>Italy</th>\n",
       "      <td>9.550000</td>\n",
       "      <td>5.030</td>\n",
       "    </tr>\n",
       "    <tr>\n",
       "      <th>Latvia</th>\n",
       "      <td>3.858182</td>\n",
       "      <td>12.894</td>\n",
       "    </tr>\n",
       "    <tr>\n",
       "      <th>Lithuania</th>\n",
       "      <td>3.858182</td>\n",
       "      <td>12.894</td>\n",
       "    </tr>\n",
       "    <tr>\n",
       "      <th>Malta</th>\n",
       "      <td>3.858182</td>\n",
       "      <td>12.894</td>\n",
       "    </tr>\n",
       "    <tr>\n",
       "      <th>Netherlands</th>\n",
       "      <td>0.740000</td>\n",
       "      <td>0.690</td>\n",
       "    </tr>\n",
       "    <tr>\n",
       "      <th>Poland</th>\n",
       "      <td>0.210000</td>\n",
       "      <td>0.120</td>\n",
       "    </tr>\n",
       "    <tr>\n",
       "      <th>Portugal</th>\n",
       "      <td>3.858182</td>\n",
       "      <td>12.894</td>\n",
       "    </tr>\n",
       "    <tr>\n",
       "      <th>Romania</th>\n",
       "      <td>0.890000</td>\n",
       "      <td>12.894</td>\n",
       "    </tr>\n",
       "    <tr>\n",
       "      <th>Spain</th>\n",
       "      <td>7.730000</td>\n",
       "      <td>12.340</td>\n",
       "    </tr>\n",
       "    <tr>\n",
       "      <th>Sweden</th>\n",
       "      <td>3.858182</td>\n",
       "      <td>12.894</td>\n",
       "    </tr>\n",
       "    <tr>\n",
       "      <th>United Kingdom</th>\n",
       "      <td>3.858182</td>\n",
       "      <td>12.894</td>\n",
       "    </tr>\n",
       "  </tbody>\n",
       "</table>\n",
       "</div>"
      ],
      "text/plain": [
       "                     2013     2017\n",
       "Belgium          0.020000    0.000\n",
       "Bulgaria         0.100000    0.060\n",
       "Croatia          7.850000   12.894\n",
       "Cyprus           3.858182   12.894\n",
       "Denmark          3.858182   12.894\n",
       "Estonia          3.858182   12.894\n",
       "Finland          1.210000    1.210\n",
       "France          13.300000    8.860\n",
       "Germany          0.840000    0.630\n",
       "Greece           3.858182   12.894\n",
       "Ireland          3.858182  100.000\n",
       "Italy            9.550000    5.030\n",
       "Latvia           3.858182   12.894\n",
       "Lithuania        3.858182   12.894\n",
       "Malta            3.858182   12.894\n",
       "Netherlands      0.740000    0.690\n",
       "Poland           0.210000    0.120\n",
       "Portugal         3.858182   12.894\n",
       "Romania          0.890000   12.894\n",
       "Spain            7.730000   12.340\n",
       "Sweden           3.858182   12.894\n",
       "United Kingdom   3.858182   12.894"
      ]
     },
     "execution_count": 370,
     "metadata": {},
     "output_type": "execute_result"
    },
    {
     "name": "stdout",
     "output_type": "stream",
     "text": [
      "No missing countries\n"
     ]
    }
   ],
   "source": [
    "# National ocean science expenditure as a share of total research and development funding (%), UNstats\n",
    "# https://unstats.un.org/sdgs/dataportal/database\n",
    "\n",
    "# read official data and merge with archive data\n",
    "oResearch = sdg14[sdg14[\"SeriesCode\"] == \"ER_RDE_OSEX\"].pivot_table(\n",
    "    columns=\"TimePeriod\", index=\"GeoAreaName\", values=\"Value\", aggfunc=\"mean\"\n",
    ")\n",
    "oResearch = oResearchOld.merge(\n",
    "    oResearch, left_index=True, right_index=True, how=\"outer\"\n",
    ")\n",
    "# use all countries in Europe\n",
    "oResearch = oResearch[oResearch.index.isin(allEurope)].dropna(how=\"all\", axis=1)\n",
    "oResearch\n",
    "# fill nan of year 2013 from new report with old report and 2016 with 2017\n",
    "oResearch[2013] = oResearch[\"2013_y\"].fillna(oResearch[\"2013_x\"])\n",
    "oResearch[2016] = oResearch[2016].fillna(oResearch[2017])\n",
    "oResearch = oResearch[list(range(2013, 2018))]\n",
    "# weighted by EEZ area\n",
    "oResearch = oResearch.merge(eez, left_index=True, right_index=True, how=\"outer\")\n",
    "for col in oResearch.drop(\"Area_km2\", axis=1).columns:\n",
    "    oResearch[col] = (\n",
    "        oResearch[col] * oResearch[\"Area_km2\"] / (oResearch[\"Area_km2\"].sum())\n",
    "    )\n",
    "# maxMin transformation as (x - min)/(max-min) * 100 --> converts to 0-100 scale with 0=worst, 100=best\n",
    "oResearch = (\n",
    "    (oResearch.loc[:, 2013:2017] - oResearch.loc[:, 2013:2017].min().min())\n",
    "    / (\n",
    "        oResearch.loc[:, 2013:2017].max().max()\n",
    "        - oResearch.loc[:, 2013:2017].min().min()\n",
    "    )\n",
    "    * 100\n",
    ").round(2)\n",
    "# fill nan with mean of column\n",
    "for col in oResearch.columns:\n",
    "    oResearch[col] = oResearch[col].fillna(oResearch[col].mean())\n",
    "\n",
    "oResearch = oResearch[oResearch.index.isin(countries)]\n",
    "oResearch[[2013, 2017]]\n",
    "# 2013,2016,2017\n",
    "\n",
    "missingCountries(oResearch)"
   ]
  },
  {
   "attachments": {},
   "cell_type": "markdown",
   "metadata": {},
   "source": [
    "#### 2. SAD/TAC\n"
   ]
  },
  {
   "cell_type": "code",
   "execution_count": 31,
   "metadata": {},
   "outputs": [],
   "source": [
    "# If a country fishes only on fish stocks where assignment of TAC follows scientific advice, it would score 100"
   ]
  },
  {
   "attachments": {},
   "cell_type": "markdown",
   "metadata": {},
   "source": [
    "### 14.b\n",
    "\n",
    "Degree of application of a legal/regulatory/policy/institutional framework which recognizes and protects access rights for small‐scale fisheries\n",
    "\n",
    "We use two indicators:\n",
    "\n",
    "1. OHI Artisanal Fishing Opportunities Index: No further transformation\n",
    "2. Percentage of Fish Species Threatened: No further transformation\n"
   ]
  },
  {
   "attachments": {},
   "cell_type": "markdown",
   "metadata": {},
   "source": [
    "#### 1. OHI 'Artisanal opportunities' Index\n",
    "\n",
    "[Source](https://oceanhealthindex.org/global-scores/data-download/)\n"
   ]
  },
  {
   "cell_type": "code",
   "execution_count": 366,
   "metadata": {},
   "outputs": [
    {
     "data": {
      "text/html": [
       "<div>\n",
       "<style scoped>\n",
       "    .dataframe tbody tr th:only-of-type {\n",
       "        vertical-align: middle;\n",
       "    }\n",
       "\n",
       "    .dataframe tbody tr th {\n",
       "        vertical-align: top;\n",
       "    }\n",
       "\n",
       "    .dataframe thead th {\n",
       "        text-align: right;\n",
       "    }\n",
       "</style>\n",
       "<table border=\"1\" class=\"dataframe\">\n",
       "  <thead>\n",
       "    <tr style=\"text-align: right;\">\n",
       "      <th>scenario</th>\n",
       "      <th>2012</th>\n",
       "      <th>2018</th>\n",
       "      <th>2022</th>\n",
       "    </tr>\n",
       "    <tr>\n",
       "      <th>region_name</th>\n",
       "      <th></th>\n",
       "      <th></th>\n",
       "      <th></th>\n",
       "    </tr>\n",
       "  </thead>\n",
       "  <tbody>\n",
       "    <tr>\n",
       "      <th>Belgium</th>\n",
       "      <td>79.51</td>\n",
       "      <td>77.65</td>\n",
       "      <td>78.66</td>\n",
       "    </tr>\n",
       "    <tr>\n",
       "      <th>Bulgaria</th>\n",
       "      <td>56.01</td>\n",
       "      <td>55.59</td>\n",
       "      <td>63.71</td>\n",
       "    </tr>\n",
       "    <tr>\n",
       "      <th>Croatia</th>\n",
       "      <td>66.35</td>\n",
       "      <td>62.56</td>\n",
       "      <td>67.33</td>\n",
       "    </tr>\n",
       "    <tr>\n",
       "      <th>Cyprus</th>\n",
       "      <td>77.16</td>\n",
       "      <td>71.91</td>\n",
       "      <td>76.38</td>\n",
       "    </tr>\n",
       "    <tr>\n",
       "      <th>Denmark</th>\n",
       "      <td>70.50</td>\n",
       "      <td>77.24</td>\n",
       "      <td>74.63</td>\n",
       "    </tr>\n",
       "    <tr>\n",
       "      <th>Estonia</th>\n",
       "      <td>89.39</td>\n",
       "      <td>91.18</td>\n",
       "      <td>99.24</td>\n",
       "    </tr>\n",
       "    <tr>\n",
       "      <th>Finland</th>\n",
       "      <td>84.67</td>\n",
       "      <td>82.73</td>\n",
       "      <td>77.45</td>\n",
       "    </tr>\n",
       "    <tr>\n",
       "      <th>France</th>\n",
       "      <td>77.09</td>\n",
       "      <td>76.44</td>\n",
       "      <td>78.61</td>\n",
       "    </tr>\n",
       "    <tr>\n",
       "      <th>Germany</th>\n",
       "      <td>73.21</td>\n",
       "      <td>76.62</td>\n",
       "      <td>73.23</td>\n",
       "    </tr>\n",
       "    <tr>\n",
       "      <th>Greece</th>\n",
       "      <td>66.81</td>\n",
       "      <td>61.42</td>\n",
       "      <td>67.53</td>\n",
       "    </tr>\n",
       "    <tr>\n",
       "      <th>Ireland</th>\n",
       "      <td>69.90</td>\n",
       "      <td>73.46</td>\n",
       "      <td>73.52</td>\n",
       "    </tr>\n",
       "    <tr>\n",
       "      <th>Italy</th>\n",
       "      <td>63.11</td>\n",
       "      <td>64.18</td>\n",
       "      <td>68.29</td>\n",
       "    </tr>\n",
       "    <tr>\n",
       "      <th>Latvia</th>\n",
       "      <td>87.40</td>\n",
       "      <td>89.29</td>\n",
       "      <td>99.01</td>\n",
       "    </tr>\n",
       "    <tr>\n",
       "      <th>Lithuania</th>\n",
       "      <td>88.71</td>\n",
       "      <td>90.62</td>\n",
       "      <td>97.63</td>\n",
       "    </tr>\n",
       "    <tr>\n",
       "      <th>Malta</th>\n",
       "      <td>71.63</td>\n",
       "      <td>76.40</td>\n",
       "      <td>81.47</td>\n",
       "    </tr>\n",
       "    <tr>\n",
       "      <th>Netherlands</th>\n",
       "      <td>55.01</td>\n",
       "      <td>57.44</td>\n",
       "      <td>60.35</td>\n",
       "    </tr>\n",
       "    <tr>\n",
       "      <th>Poland</th>\n",
       "      <td>87.82</td>\n",
       "      <td>76.21</td>\n",
       "      <td>77.61</td>\n",
       "    </tr>\n",
       "    <tr>\n",
       "      <th>Portugal</th>\n",
       "      <td>77.81</td>\n",
       "      <td>65.46</td>\n",
       "      <td>66.08</td>\n",
       "    </tr>\n",
       "    <tr>\n",
       "      <th>Romania</th>\n",
       "      <td>67.55</td>\n",
       "      <td>69.64</td>\n",
       "      <td>79.19</td>\n",
       "    </tr>\n",
       "    <tr>\n",
       "      <th>Spain</th>\n",
       "      <td>73.45</td>\n",
       "      <td>70.66</td>\n",
       "      <td>73.08</td>\n",
       "    </tr>\n",
       "    <tr>\n",
       "      <th>Sweden</th>\n",
       "      <td>94.77</td>\n",
       "      <td>95.73</td>\n",
       "      <td>97.37</td>\n",
       "    </tr>\n",
       "    <tr>\n",
       "      <th>United Kingdom</th>\n",
       "      <td>81.35</td>\n",
       "      <td>82.74</td>\n",
       "      <td>79.79</td>\n",
       "    </tr>\n",
       "  </tbody>\n",
       "</table>\n",
       "</div>"
      ],
      "text/plain": [
       "scenario         2012   2018   2022\n",
       "region_name                        \n",
       "Belgium         79.51  77.65  78.66\n",
       "Bulgaria        56.01  55.59  63.71\n",
       "Croatia         66.35  62.56  67.33\n",
       "Cyprus          77.16  71.91  76.38\n",
       "Denmark         70.50  77.24  74.63\n",
       "Estonia         89.39  91.18  99.24\n",
       "Finland         84.67  82.73  77.45\n",
       "France          77.09  76.44  78.61\n",
       "Germany         73.21  76.62  73.23\n",
       "Greece          66.81  61.42  67.53\n",
       "Ireland         69.90  73.46  73.52\n",
       "Italy           63.11  64.18  68.29\n",
       "Latvia          87.40  89.29  99.01\n",
       "Lithuania       88.71  90.62  97.63\n",
       "Malta           71.63  76.40  81.47\n",
       "Netherlands     55.01  57.44  60.35\n",
       "Poland          87.82  76.21  77.61\n",
       "Portugal        77.81  65.46  66.08\n",
       "Romania         67.55  69.64  79.19\n",
       "Spain           73.45  70.66  73.08\n",
       "Sweden          94.77  95.73  97.37\n",
       "United Kingdom  81.35  82.74  79.79"
      ]
     },
     "execution_count": 366,
     "metadata": {},
     "output_type": "execute_result"
    },
    {
     "name": "stdout",
     "output_type": "stream",
     "text": [
      "No missing countries\n"
     ]
    }
   ],
   "source": [
    "# OHI 'Artisanal opportunities' Index\n",
    "# https://oceanhealthindex.org/global-scores/data-download/\n",
    "\n",
    "ohiArt = pd.read_csv(\"../data/scoresOHI.csv\")\n",
    "ohiArt = ohiArt[ohiArt[\"region_name\"].isin(countries)]\n",
    "ohiArt = ohiArt[\n",
    "    (ohiArt.long_goal == \"Artisanal opportunities\") & (ohiArt.dimension == \"status\")\n",
    "]\n",
    "ohiArt = ohiArt.pivot_table(\n",
    "    columns=\"scenario\", index=\"region_name\", values=\"value\", aggfunc=\"mean\"\n",
    ")\n",
    "\n",
    "ohiArt[[2012, 2018, 2022]]\n",
    "\n",
    "missingCountries(ohiArt)"
   ]
  },
  {
   "attachments": {},
   "cell_type": "markdown",
   "metadata": {},
   "source": [
    "#### 2. Percentage of Fish Species Threatened\n",
    "\n",
    "Source TBD\n"
   ]
  },
  {
   "cell_type": "code",
   "execution_count": 33,
   "metadata": {},
   "outputs": [
    {
     "data": {
      "text/html": [
       "<div>\n",
       "<style scoped>\n",
       "    .dataframe tbody tr th:only-of-type {\n",
       "        vertical-align: middle;\n",
       "    }\n",
       "\n",
       "    .dataframe tbody tr th {\n",
       "        vertical-align: top;\n",
       "    }\n",
       "\n",
       "    .dataframe thead th {\n",
       "        text-align: right;\n",
       "    }\n",
       "</style>\n",
       "<table border=\"1\" class=\"dataframe\">\n",
       "  <thead>\n",
       "    <tr style=\"text-align: right;\">\n",
       "      <th></th>\n",
       "      <th>2021</th>\n",
       "    </tr>\n",
       "    <tr>\n",
       "      <th>Country</th>\n",
       "      <th></th>\n",
       "    </tr>\n",
       "  </thead>\n",
       "  <tbody>\n",
       "    <tr>\n",
       "      <th>Belgium</th>\n",
       "      <td>79.577</td>\n",
       "    </tr>\n",
       "    <tr>\n",
       "      <th>Greece</th>\n",
       "      <td>90.526</td>\n",
       "    </tr>\n",
       "    <tr>\n",
       "      <th>Netherlands</th>\n",
       "      <td>76.289</td>\n",
       "    </tr>\n",
       "    <tr>\n",
       "      <th>Poland</th>\n",
       "      <td>80.159</td>\n",
       "    </tr>\n",
       "    <tr>\n",
       "      <th>Portugal</th>\n",
       "      <td>66.154</td>\n",
       "    </tr>\n",
       "    <tr>\n",
       "      <th>Sweden</th>\n",
       "      <td>84.848</td>\n",
       "    </tr>\n",
       "    <tr>\n",
       "      <th>Estonia</th>\n",
       "      <td>91.262</td>\n",
       "    </tr>\n",
       "    <tr>\n",
       "      <th>Italy</th>\n",
       "      <td>92.668</td>\n",
       "    </tr>\n",
       "    <tr>\n",
       "      <th>Finland</th>\n",
       "      <td>86.364</td>\n",
       "    </tr>\n",
       "    <tr>\n",
       "      <th>Germany</th>\n",
       "      <td>75.127</td>\n",
       "    </tr>\n",
       "    <tr>\n",
       "      <th>Latvia</th>\n",
       "      <td>97.701</td>\n",
       "    </tr>\n",
       "    <tr>\n",
       "      <th>Lithuania</th>\n",
       "      <td>95.238</td>\n",
       "    </tr>\n",
       "    <tr>\n",
       "      <th>France</th>\n",
       "      <td>84.049</td>\n",
       "    </tr>\n",
       "    <tr>\n",
       "      <th>Spain</th>\n",
       "      <td>96.338</td>\n",
       "    </tr>\n",
       "    <tr>\n",
       "      <th>Denmark</th>\n",
       "      <td>96.639</td>\n",
       "    </tr>\n",
       "  </tbody>\n",
       "</table>\n",
       "</div>"
      ],
      "text/plain": [
       "               2021\n",
       "Country            \n",
       "Belgium      79.577\n",
       "Greece       90.526\n",
       "Netherlands  76.289\n",
       "Poland       80.159\n",
       "Portugal     66.154\n",
       "Sweden       84.848\n",
       "Estonia      91.262\n",
       "Italy        92.668\n",
       "Finland      86.364\n",
       "Germany      75.127\n",
       "Latvia       97.701\n",
       "Lithuania    95.238\n",
       "France       84.049\n",
       "Spain        96.338\n",
       "Denmark      96.639"
      ]
     },
     "execution_count": 33,
     "metadata": {},
     "output_type": "execute_result"
    },
    {
     "name": "stdout",
     "output_type": "stream",
     "text": [
      "Missing countries:\n",
      " Bulgaria\n",
      "Cyprus\n",
      "Croatia\n",
      "Ireland\n",
      "Malta\n",
      "Romania\n",
      "United Kingdom\n"
     ]
    }
   ],
   "source": [
    "# Percentage of Fish Species Threatened\n",
    "\n",
    "# Waiting to get IUCN API key\n",
    "\n",
    "# I would not use time series comparison because of this: https://www.iucnredlist.org/assessment/red-list-index\n",
    "\n",
    "# https://fishbase.mnhn.fr/country/CountryChecklist.php?c_code=056&vhabitat=threatened&csub_code=\n",
    "# Last updated 2019\n",
    "# We can extract the data and calculate the percentage\n",
    "# https://en.wikipedia.org/wiki/ISO_3166-1_numeric\n",
    "\n",
    "# https://data.worldbank.org/indicator/EN.FSH.THRD.NO\n",
    "# Data is only for 2018\n",
    "\n",
    "#####################\n",
    "\n",
    "# https://stats.oecd.org/Index.aspx?DataSetCode=WILD_LIFE#\n",
    "# Here we have by country updated most recent.\n",
    "# Missing countries: Bulgaria,Cyprus,Croatia,Ireland,Malta,Romania,United Kingdom\n",
    "\n",
    "threatened = pd.read_csv(\"../data/WILD_LIFE_10062023112434707.csv\")\n",
    "threatened = threatened[\n",
    "    (threatened.SPEC == \"FISH_TOT\") & (threatened.IUCN == \"THREAT_PERCENT\")\n",
    "]\n",
    "threatened = threatened[[\"Country\", \"Value\"]].set_index(\"Country\")\n",
    "threatened = threatened[threatened.index.isin(countries)].rename(\n",
    "    columns={\"Value\": 2021}\n",
    ")\n",
    "threatened[2021] = 100 - threatened[2021]\n",
    "threatened\n",
    "\n",
    "missingCountries(threatened)"
   ]
  },
  {
   "attachments": {},
   "cell_type": "markdown",
   "metadata": {},
   "source": [
    "### 14.c\n",
    "\n",
    "Number of countries making progress in ratifying, accepting and implementing through legal, policy and institutional frameworks, ocean-related instruments that implement international law, as reflected in the United Nations Convention on the Law of the Sea\n",
    "\n",
    "We use two indicators:\n",
    "\n",
    "1. Participation in agreements of the International Marine Organization (IMO Participation Rate):\n",
    "2. Measures under the Marine Strategy Framework Directive:\n"
   ]
  },
  {
   "cell_type": "code",
   "execution_count": 34,
   "metadata": {},
   "outputs": [],
   "source": [
    "# dictionary for country codes used by the GISIS\n",
    "with open(\"../data/gisisDict.csv\") as csv_file:\n",
    "    reader = csv.reader(csv_file)\n",
    "    gisisDict = dict(reader)\n",
    "\n",
    "gisisDict = {v: k for k, v in gisisDict.items()}"
   ]
  },
  {
   "attachments": {},
   "cell_type": "markdown",
   "metadata": {},
   "source": [
    "#### 1. Participation in agreements of the International Marine Organization\n",
    "\n",
    "[Source](https://gisis.imo.org/Public/ST/Ratification.aspx)\n"
   ]
  },
  {
   "cell_type": "code",
   "execution_count": 35,
   "metadata": {},
   "outputs": [],
   "source": [
    "# Participation in agreements of the International Marine Organization\n",
    "\n",
    "# https://www.imo.org/en/About/Conventions/Pages/StatusOfConventions.aspx Excel file with current status of IMO conventions\n",
    "# We get the historical data from the GISIS database: https://gisis.imo.org/Public/ST/Ratification.aspx\n",
    "# You need to create account to access data.\n",
    "\n",
    "# I tried to scrape the data but I am getting errors with Selenium and bs4.\n",
    "# I downloaded the html manually\n",
    "\n",
    "gisisCountries = {k: v for k, v in gisisDict.items() if k in countries}\n",
    "listIMO = []\n",
    "for v in gisisCountries.values():\n",
    "    link = \"https://gisis.imo.org/Public/ST/Ratification.aspx?cid=\" + str(v)\n",
    "    listIMO.append(link)\n",
    "\n",
    "# for i in listIMO:\n",
    "#     webbrowser.open(i)"
   ]
  },
  {
   "cell_type": "code",
   "execution_count": 374,
   "metadata": {},
   "outputs": [
    {
     "data": {
      "text/html": [
       "<div>\n",
       "<style scoped>\n",
       "    .dataframe tbody tr th:only-of-type {\n",
       "        vertical-align: middle;\n",
       "    }\n",
       "\n",
       "    .dataframe tbody tr th {\n",
       "        vertical-align: top;\n",
       "    }\n",
       "\n",
       "    .dataframe thead th {\n",
       "        text-align: right;\n",
       "    }\n",
       "</style>\n",
       "<table border=\"1\" class=\"dataframe\">\n",
       "  <thead>\n",
       "    <tr style=\"text-align: right;\">\n",
       "      <th></th>\n",
       "      <th>2012</th>\n",
       "      <th>2018</th>\n",
       "      <th>2021</th>\n",
       "    </tr>\n",
       "    <tr>\n",
       "      <th>Country</th>\n",
       "      <th></th>\n",
       "      <th></th>\n",
       "      <th></th>\n",
       "    </tr>\n",
       "  </thead>\n",
       "  <tbody>\n",
       "    <tr>\n",
       "      <th>Belgium</th>\n",
       "      <td>78.431373</td>\n",
       "      <td>84.313725</td>\n",
       "      <td>90.196078</td>\n",
       "    </tr>\n",
       "    <tr>\n",
       "      <th>Bulgaria</th>\n",
       "      <td>76.470588</td>\n",
       "      <td>80.392157</td>\n",
       "      <td>82.352941</td>\n",
       "    </tr>\n",
       "    <tr>\n",
       "      <th>Croatia</th>\n",
       "      <td>72.549020</td>\n",
       "      <td>74.509804</td>\n",
       "      <td>74.509804</td>\n",
       "    </tr>\n",
       "    <tr>\n",
       "      <th>Cyprus</th>\n",
       "      <td>68.627451</td>\n",
       "      <td>70.588235</td>\n",
       "      <td>72.549020</td>\n",
       "    </tr>\n",
       "    <tr>\n",
       "      <th>Denmark</th>\n",
       "      <td>80.392157</td>\n",
       "      <td>88.235294</td>\n",
       "      <td>92.156863</td>\n",
       "    </tr>\n",
       "    <tr>\n",
       "      <th>Estonia</th>\n",
       "      <td>76.470588</td>\n",
       "      <td>78.431373</td>\n",
       "      <td>82.352941</td>\n",
       "    </tr>\n",
       "    <tr>\n",
       "      <th>Finland</th>\n",
       "      <td>76.470588</td>\n",
       "      <td>86.274510</td>\n",
       "      <td>90.196078</td>\n",
       "    </tr>\n",
       "    <tr>\n",
       "      <th>France</th>\n",
       "      <td>84.313725</td>\n",
       "      <td>90.196078</td>\n",
       "      <td>96.078431</td>\n",
       "    </tr>\n",
       "    <tr>\n",
       "      <th>Germany</th>\n",
       "      <td>80.392157</td>\n",
       "      <td>88.235294</td>\n",
       "      <td>88.235294</td>\n",
       "    </tr>\n",
       "    <tr>\n",
       "      <th>Greece</th>\n",
       "      <td>80.392157</td>\n",
       "      <td>84.313725</td>\n",
       "      <td>84.313725</td>\n",
       "    </tr>\n",
       "    <tr>\n",
       "      <th>Ireland</th>\n",
       "      <td>66.666667</td>\n",
       "      <td>68.627451</td>\n",
       "      <td>68.627451</td>\n",
       "    </tr>\n",
       "    <tr>\n",
       "      <th>Italy</th>\n",
       "      <td>72.549020</td>\n",
       "      <td>74.509804</td>\n",
       "      <td>74.509804</td>\n",
       "    </tr>\n",
       "    <tr>\n",
       "      <th>Latvia</th>\n",
       "      <td>80.392157</td>\n",
       "      <td>80.392157</td>\n",
       "      <td>82.352941</td>\n",
       "    </tr>\n",
       "    <tr>\n",
       "      <th>Lithuania</th>\n",
       "      <td>58.823529</td>\n",
       "      <td>62.745098</td>\n",
       "      <td>64.705882</td>\n",
       "    </tr>\n",
       "    <tr>\n",
       "      <th>Malta</th>\n",
       "      <td>60.784314</td>\n",
       "      <td>66.666667</td>\n",
       "      <td>66.666667</td>\n",
       "    </tr>\n",
       "    <tr>\n",
       "      <th>Netherlands</th>\n",
       "      <td>84.313725</td>\n",
       "      <td>90.196078</td>\n",
       "      <td>92.156863</td>\n",
       "    </tr>\n",
       "    <tr>\n",
       "      <th>Poland</th>\n",
       "      <td>80.392157</td>\n",
       "      <td>84.313725</td>\n",
       "      <td>86.274510</td>\n",
       "    </tr>\n",
       "    <tr>\n",
       "      <th>Portugal</th>\n",
       "      <td>68.627451</td>\n",
       "      <td>78.431373</td>\n",
       "      <td>86.274510</td>\n",
       "    </tr>\n",
       "    <tr>\n",
       "      <th>Romania</th>\n",
       "      <td>58.823529</td>\n",
       "      <td>62.745098</td>\n",
       "      <td>64.705882</td>\n",
       "    </tr>\n",
       "    <tr>\n",
       "      <th>Spain</th>\n",
       "      <td>86.274510</td>\n",
       "      <td>88.235294</td>\n",
       "      <td>88.235294</td>\n",
       "    </tr>\n",
       "    <tr>\n",
       "      <th>Sweden</th>\n",
       "      <td>82.352941</td>\n",
       "      <td>92.156863</td>\n",
       "      <td>94.117647</td>\n",
       "    </tr>\n",
       "    <tr>\n",
       "      <th>United Kingdom</th>\n",
       "      <td>78.431373</td>\n",
       "      <td>78.431373</td>\n",
       "      <td>78.431373</td>\n",
       "    </tr>\n",
       "  </tbody>\n",
       "</table>\n",
       "</div>"
      ],
      "text/plain": [
       "                     2012       2018       2021\n",
       "Country                                        \n",
       "Belgium         78.431373  84.313725  90.196078\n",
       "Bulgaria        76.470588  80.392157  82.352941\n",
       "Croatia         72.549020  74.509804  74.509804\n",
       "Cyprus          68.627451  70.588235  72.549020\n",
       "Denmark         80.392157  88.235294  92.156863\n",
       "Estonia         76.470588  78.431373  82.352941\n",
       "Finland         76.470588  86.274510  90.196078\n",
       "France          84.313725  90.196078  96.078431\n",
       "Germany         80.392157  88.235294  88.235294\n",
       "Greece          80.392157  84.313725  84.313725\n",
       "Ireland         66.666667  68.627451  68.627451\n",
       "Italy           72.549020  74.509804  74.509804\n",
       "Latvia          80.392157  80.392157  82.352941\n",
       "Lithuania       58.823529  62.745098  64.705882\n",
       "Malta           60.784314  66.666667  66.666667\n",
       "Netherlands     84.313725  90.196078  92.156863\n",
       "Poland          80.392157  84.313725  86.274510\n",
       "Portugal        68.627451  78.431373  86.274510\n",
       "Romania         58.823529  62.745098  64.705882\n",
       "Spain           86.274510  88.235294  88.235294\n",
       "Sweden          82.352941  92.156863  94.117647\n",
       "United Kingdom  78.431373  78.431373  78.431373"
      ]
     },
     "execution_count": 374,
     "metadata": {},
     "output_type": "execute_result"
    },
    {
     "name": "stdout",
     "output_type": "stream",
     "text": [
      "No missing countries\n"
     ]
    }
   ],
   "source": [
    "imoRatedf = pd.DataFrame(columns=[\"Country\", 2012, 2018, 2021])\n",
    "\n",
    "# loop thru the html files in the folder and extract the data\n",
    "for i in range(len(os.listdir(\"../data/treatiesIMO/\"))):\n",
    "    imoRate = pd.read_html(\n",
    "        \"../data/treatiesIMO/Status of Treaties » Ratification of Treaties{}.html\".format(\n",
    "            i\n",
    "        )\n",
    "    )[4]\n",
    "    for country in countries:\n",
    "        if country in imoRate[\"Treaty\"][0]:\n",
    "            countryIMO = country\n",
    "    imoRate.columns = imoRate.iloc[1]\n",
    "    imoRate = imoRate[2:]\n",
    "    # new column with the year of accession and denounced\n",
    "    imoRate[\"accession\"] = (\n",
    "        imoRate[\"Date of entry into force in country\"]\n",
    "        .str.extract(\"^([^(]+)\")\n",
    "        .fillna(\"\")\n",
    "    )\n",
    "    imoRate[\"denounced\"] = imoRate[\"Date of entry into force in country\"].str.extract(\n",
    "        \".*\\\\:(.*)\\\\).*\"\n",
    "    )\n",
    "    imoRate[[\"accession\", \"denounced\"]] = (\n",
    "        imoRate[[\"accession\", \"denounced\"]]\n",
    "        .apply(pd.DatetimeIndex)\n",
    "        .apply(lambda x: x.dt.year)\n",
    "    )\n",
    "    # count the number of treaties each country accessioned and not didn't denounced by 2012, 2018 and 2021\n",
    "    for i in (2012, 2018, 2021):\n",
    "        imoRate[str(i)] = np.where(\n",
    "            (imoRate.accession < i)\n",
    "            & ((imoRate.denounced > i) | (imoRate.denounced.isna())),\n",
    "            1,\n",
    "            0,\n",
    "        )\n",
    "    imoCount = (\n",
    "        countryIMO,\n",
    "        imoRate[\"2012\"].sum(),\n",
    "        imoRate[\"2018\"].sum(),\n",
    "        imoRate[\"2021\"].sum(),\n",
    "    )\n",
    "    imoRatedf.loc[len(imoRatedf), imoRatedf.columns] = imoCount\n",
    "# calculate total possible treaties, apply dif-ref and convert to percentage\n",
    "totalIMO = len(imoRate.dropna(subset=[\"Date of entry into force in country\"]))\n",
    "imoRatedf = imoRatedf.set_index(\"Country\").sort_index()\n",
    "imoRatedf = 100 - 100 * (totalIMO - imoRatedf).divide(totalIMO)\n",
    "imoRatedf = imoRatedf.astype(np.float64)\n",
    "imoRatedf = imoRatedf.apply(pd.to_numeric)\n",
    "imoRatedf\n",
    "\n",
    "missingCountries(imoRatedf)"
   ]
  },
  {
   "attachments": {},
   "cell_type": "markdown",
   "metadata": {},
   "source": [
    "#### Measures under the Marine Strategy Framework Directive\n",
    "\n",
    "See code for notes\n"
   ]
  },
  {
   "cell_type": "code",
   "execution_count": 37,
   "metadata": {},
   "outputs": [],
   "source": [
    "# The barplot here: https://eur-lex.europa.eu/legal-content/EN/TXT/PDF/?uri=CELEX:52018DC0562&from=EN\n",
    "# Comes from https://eur-lex.europa.eu/legal-content/EN/TXT/PDF/?uri=CELEX:52018SC0393\n",
    "\n",
    "# The analogous report for 2020 is here https://environment.ec.europa.eu/system/files/2023-04/C_2023_2203_F1_COMMUNICATION_FROM_COMMISSION_EN_V5_P1_2532109.PDF\n",
    "# But the assessment is much shorter. They refer the reader to a JRC report:\n",
    "# https://publications.jrc.ec.europa.eu/repository/handle/JRC129363\n",
    "# That report assesses all the descriptors, but it cannot be compared to the previous assessment.\n",
    "# Moreover, the source code and data are not available.\n",
    "\n",
    "# Overall, it is hard to make an indicator for the measures taken against pressure indicators by the MS.\n",
    "# Countries report different measures and data is poor."
   ]
  },
  {
   "attachments": {},
   "cell_type": "markdown",
   "metadata": {},
   "source": [
    "## Indicators aggregation\n"
   ]
  },
  {
   "attachments": {},
   "cell_type": "markdown",
   "metadata": {},
   "source": [
    "Given our ratio-scale full comparable indicators,$I_{it}$, meaningful aggregation of $N$ indicators into a composite indicator $CI_t$ is obtained according to social choice theory by applying a generalized mean:\n",
    "\n",
    "$$CI_t(\\alpha_{it},I_{it},\\sigma) = \\left(\\sum^N_{i=1}\\alpha_{it}I^{\\frac{\\sigma-1}{\\sigma}}_{it}\\right)^{\\frac{\\sigma}{\\sigma-1}} \\quad  \\text{for} \\quad t = 2012, 2018, 2021 \\text{(or most recent)}$$\n",
    "\n",
    "with weights $\\alpha_{it} > 0$ and $0 ≤ \\sigma ≤ \\infty $. The parameter $\\sigma$ is used to quantify the elasticity of substitution between the different indicators. High (low) values of $\\sigma$ imply good (poor) substitution possibilities which means that a high score in one indicator can (cannot) compensate a low score in another indicator. Consequently, high and low values of $\\sigma$ correspond to concepts of weak and strong sustainability, respectively. Depending on $\\sigma$, one can obtain a full class of specific function forms for the composite indicator.\n",
    "\n",
    "We define:\n",
    "\n",
    "$\\sigma_{Target} = 0.5$ and $\\sigma_{Target} = 10$\n"
   ]
  },
  {
   "cell_type": "code",
   "execution_count": 38,
   "metadata": {},
   "outputs": [
    {
     "name": "stdout",
     "output_type": "stream",
     "text": [
      "Missing indicator for 14.4\n",
      "Missing indicator for 14.6\n",
      "Missing indicator for 14.a\n",
      "Missing indicator for 14.c\n"
     ]
    },
    {
     "data": {
      "text/html": [
       "<div>\n",
       "<style scoped>\n",
       "    .dataframe tbody tr th:only-of-type {\n",
       "        vertical-align: middle;\n",
       "    }\n",
       "\n",
       "    .dataframe tbody tr th {\n",
       "        vertical-align: top;\n",
       "    }\n",
       "\n",
       "    .dataframe thead th {\n",
       "        text-align: right;\n",
       "    }\n",
       "</style>\n",
       "<table border=\"1\" class=\"dataframe\">\n",
       "  <thead>\n",
       "    <tr style=\"text-align: right;\">\n",
       "      <th></th>\n",
       "      <th></th>\n",
       "      <th>14.1</th>\n",
       "      <th>14.3</th>\n",
       "      <th>14.5</th>\n",
       "      <th>14.7</th>\n",
       "      <th>14.b</th>\n",
       "    </tr>\n",
       "    <tr>\n",
       "      <th>Country</th>\n",
       "      <th>Year</th>\n",
       "      <th></th>\n",
       "      <th></th>\n",
       "      <th></th>\n",
       "      <th></th>\n",
       "      <th></th>\n",
       "    </tr>\n",
       "  </thead>\n",
       "  <tbody>\n",
       "    <tr>\n",
       "      <th rowspan=\"5\" valign=\"top\">Belgium</th>\n",
       "      <th>2012</th>\n",
       "      <td>47.872645</td>\n",
       "      <td>73.370139</td>\n",
       "      <td>87.232641</td>\n",
       "      <td>46.200186</td>\n",
       "      <td>79.053327</td>\n",
       "    </tr>\n",
       "    <tr>\n",
       "      <th>2013</th>\n",
       "      <td>48.789672</td>\n",
       "      <td>73.474526</td>\n",
       "      <td>86.048292</td>\n",
       "      <td>52.202161</td>\n",
       "      <td>79.163392</td>\n",
       "    </tr>\n",
       "    <tr>\n",
       "      <th>2014</th>\n",
       "      <td>37.048287</td>\n",
       "      <td>75.883383</td>\n",
       "      <td>85.798948</td>\n",
       "      <td>52.808338</td>\n",
       "      <td>79.138379</td>\n",
       "    </tr>\n",
       "    <tr>\n",
       "      <th>2015</th>\n",
       "      <td>36.981616</td>\n",
       "      <td>74.454387</td>\n",
       "      <td>85.778589</td>\n",
       "      <td>52.449158</td>\n",
       "      <td>79.023306</td>\n",
       "    </tr>\n",
       "    <tr>\n",
       "      <th>2016</th>\n",
       "      <td>51.278646</td>\n",
       "      <td>75.098105</td>\n",
       "      <td>85.055422</td>\n",
       "      <td>51.491526</td>\n",
       "      <td>78.778095</td>\n",
       "    </tr>\n",
       "    <tr>\n",
       "      <th>...</th>\n",
       "      <th>...</th>\n",
       "      <td>...</td>\n",
       "      <td>...</td>\n",
       "      <td>...</td>\n",
       "      <td>...</td>\n",
       "      <td>...</td>\n",
       "    </tr>\n",
       "    <tr>\n",
       "      <th rowspan=\"5\" valign=\"top\">United Kingdom</th>\n",
       "      <th>2017</th>\n",
       "      <td>55.796762</td>\n",
       "      <td>87.862081</td>\n",
       "      <td>84.925435</td>\n",
       "      <td>69.610536</td>\n",
       "      <td>38.997843</td>\n",
       "    </tr>\n",
       "    <tr>\n",
       "      <th>2018</th>\n",
       "      <td>55.404844</td>\n",
       "      <td>88.511220</td>\n",
       "      <td>84.489188</td>\n",
       "      <td>71.031424</td>\n",
       "      <td>38.048821</td>\n",
       "    </tr>\n",
       "    <tr>\n",
       "      <th>2019</th>\n",
       "      <td>55.404844</td>\n",
       "      <td>89.605287</td>\n",
       "      <td>84.007510</td>\n",
       "      <td>70.897766</td>\n",
       "      <td>37.294233</td>\n",
       "    </tr>\n",
       "    <tr>\n",
       "      <th>2020</th>\n",
       "      <td>55.404844</td>\n",
       "      <td>92.172006</td>\n",
       "      <td>85.243933</td>\n",
       "      <td>69.011947</td>\n",
       "      <td>36.863702</td>\n",
       "    </tr>\n",
       "    <tr>\n",
       "      <th>2021</th>\n",
       "      <td>55.404844</td>\n",
       "      <td>92.172006</td>\n",
       "      <td>85.289779</td>\n",
       "      <td>69.378426</td>\n",
       "      <td>35.928568</td>\n",
       "    </tr>\n",
       "  </tbody>\n",
       "</table>\n",
       "<p>220 rows × 5 columns</p>\n",
       "</div>"
      ],
      "text/plain": [
       "                          14.1       14.3       14.5       14.7       14.b\n",
       "Country        Year                                                       \n",
       "Belgium        2012  47.872645  73.370139  87.232641  46.200186  79.053327\n",
       "               2013  48.789672  73.474526  86.048292  52.202161  79.163392\n",
       "               2014  37.048287  75.883383  85.798948  52.808338  79.138379\n",
       "               2015  36.981616  74.454387  85.778589  52.449158  79.023306\n",
       "               2016  51.278646  75.098105  85.055422  51.491526  78.778095\n",
       "...                        ...        ...        ...        ...        ...\n",
       "United Kingdom 2017  55.796762  87.862081  84.925435  69.610536  38.997843\n",
       "               2018  55.404844  88.511220  84.489188  71.031424  38.048821\n",
       "               2019  55.404844  89.605287  84.007510  70.897766  37.294233\n",
       "               2020  55.404844  92.172006  85.243933  69.011947  36.863702\n",
       "               2021  55.404844  92.172006  85.289779  69.378426  35.928568\n",
       "\n",
       "[220 rows x 5 columns]"
      ]
     },
     "execution_count": 38,
     "metadata": {},
     "output_type": "execute_result"
    }
   ],
   "source": [
    "# fmt: off\n",
    "# missing 14.2, mortality, biomass, tacCatch, sadTac, msfd\n",
    "varDf = [ nitro, wasteG, wasteR,scoreESD, co2pc, mpa, ohiBio, fseScore, \n",
    "         ohiLive, ohiTour, oResearch, ohiArt, threatened, imoRatedf\n",
    "]\n",
    "varNames = [ \"nitro\", \"wasteG\", \"wasteR\", \"scoreESD\", \"co2pc\", \n",
    "            \"mpa\", \"ohiBio\", \"fseScore\", \"ohiLive\", \"ohiTour\",\n",
    "              \"oResearch\", \"ohiArt\", \"threatened\", \"imoRatedf\",\n",
    "]\n",
    "# fmt: on\n",
    "dictIndicators = dict(zip(varNames, varDf))\n",
    "\n",
    "# stack variables in each dataframe\n",
    "for name, df in dictIndicators.items():\n",
    "    df = df.stack().to_frame().rename(columns={0: str(name)})\n",
    "    df.index.names = [\"Country\", \"Year\"]\n",
    "    df.reset_index(inplace=True)\n",
    "    df.Year = df.Year.astype(int)\n",
    "    df.set_index([\"Country\", \"Year\"], inplace=True)\n",
    "    dictIndicators[name] = df\n",
    "# merge all variables into one dataframe, forward and back fill by country\n",
    "indicators = pd.concat(dictIndicators.values(), axis=1, join=\"outer\")\n",
    "indicators = indicators.reset_index().sort_values([\"Country\", \"Year\"])\n",
    "indicators = indicators[indicators.Year.isin(list(range(2012, 2022)))]\n",
    "indicators = indicators.groupby([\"Country\"], group_keys=False).apply(\n",
    "    lambda x: x.ffill().bfill()\n",
    ")\n",
    "indicators = indicators.set_index([\"Country\", \"Year\"])\n",
    "indicatorsL = {\n",
    "    \"plastic\": [\"wasteG\", \"wasteR\"],\n",
    "    \"14.1\": [\"nitro\", \"plastic\"],\n",
    "    # '14.2':[''],\n",
    "    \"14.3\": [\"scoreESD\", \"co2pc\"],\n",
    "    \"14.4\": [\"mortality\", \"biomass\"],\n",
    "    \"14.5\": [\"mpa\", \"ohiBio\"],\n",
    "    \"14.6\": [\"fseScore\", \"tacCatch\"],\n",
    "    \"14.7\": [\"ohiLive\", \"ohiTour\"],\n",
    "    \"14.a\": [\"oResearch\", \"sadTac\"],\n",
    "    \"14.b\": [\"ohiArt\", \"threatened\"],\n",
    "    \"14.c\": [\"imoRatedf\", \"msfd\"],\n",
    "}\n",
    "\n",
    "# calculate composite indicators for each target importing the function from composite.py\n",
    "targets = indicators.copy()\n",
    "for target, indicator in indicatorsL.items():\n",
    "    try:\n",
    "        alpha = 1 / len(indicatorsL[target])\n",
    "        df = targets[indicator]\n",
    "        sigma = 10\n",
    "        targets[target] = ci.compositeDF(alpha, df, sigma)\n",
    "    except KeyError:\n",
    "        print(\"Missing indicator for\", target)\n",
    "\n",
    "targets = targets[[i for i in targets if i.startswith(\"14\")]]\n",
    "targets"
   ]
  },
  {
   "attachments": {},
   "cell_type": "markdown",
   "metadata": {},
   "source": [
    "### Monte Carlo simulation"
   ]
  },
  {
   "cell_type": "code",
   "execution_count": 39,
   "metadata": {},
   "outputs": [
    {
     "name": "stdout",
     "output_type": "stream",
     "text": [
      "CPU times: user 263 ms, sys: 4.26 ms, total: 268 ms\n",
      "Wall time: 257 ms\n"
     ]
    }
   ],
   "source": [
    "%%time\n",
    "# calculate composite score for each target importing the function from composite.py\n",
    "# monte carlo for strong sustainability and one sigma for weak sustainability\n",
    "\n",
    "scoresStrong = ci.compositeMC(targets, years=[2012, 2016, 2021], simulations=10)\n",
    "scoresWeak = pd.DataFrame(ci.compositeDF(alpha = 1 / len(targets.columns), df = targets, sigma = 10), columns=['scoreWeak'])"
   ]
  },
  {
   "attachments": {},
   "cell_type": "markdown",
   "metadata": {},
   "source": [
    "## Plots"
   ]
  },
  {
   "cell_type": "code",
   "execution_count": 381,
   "metadata": {},
   "outputs": [],
   "source": [
    "InteractiveShell.ast_node_interactivity = \"last_expr\"  # last_expr"
   ]
  },
  {
   "cell_type": "code",
   "execution_count": 390,
   "metadata": {},
   "outputs": [],
   "source": [
    "# merge all data and calculate min, max, and EEZ-weigthed average for indicators and targets\n",
    "\n",
    "data_frames = [indicators, targets, scoresStrong, scoresWeak]\n",
    "fullData = reduce(\n",
    "    lambda left, right: pd.merge(\n",
    "        left, right, left_index=True, right_index=True, how=\"inner\"\n",
    "    ),\n",
    "    data_frames,\n",
    ")\n",
    "\n",
    "eezAverage = (\n",
    "    pd.DataFrame(fullData.stack().reset_index())\n",
    "    .merge(eez, left_on=\"Country\", right_on=\"Territory\", how=\"left\")\n",
    "    .rename(columns={0: \"value\", \"level_2\": \"indicator\"})\n",
    ")\n",
    "\n",
    "eezAverage[\"valueEEZ\"] = eezAverage.value * eezAverage.Area_km2\n",
    "eezAverage = (\n",
    "    eezAverage.groupby([\"Year\", \"indicator\"])\n",
    "    .sum(numeric_only=True)\n",
    "    .drop(\"value\", axis=1)\n",
    ")\n",
    "eezAverage[\"averageEEZ\"] = eezAverage.valueEEZ / eezAverage.Area_km2"
   ]
  },
  {
   "cell_type": "code",
   "execution_count": 597,
   "metadata": {},
   "outputs": [
    {
     "data": {
      "application/vnd.plotly.v1+json": {
       "config": {
        "plotlyServerURL": "https://plot.ly"
       },
       "data": [
        {
         "alignmentgroup": "True",
         "hovertemplate": "indicator=%{x}<br>value=%{y}<extra></extra>",
         "legendgroup": "",
         "marker": {
          "color": "#636efa"
         },
         "name": "",
         "notched": false,
         "offsetgroup": "",
         "orientation": "v",
         "showlegend": false,
         "type": "box",
         "x": [
          "nitro",
          "wasteG",
          "wasteR",
          "scoreESD",
          "co2pc",
          "mpa",
          "ohiBio",
          "fseScore",
          "ohiLive",
          "ohiTour",
          "oResearch",
          "ohiArt",
          "threatened",
          "imoRatedf",
          "nitro",
          "wasteG",
          "wasteR",
          "scoreESD",
          "co2pc",
          "mpa",
          "ohiBio",
          "ohiLive",
          "ohiTour",
          "oResearch",
          "ohiArt",
          "imoRatedf",
          "nitro",
          "wasteG",
          "wasteR",
          "scoreESD",
          "co2pc",
          "mpa",
          "ohiBio",
          "ohiLive",
          "ohiTour",
          "oResearch",
          "ohiArt",
          "imoRatedf",
          "nitro",
          "wasteG",
          "wasteR",
          "scoreESD",
          "co2pc",
          "mpa",
          "ohiBio",
          "ohiLive",
          "ohiTour",
          "oResearch",
          "ohiArt",
          "imoRatedf",
          "nitro",
          "wasteG",
          "wasteR",
          "scoreESD",
          "co2pc",
          "mpa",
          "ohiBio",
          "fseScore",
          "ohiLive",
          "ohiTour",
          "oResearch",
          "ohiArt",
          "threatened",
          "imoRatedf",
          "nitro",
          "wasteG",
          "wasteR",
          "scoreESD",
          "co2pc",
          "mpa",
          "ohiBio",
          "fseScore",
          "ohiLive",
          "ohiTour",
          "oResearch",
          "ohiArt",
          "threatened",
          "imoRatedf",
          "nitro",
          "wasteG",
          "wasteR",
          "scoreESD",
          "co2pc",
          "mpa",
          "ohiBio",
          "ohiLive",
          "ohiTour",
          "oResearch",
          "ohiArt",
          "threatened",
          "imoRatedf",
          "nitro",
          "wasteG",
          "wasteR",
          "scoreESD",
          "co2pc",
          "mpa",
          "ohiBio",
          "fseScore",
          "ohiLive",
          "ohiTour",
          "oResearch",
          "ohiArt",
          "threatened",
          "imoRatedf",
          "nitro",
          "wasteG",
          "wasteR",
          "scoreESD",
          "co2pc",
          "mpa",
          "ohiBio",
          "fseScore",
          "ohiLive",
          "ohiTour",
          "oResearch",
          "ohiArt",
          "threatened",
          "imoRatedf",
          "nitro",
          "wasteG",
          "wasteR",
          "scoreESD",
          "co2pc",
          "mpa",
          "ohiBio",
          "fseScore",
          "ohiLive",
          "ohiTour",
          "oResearch",
          "ohiArt",
          "threatened",
          "imoRatedf",
          "nitro",
          "wasteG",
          "wasteR",
          "scoreESD",
          "co2pc",
          "mpa",
          "ohiBio",
          "fseScore",
          "ohiLive",
          "ohiTour",
          "oResearch",
          "ohiArt",
          "imoRatedf",
          "nitro",
          "wasteG",
          "wasteR",
          "scoreESD",
          "co2pc",
          "mpa",
          "ohiBio",
          "fseScore",
          "ohiLive",
          "ohiTour",
          "oResearch",
          "ohiArt",
          "threatened",
          "imoRatedf",
          "nitro",
          "wasteG",
          "wasteR",
          "scoreESD",
          "co2pc",
          "mpa",
          "ohiBio",
          "fseScore",
          "ohiLive",
          "ohiTour",
          "oResearch",
          "ohiArt",
          "threatened",
          "imoRatedf",
          "nitro",
          "wasteG",
          "wasteR",
          "scoreESD",
          "co2pc",
          "mpa",
          "ohiBio",
          "fseScore",
          "ohiLive",
          "ohiTour",
          "oResearch",
          "ohiArt",
          "threatened",
          "imoRatedf",
          "nitro",
          "wasteG",
          "wasteR",
          "scoreESD",
          "co2pc",
          "mpa",
          "ohiBio",
          "ohiLive",
          "ohiTour",
          "oResearch",
          "ohiArt",
          "imoRatedf",
          "nitro",
          "wasteG",
          "wasteR",
          "scoreESD",
          "co2pc",
          "mpa",
          "ohiBio",
          "fseScore",
          "ohiLive",
          "ohiTour",
          "oResearch",
          "ohiArt",
          "threatened",
          "imoRatedf",
          "nitro",
          "wasteG",
          "wasteR",
          "scoreESD",
          "co2pc",
          "mpa",
          "ohiBio",
          "fseScore",
          "ohiLive",
          "ohiTour",
          "oResearch",
          "ohiArt",
          "threatened",
          "imoRatedf",
          "nitro",
          "wasteG",
          "wasteR",
          "scoreESD",
          "co2pc",
          "mpa",
          "ohiBio",
          "fseScore",
          "ohiLive",
          "ohiTour",
          "oResearch",
          "ohiArt",
          "threatened",
          "imoRatedf",
          "nitro",
          "wasteG",
          "wasteR",
          "scoreESD",
          "co2pc",
          "mpa",
          "ohiBio",
          "ohiLive",
          "ohiTour",
          "oResearch",
          "ohiArt",
          "imoRatedf",
          "nitro",
          "wasteG",
          "wasteR",
          "scoreESD",
          "co2pc",
          "mpa",
          "ohiBio",
          "fseScore",
          "ohiLive",
          "ohiTour",
          "oResearch",
          "ohiArt",
          "threatened",
          "imoRatedf",
          "nitro",
          "wasteG",
          "wasteR",
          "scoreESD",
          "co2pc",
          "mpa",
          "ohiBio",
          "fseScore",
          "ohiLive",
          "ohiTour",
          "oResearch",
          "ohiArt",
          "threatened",
          "imoRatedf",
          "nitro",
          "wasteG",
          "wasteR",
          "scoreESD",
          "co2pc",
          "mpa",
          "ohiBio",
          "fseScore",
          "ohiLive",
          "ohiTour",
          "oResearch",
          "ohiArt",
          "imoRatedf"
         ],
         "x0": " ",
         "xaxis": "x",
         "y": [
          28.65,
          31.93,
          99.4,
          100,
          55.72,
          100,
          71.63,
          99.61,
          80.5,
          22.75,
          0,
          75.74,
          79.577,
          90.19607843137254,
          60.07,
          59.66,
          50.6,
          100,
          73.62,
          27.03,
          66.32,
          71.31,
          19.82,
          0.06,
          55.64,
          82.35294117647058,
          61.95,
          78.15,
          34.1,
          100,
          88.46,
          29.96,
          55.92,
          78.56,
          69.54,
          12.894,
          59.49,
          74.50980392156863,
          0.9,
          88.24,
          51.9,
          86.94581993795654,
          54.06,
          28.74,
          64.46,
          63.18,
          57.34,
          12.894,
          71.47,
          72.54901960784314,
          51.92,
          84.03,
          73.1,
          100,
          82.76,
          61.07,
          71.31,
          98.66,
          66.22,
          22.95,
          12.894,
          76.55,
          96.639,
          92.15686274509804,
          75.2,
          77.31,
          87.4,
          100,
          59.32,
          62.6,
          75.35,
          98.83,
          73.81,
          37.01,
          12.894,
          91.79,
          91.262,
          82.35294117647058,
          61.77,
          84.03,
          99.4,
          100,
          68.23,
          39.96,
          74.15,
          82.24,
          19.81,
          1.21,
          70.57,
          86.364,
          90.19607843137254,
          69.47,
          73.95,
          71.8,
          100,
          87.31,
          100,
          74.77,
          99.97,
          79.41,
          45.28,
          8.86,
          74.73,
          84.049,
          96.07843137254902,
          52.86,
          73.11,
          99.9,
          100,
          57.15,
          100,
          72.13,
          99.78,
          89.31,
          61.51,
          0.63,
          67.43,
          75.127,
          88.23529411764706,
          61.32,
          90.76,
          37.6,
          100,
          81.01,
          15.06,
          59.75,
          99.3,
          61.38,
          99.01,
          12.894,
          59.54,
          90.526,
          84.31372549019608,
          59.85,
          70.59,
          100,
          96.14660231561292,
          62.32,
          7.77,
          67.09,
          99.21,
          77.3,
          21.68,
          100,
          73.74,
          68.62745098039215,
          57.3,
          35.29,
          88.4,
          100,
          78.69,
          32.45,
          64.39,
          99.49,
          85.62,
          57.06,
          5.03,
          63.4,
          92.668,
          74.50980392156863,
          75.92,
          54.62,
          47.9,
          100,
          93.06,
          53.46,
          72.46,
          99.86,
          89.5,
          30,
          12.894,
          89.71,
          97.701,
          82.35294117647058,
          68.26,
          70.59,
          63.4,
          100,
          83.59,
          85.31,
          71.69,
          99.86,
          76.21,
          14.81,
          12.894,
          91.13,
          95.238,
          64.70588235294117,
          21.93,
          89.92,
          10.2,
          100,
          97.23,
          24.82,
          64.51,
          86.67,
          99.96,
          12.894,
          78.04,
          66.66666666666667,
          0,
          73.11,
          94.9,
          100,
          57.51,
          89.53,
          68.27,
          99.96,
          62.19,
          61.76,
          0.69,
          60.73,
          76.289,
          92.15686274509804,
          60.07,
          54.62,
          45,
          100,
          52.37,
          75.24,
          65.14,
          26.98,
          81.5,
          17.81,
          0.12,
          70.97,
          80.15899999999999,
          86.27450980392157,
          67.37,
          68.07,
          56.9,
          100,
          92.02,
          56.06,
          72.31,
          100,
          93.38,
          73.02,
          12.894,
          59.11,
          66.154,
          86.27450980392157,
          100,
          90.76,
          37,
          100,
          90.6,
          77,
          70.65,
          88.77,
          22.13,
          12.894,
          71.51,
          64.70588235294117,
          65.67,
          88.24,
          55.5,
          100,
          83.89,
          42.52,
          68.57,
          99.95,
          77.21,
          40.28,
          12.34,
          66.74,
          96.338,
          88.23529411764706,
          60.61,
          76.47,
          50.7,
          100,
          96.28,
          52.54,
          71.47,
          95.86,
          100,
          31.6,
          12.894,
          94.94,
          84.848,
          94.11764705882354,
          49.19,
          67.23,
          56.2,
          100,
          84.41,
          100,
          70.83,
          99.82,
          88.59,
          50.69,
          12.894,
          77.61,
          78.43137254901961
         ],
         "y0": " ",
         "yaxis": "y"
        }
       ],
       "layout": {
        "annotations": [
         {
          "showarrow": false,
          "text": "RO",
          "x": 0,
          "y": 100,
          "yshift": 30
         },
         {
          "showarrow": false,
          "text": "GR,<br>RO",
          "x": 1,
          "y": 90.76,
          "yshift": 30
         },
         {
          "showarrow": false,
          "text": "IE",
          "x": 2,
          "y": 100,
          "yshift": 30
         },
         {
          "showarrow": false,
          "text": "*",
          "x": 3,
          "y": 100,
          "yshift": 30
         },
         {
          "showarrow": false,
          "text": "MT",
          "x": 4,
          "y": 97.23,
          "yshift": 30
         },
         {
          "showarrow": false,
          "text": "BE,<br>FR,<br>DE,<br>UK",
          "x": 5,
          "y": 100,
          "yshift": 30
         },
         {
          "showarrow": false,
          "text": "EE",
          "x": 6,
          "y": 75.35,
          "yshift": 30
         },
         {
          "showarrow": false,
          "text": "PT",
          "x": 7,
          "y": 100,
          "yshift": 30
         },
         {
          "showarrow": false,
          "text": "SE",
          "x": 8,
          "y": 100,
          "yshift": 30
         },
         {
          "showarrow": false,
          "text": "MT",
          "x": 9,
          "y": 99.96,
          "yshift": 30
         },
         {
          "showarrow": false,
          "text": "IE",
          "x": 10,
          "y": 100,
          "yshift": 30
         },
         {
          "showarrow": false,
          "text": "SE",
          "x": 11,
          "y": 94.94,
          "yshift": 30
         },
         {
          "showarrow": false,
          "text": "LV",
          "x": 12,
          "y": 97.701,
          "yshift": 30
         },
         {
          "showarrow": false,
          "text": "FR",
          "x": 13,
          "y": 96.07843137254902,
          "yshift": 30
         },
         {
          "showarrow": false,
          "text": "NL",
          "x": 0,
          "y": 0,
          "yshift": -30
         },
         {
          "showarrow": false,
          "text": "BE",
          "x": 1,
          "y": 31.93,
          "yshift": -30
         },
         {
          "showarrow": false,
          "text": "MT",
          "x": 2,
          "y": 10.2,
          "yshift": -30
         },
         {
          "showarrow": false,
          "text": "CY",
          "x": 3,
          "y": 86.94581993795654,
          "yshift": -30
         },
         {
          "showarrow": false,
          "text": "PL",
          "x": 4,
          "y": 52.37,
          "yshift": -30
         },
         {
          "showarrow": false,
          "text": "IE",
          "x": 5,
          "y": 7.77,
          "yshift": -30
         },
         {
          "showarrow": false,
          "text": "HR",
          "x": 6,
          "y": 55.92,
          "yshift": -30
         },
         {
          "showarrow": false,
          "text": "PL",
          "x": 7,
          "y": 26.98,
          "yshift": -30
         },
         {
          "showarrow": false,
          "text": "GR",
          "x": 8,
          "y": 61.38,
          "yshift": -30
         },
         {
          "showarrow": false,
          "text": "LT",
          "x": 9,
          "y": 14.81,
          "yshift": -30
         },
         {
          "showarrow": false,
          "text": "BE",
          "x": 10,
          "y": 0,
          "yshift": -30
         },
         {
          "showarrow": false,
          "text": "BG",
          "x": 11,
          "y": 55.64,
          "yshift": -30
         },
         {
          "showarrow": false,
          "text": "PT",
          "x": 12,
          "y": 66.154,
          "yshift": -30
         },
         {
          "showarrow": false,
          "text": "LT,<br>RO",
          "x": 13,
          "y": 64.70588235294117,
          "yshift": -30
         }
        ],
        "boxmode": "group",
        "legend": {
         "tracegroupgap": 0
        },
        "margin": {
         "t": 60
        },
        "template": {
         "data": {
          "bar": [
           {
            "error_x": {
             "color": "#2a3f5f"
            },
            "error_y": {
             "color": "#2a3f5f"
            },
            "marker": {
             "line": {
              "color": "#E5ECF6",
              "width": 0.5
             },
             "pattern": {
              "fillmode": "overlay",
              "size": 10,
              "solidity": 0.2
             }
            },
            "type": "bar"
           }
          ],
          "barpolar": [
           {
            "marker": {
             "line": {
              "color": "#E5ECF6",
              "width": 0.5
             },
             "pattern": {
              "fillmode": "overlay",
              "size": 10,
              "solidity": 0.2
             }
            },
            "type": "barpolar"
           }
          ],
          "carpet": [
           {
            "aaxis": {
             "endlinecolor": "#2a3f5f",
             "gridcolor": "white",
             "linecolor": "white",
             "minorgridcolor": "white",
             "startlinecolor": "#2a3f5f"
            },
            "baxis": {
             "endlinecolor": "#2a3f5f",
             "gridcolor": "white",
             "linecolor": "white",
             "minorgridcolor": "white",
             "startlinecolor": "#2a3f5f"
            },
            "type": "carpet"
           }
          ],
          "choropleth": [
           {
            "colorbar": {
             "outlinewidth": 0,
             "ticks": ""
            },
            "type": "choropleth"
           }
          ],
          "contour": [
           {
            "colorbar": {
             "outlinewidth": 0,
             "ticks": ""
            },
            "colorscale": [
             [
              0,
              "#0d0887"
             ],
             [
              0.1111111111111111,
              "#46039f"
             ],
             [
              0.2222222222222222,
              "#7201a8"
             ],
             [
              0.3333333333333333,
              "#9c179e"
             ],
             [
              0.4444444444444444,
              "#bd3786"
             ],
             [
              0.5555555555555556,
              "#d8576b"
             ],
             [
              0.6666666666666666,
              "#ed7953"
             ],
             [
              0.7777777777777778,
              "#fb9f3a"
             ],
             [
              0.8888888888888888,
              "#fdca26"
             ],
             [
              1,
              "#f0f921"
             ]
            ],
            "type": "contour"
           }
          ],
          "contourcarpet": [
           {
            "colorbar": {
             "outlinewidth": 0,
             "ticks": ""
            },
            "type": "contourcarpet"
           }
          ],
          "heatmap": [
           {
            "colorbar": {
             "outlinewidth": 0,
             "ticks": ""
            },
            "colorscale": [
             [
              0,
              "#0d0887"
             ],
             [
              0.1111111111111111,
              "#46039f"
             ],
             [
              0.2222222222222222,
              "#7201a8"
             ],
             [
              0.3333333333333333,
              "#9c179e"
             ],
             [
              0.4444444444444444,
              "#bd3786"
             ],
             [
              0.5555555555555556,
              "#d8576b"
             ],
             [
              0.6666666666666666,
              "#ed7953"
             ],
             [
              0.7777777777777778,
              "#fb9f3a"
             ],
             [
              0.8888888888888888,
              "#fdca26"
             ],
             [
              1,
              "#f0f921"
             ]
            ],
            "type": "heatmap"
           }
          ],
          "heatmapgl": [
           {
            "colorbar": {
             "outlinewidth": 0,
             "ticks": ""
            },
            "colorscale": [
             [
              0,
              "#0d0887"
             ],
             [
              0.1111111111111111,
              "#46039f"
             ],
             [
              0.2222222222222222,
              "#7201a8"
             ],
             [
              0.3333333333333333,
              "#9c179e"
             ],
             [
              0.4444444444444444,
              "#bd3786"
             ],
             [
              0.5555555555555556,
              "#d8576b"
             ],
             [
              0.6666666666666666,
              "#ed7953"
             ],
             [
              0.7777777777777778,
              "#fb9f3a"
             ],
             [
              0.8888888888888888,
              "#fdca26"
             ],
             [
              1,
              "#f0f921"
             ]
            ],
            "type": "heatmapgl"
           }
          ],
          "histogram": [
           {
            "marker": {
             "pattern": {
              "fillmode": "overlay",
              "size": 10,
              "solidity": 0.2
             }
            },
            "type": "histogram"
           }
          ],
          "histogram2d": [
           {
            "colorbar": {
             "outlinewidth": 0,
             "ticks": ""
            },
            "colorscale": [
             [
              0,
              "#0d0887"
             ],
             [
              0.1111111111111111,
              "#46039f"
             ],
             [
              0.2222222222222222,
              "#7201a8"
             ],
             [
              0.3333333333333333,
              "#9c179e"
             ],
             [
              0.4444444444444444,
              "#bd3786"
             ],
             [
              0.5555555555555556,
              "#d8576b"
             ],
             [
              0.6666666666666666,
              "#ed7953"
             ],
             [
              0.7777777777777778,
              "#fb9f3a"
             ],
             [
              0.8888888888888888,
              "#fdca26"
             ],
             [
              1,
              "#f0f921"
             ]
            ],
            "type": "histogram2d"
           }
          ],
          "histogram2dcontour": [
           {
            "colorbar": {
             "outlinewidth": 0,
             "ticks": ""
            },
            "colorscale": [
             [
              0,
              "#0d0887"
             ],
             [
              0.1111111111111111,
              "#46039f"
             ],
             [
              0.2222222222222222,
              "#7201a8"
             ],
             [
              0.3333333333333333,
              "#9c179e"
             ],
             [
              0.4444444444444444,
              "#bd3786"
             ],
             [
              0.5555555555555556,
              "#d8576b"
             ],
             [
              0.6666666666666666,
              "#ed7953"
             ],
             [
              0.7777777777777778,
              "#fb9f3a"
             ],
             [
              0.8888888888888888,
              "#fdca26"
             ],
             [
              1,
              "#f0f921"
             ]
            ],
            "type": "histogram2dcontour"
           }
          ],
          "mesh3d": [
           {
            "colorbar": {
             "outlinewidth": 0,
             "ticks": ""
            },
            "type": "mesh3d"
           }
          ],
          "parcoords": [
           {
            "line": {
             "colorbar": {
              "outlinewidth": 0,
              "ticks": ""
             }
            },
            "type": "parcoords"
           }
          ],
          "pie": [
           {
            "automargin": true,
            "type": "pie"
           }
          ],
          "scatter": [
           {
            "fillpattern": {
             "fillmode": "overlay",
             "size": 10,
             "solidity": 0.2
            },
            "type": "scatter"
           }
          ],
          "scatter3d": [
           {
            "line": {
             "colorbar": {
              "outlinewidth": 0,
              "ticks": ""
             }
            },
            "marker": {
             "colorbar": {
              "outlinewidth": 0,
              "ticks": ""
             }
            },
            "type": "scatter3d"
           }
          ],
          "scattercarpet": [
           {
            "marker": {
             "colorbar": {
              "outlinewidth": 0,
              "ticks": ""
             }
            },
            "type": "scattercarpet"
           }
          ],
          "scattergeo": [
           {
            "marker": {
             "colorbar": {
              "outlinewidth": 0,
              "ticks": ""
             }
            },
            "type": "scattergeo"
           }
          ],
          "scattergl": [
           {
            "marker": {
             "colorbar": {
              "outlinewidth": 0,
              "ticks": ""
             }
            },
            "type": "scattergl"
           }
          ],
          "scattermapbox": [
           {
            "marker": {
             "colorbar": {
              "outlinewidth": 0,
              "ticks": ""
             }
            },
            "type": "scattermapbox"
           }
          ],
          "scatterpolar": [
           {
            "marker": {
             "colorbar": {
              "outlinewidth": 0,
              "ticks": ""
             }
            },
            "type": "scatterpolar"
           }
          ],
          "scatterpolargl": [
           {
            "marker": {
             "colorbar": {
              "outlinewidth": 0,
              "ticks": ""
             }
            },
            "type": "scatterpolargl"
           }
          ],
          "scatterternary": [
           {
            "marker": {
             "colorbar": {
              "outlinewidth": 0,
              "ticks": ""
             }
            },
            "type": "scatterternary"
           }
          ],
          "surface": [
           {
            "colorbar": {
             "outlinewidth": 0,
             "ticks": ""
            },
            "colorscale": [
             [
              0,
              "#0d0887"
             ],
             [
              0.1111111111111111,
              "#46039f"
             ],
             [
              0.2222222222222222,
              "#7201a8"
             ],
             [
              0.3333333333333333,
              "#9c179e"
             ],
             [
              0.4444444444444444,
              "#bd3786"
             ],
             [
              0.5555555555555556,
              "#d8576b"
             ],
             [
              0.6666666666666666,
              "#ed7953"
             ],
             [
              0.7777777777777778,
              "#fb9f3a"
             ],
             [
              0.8888888888888888,
              "#fdca26"
             ],
             [
              1,
              "#f0f921"
             ]
            ],
            "type": "surface"
           }
          ],
          "table": [
           {
            "cells": {
             "fill": {
              "color": "#EBF0F8"
             },
             "line": {
              "color": "white"
             }
            },
            "header": {
             "fill": {
              "color": "#C8D4E3"
             },
             "line": {
              "color": "white"
             }
            },
            "type": "table"
           }
          ]
         },
         "layout": {
          "annotationdefaults": {
           "arrowcolor": "#2a3f5f",
           "arrowhead": 0,
           "arrowwidth": 1
          },
          "autotypenumbers": "strict",
          "coloraxis": {
           "colorbar": {
            "outlinewidth": 0,
            "ticks": ""
           }
          },
          "colorscale": {
           "diverging": [
            [
             0,
             "#8e0152"
            ],
            [
             0.1,
             "#c51b7d"
            ],
            [
             0.2,
             "#de77ae"
            ],
            [
             0.3,
             "#f1b6da"
            ],
            [
             0.4,
             "#fde0ef"
            ],
            [
             0.5,
             "#f7f7f7"
            ],
            [
             0.6,
             "#e6f5d0"
            ],
            [
             0.7,
             "#b8e186"
            ],
            [
             0.8,
             "#7fbc41"
            ],
            [
             0.9,
             "#4d9221"
            ],
            [
             1,
             "#276419"
            ]
           ],
           "sequential": [
            [
             0,
             "#0d0887"
            ],
            [
             0.1111111111111111,
             "#46039f"
            ],
            [
             0.2222222222222222,
             "#7201a8"
            ],
            [
             0.3333333333333333,
             "#9c179e"
            ],
            [
             0.4444444444444444,
             "#bd3786"
            ],
            [
             0.5555555555555556,
             "#d8576b"
            ],
            [
             0.6666666666666666,
             "#ed7953"
            ],
            [
             0.7777777777777778,
             "#fb9f3a"
            ],
            [
             0.8888888888888888,
             "#fdca26"
            ],
            [
             1,
             "#f0f921"
            ]
           ],
           "sequentialminus": [
            [
             0,
             "#0d0887"
            ],
            [
             0.1111111111111111,
             "#46039f"
            ],
            [
             0.2222222222222222,
             "#7201a8"
            ],
            [
             0.3333333333333333,
             "#9c179e"
            ],
            [
             0.4444444444444444,
             "#bd3786"
            ],
            [
             0.5555555555555556,
             "#d8576b"
            ],
            [
             0.6666666666666666,
             "#ed7953"
            ],
            [
             0.7777777777777778,
             "#fb9f3a"
            ],
            [
             0.8888888888888888,
             "#fdca26"
            ],
            [
             1,
             "#f0f921"
            ]
           ]
          },
          "colorway": [
           "#636efa",
           "#EF553B",
           "#00cc96",
           "#ab63fa",
           "#FFA15A",
           "#19d3f3",
           "#FF6692",
           "#B6E880",
           "#FF97FF",
           "#FECB52"
          ],
          "font": {
           "color": "#2a3f5f"
          },
          "geo": {
           "bgcolor": "white",
           "lakecolor": "white",
           "landcolor": "#E5ECF6",
           "showlakes": true,
           "showland": true,
           "subunitcolor": "white"
          },
          "hoverlabel": {
           "align": "left"
          },
          "hovermode": "closest",
          "mapbox": {
           "style": "light"
          },
          "paper_bgcolor": "white",
          "plot_bgcolor": "#E5ECF6",
          "polar": {
           "angularaxis": {
            "gridcolor": "white",
            "linecolor": "white",
            "ticks": ""
           },
           "bgcolor": "#E5ECF6",
           "radialaxis": {
            "gridcolor": "white",
            "linecolor": "white",
            "ticks": ""
           }
          },
          "scene": {
           "xaxis": {
            "backgroundcolor": "#E5ECF6",
            "gridcolor": "white",
            "gridwidth": 2,
            "linecolor": "white",
            "showbackground": true,
            "ticks": "",
            "zerolinecolor": "white"
           },
           "yaxis": {
            "backgroundcolor": "#E5ECF6",
            "gridcolor": "white",
            "gridwidth": 2,
            "linecolor": "white",
            "showbackground": true,
            "ticks": "",
            "zerolinecolor": "white"
           },
           "zaxis": {
            "backgroundcolor": "#E5ECF6",
            "gridcolor": "white",
            "gridwidth": 2,
            "linecolor": "white",
            "showbackground": true,
            "ticks": "",
            "zerolinecolor": "white"
           }
          },
          "shapedefaults": {
           "line": {
            "color": "#2a3f5f"
           }
          },
          "ternary": {
           "aaxis": {
            "gridcolor": "white",
            "linecolor": "white",
            "ticks": ""
           },
           "baxis": {
            "gridcolor": "white",
            "linecolor": "white",
            "ticks": ""
           },
           "bgcolor": "#E5ECF6",
           "caxis": {
            "gridcolor": "white",
            "linecolor": "white",
            "ticks": ""
           }
          },
          "title": {
           "x": 0.05
          },
          "xaxis": {
           "automargin": true,
           "gridcolor": "white",
           "linecolor": "white",
           "ticks": "",
           "title": {
            "standoff": 15
           },
           "zerolinecolor": "white",
           "zerolinewidth": 2
          },
          "yaxis": {
           "automargin": true,
           "gridcolor": "white",
           "linecolor": "white",
           "ticks": "",
           "title": {
            "standoff": 15
           },
           "zerolinecolor": "white",
           "zerolinewidth": 2
          }
         }
        },
        "xaxis": {
         "anchor": "y",
         "domain": [
          0,
          1
         ],
         "title": {
          "text": "indicator"
         }
        },
        "yaxis": {
         "anchor": "x",
         "domain": [
          0,
          1
         ],
         "title": {
          "text": "value"
         }
        }
       }
      }
     },
     "metadata": {},
     "output_type": "display_data"
    }
   ],
   "source": [
    "# plot min, max, and EEZ-weigthed average for indicators\n",
    "\n",
    "indicatorsBox = (\n",
    "    fullData[fullData.index.isin([2021], level=1)]\n",
    "    .stack()\n",
    "    .reset_index()\n",
    "    .rename(columns={0: \"value\", \"level_2\": \"indicator\"})\n",
    ")\n",
    "indicatorsBox = indicatorsBox[indicatorsBox.indicator.isin(varNames)]\n",
    "indicatorsBox.Country= indicatorsBox.Country.map(country_to_abbrev)\n",
    "\n",
    "fig = px.box(indicatorsBox, x=\"indicator\", y=\"value\")\n",
    "# add Countries in the max and min\n",
    "# create annotation list, x is the x-axis position of the annotation\n",
    "annoList = []\n",
    "x = 0\n",
    "for s in indicatorsBox.indicator.unique():\n",
    "    # get max value for indicator\n",
    "    maxVal = np.max(indicatorsBox[indicatorsBox[\"indicator\"] == s][\"value\"])\n",
    "    # get countries with max value, if more than 4 countries, use *\n",
    "    countries = indicatorsBox.loc[(indicatorsBox['value'] == maxVal)&(indicatorsBox['indicator']== s), 'Country'].values\n",
    "    if len(countries) > 4:\n",
    "        countries = '*'\n",
    "    countries = ',<br>'.join(countries)\n",
    "    annotation = dict(\n",
    "        x=x,\n",
    "        # y position is the max value\n",
    "        y=np.max(indicatorsBox[indicatorsBox[\"indicator\"] == s][\"value\"]),\n",
    "        text= countries,\n",
    "        yshift=30,\n",
    "        showarrow=False,\n",
    "    )\n",
    "    annoList.append(annotation)\n",
    "    x += 1\n",
    "\n",
    "\n",
    "x = 0\n",
    "for s in indicatorsBox.indicator.unique():\n",
    "    # get max value for indicator\n",
    "    minVal = np.min(indicatorsBox[indicatorsBox[\"indicator\"] == s][\"value\"])\n",
    "    # get countries with min value, if more than 4 countries, use *\n",
    "    countries = indicatorsBox.loc[(indicatorsBox['value'] == minVal)&(indicatorsBox['indicator']== s), 'Country'].values\n",
    "    if len(countries) > 4:\n",
    "        countries = '*'\n",
    "    countries = ',<br>'.join(countries)\n",
    "    annotation = dict(\n",
    "        x=x,\n",
    "        # y position is the min value\n",
    "        y=np.min(indicatorsBox[indicatorsBox[\"indicator\"] == s][\"value\"]),\n",
    "        text= countries,\n",
    "        yshift=-30,\n",
    "        showarrow=False,\n",
    "    )\n",
    "    annoList.append(annotation)\n",
    "    x += 1\n",
    "\n",
    "\n",
    "fig.update_layout(annotations=annoList)\n",
    "\n",
    "fig.show()"
   ]
  },
  {
   "cell_type": "code",
   "execution_count": 498,
   "metadata": {},
   "outputs": [
    {
     "data": {
      "application/vnd.plotly.v1+json": {
       "config": {
        "plotlyServerURL": "https://plot.ly"
       },
       "data": [
        {
         "alignmentgroup": "True",
         "hovertemplate": "indicator=%{x}<br>value=%{y}<extra></extra>",
         "legendgroup": "",
         "marker": {
          "color": "#636efa"
         },
         "name": "",
         "notched": false,
         "offsetgroup": "",
         "orientation": "v",
         "showlegend": false,
         "type": "box",
         "x": [
          "14.1",
          "14.3",
          "14.5",
          "14.7",
          "14.b",
          "14.1",
          "14.3",
          "14.5",
          "14.7",
          "14.b",
          "14.1",
          "14.3",
          "14.5",
          "14.7",
          "14.b",
          "14.1",
          "14.3",
          "14.5",
          "14.7",
          "14.b",
          "14.1",
          "14.3",
          "14.5",
          "14.7",
          "14.b",
          "14.1",
          "14.3",
          "14.5",
          "14.7",
          "14.b",
          "14.1",
          "14.3",
          "14.5",
          "14.7",
          "14.b",
          "14.1",
          "14.3",
          "14.5",
          "14.7",
          "14.b",
          "14.1",
          "14.3",
          "14.5",
          "14.7",
          "14.b",
          "14.1",
          "14.3",
          "14.5",
          "14.7",
          "14.b",
          "14.1",
          "14.3",
          "14.5",
          "14.7",
          "14.b",
          "14.1",
          "14.3",
          "14.5",
          "14.7",
          "14.b",
          "14.1",
          "14.3",
          "14.5",
          "14.7",
          "14.b",
          "14.1",
          "14.3",
          "14.5",
          "14.7",
          "14.b",
          "14.1",
          "14.3",
          "14.5",
          "14.7",
          "14.b",
          "14.1",
          "14.3",
          "14.5",
          "14.7",
          "14.b",
          "14.1",
          "14.3",
          "14.5",
          "14.7",
          "14.b",
          "14.1",
          "14.3",
          "14.5",
          "14.7",
          "14.b",
          "14.1",
          "14.3",
          "14.5",
          "14.7",
          "14.b",
          "14.1",
          "14.3",
          "14.5",
          "14.7",
          "14.b",
          "14.1",
          "14.3",
          "14.5",
          "14.7",
          "14.b",
          "14.1",
          "14.3",
          "14.5",
          "14.7",
          "14.b"
         ],
         "x0": " ",
         "xaxis": "x",
         "y": [
          46.34023248542582,
          77.54020760109847,
          85.69714700196359,
          50.7617213115245,
          77.65612996377803,
          57.58534364586836,
          86.70935100341094,
          46.246505399286754,
          44.7862544135576,
          25.757834495832423,
          58.80628331104506,
          94.21232163015623,
          42.74027380572171,
          74.03625627414766,
          27.54014331698546,
          33.04363588422133,
          70.30913787667757,
          46.247546694314735,
          60.25292216422878,
          33.086132843586334,
          65.09604493403913,
          91.33927418331415,
          66.17017504299339,
          44.033885957967684,
          86.53609479904125,
          78.76167609004865,
          79.39701517520767,
          68.94549160810898,
          55.097775822002156,
          91.5259619255129,
          76.57953673241097,
          83.96397494780776,
          56.79435364478768,
          49.98855811614165,
          78.4271850840128,
          71.1700680041159,
          93.63348795981138,
          87.29358042774959,
          62.10801454537568,
          79.37581735258564,
          69.42616793297927,
          78.27864092569192,
          85.95161920503355,
          75.28105452282115,
          71.26810474338807,
          62.464058627710905,
          90.45508870025625,
          36.683702308681404,
          79.97192143462216,
          74.87172863953782,
          72.39761014803068,
          79.05118995983449,
          36.05466891932364,
          48.654090659821016,
          34.137000642032405,
          59.27329243017493,
          89.28129320632695,
          48.15092604317982,
          71.19597297200653,
          77.8958507855063,
          63.46396423488359,
          96.52376159851349,
          62.88801443369669,
          58.970205810936044,
          93.69697886782072,
          67.62237426491306,
          91.75827437889167,
          78.47041870948202,
          44.361468490635374,
          93.18173603539825,
          34.811421117295765,
          98.61402738077592,
          44.20604169524426,
          93.29131749452097,
          36.127631273450085,
          38.856240256405854,
          78.4643572987995,
          78.82814345254977,
          61.97496270665132,
          68.4652216819494,
          54.90426253361979,
          75.80556474526794,
          70.17181533154046,
          48.53576864248938,
          75.55052235100824,
          64.91035760520444,
          96.0017064222798,
          64.13341630017835,
          83.13754262805071,
          62.62209136959342,
          81.43862362666196,
          95.28840492183711,
          73.81817021985988,
          54.366935211849885,
          33.10465033783208,
          68.66926401789186,
          91.90966477289909,
          55.390651533676085,
          58.449110561517664,
          81.40384955954326,
          62.030076168222,
          98.138237295626,
          61.93243583378433,
          64.85941869480897,
          89.87982921008246,
          55.404843629563324,
          92.17200570114662,
          85.28977873672358,
          69.37842613422926,
          35.92856821030831
         ],
         "y0": " ",
         "yaxis": "y"
        }
       ],
       "layout": {
        "annotations": [
         {
          "showarrow": false,
          "text": "Romania",
          "x": 0,
          "y": 81.43862362666196,
          "yshift": 10
         },
         {
          "showarrow": false,
          "text": "Malta",
          "x": 1,
          "y": 98.61402738077592,
          "yshift": 10
         },
         {
          "showarrow": false,
          "text": "France",
          "x": 2,
          "y": 87.29358042774959,
          "yshift": 10
         },
         {
          "showarrow": false,
          "text": "Malta",
          "x": 3,
          "y": 93.29131749452097,
          "yshift": 10
         },
         {
          "showarrow": false,
          "text": "Latvia",
          "x": 4,
          "y": 93.69697886782072,
          "yshift": 10
         },
         {
          "showarrow": false,
          "text": "Cyprus",
          "x": 0,
          "y": 33.04363588422133,
          "yshift": -10
         },
         {
          "showarrow": false,
          "text": "Cyprus",
          "x": 1,
          "y": 70.30913787667757,
          "yshift": -10
         },
         {
          "showarrow": false,
          "text": "Ireland",
          "x": 2,
          "y": 36.05466891932364,
          "yshift": -10
         },
         {
          "showarrow": false,
          "text": "Denmark",
          "x": 3,
          "y": 44.033885957967684,
          "yshift": -10
         },
         {
          "showarrow": false,
          "text": "Bulgaria",
          "x": 4,
          "y": 25.757834495832423,
          "yshift": -10
         }
        ],
        "boxmode": "group",
        "legend": {
         "tracegroupgap": 0
        },
        "margin": {
         "t": 60
        },
        "template": {
         "data": {
          "bar": [
           {
            "error_x": {
             "color": "#2a3f5f"
            },
            "error_y": {
             "color": "#2a3f5f"
            },
            "marker": {
             "line": {
              "color": "#E5ECF6",
              "width": 0.5
             },
             "pattern": {
              "fillmode": "overlay",
              "size": 10,
              "solidity": 0.2
             }
            },
            "type": "bar"
           }
          ],
          "barpolar": [
           {
            "marker": {
             "line": {
              "color": "#E5ECF6",
              "width": 0.5
             },
             "pattern": {
              "fillmode": "overlay",
              "size": 10,
              "solidity": 0.2
             }
            },
            "type": "barpolar"
           }
          ],
          "carpet": [
           {
            "aaxis": {
             "endlinecolor": "#2a3f5f",
             "gridcolor": "white",
             "linecolor": "white",
             "minorgridcolor": "white",
             "startlinecolor": "#2a3f5f"
            },
            "baxis": {
             "endlinecolor": "#2a3f5f",
             "gridcolor": "white",
             "linecolor": "white",
             "minorgridcolor": "white",
             "startlinecolor": "#2a3f5f"
            },
            "type": "carpet"
           }
          ],
          "choropleth": [
           {
            "colorbar": {
             "outlinewidth": 0,
             "ticks": ""
            },
            "type": "choropleth"
           }
          ],
          "contour": [
           {
            "colorbar": {
             "outlinewidth": 0,
             "ticks": ""
            },
            "colorscale": [
             [
              0,
              "#0d0887"
             ],
             [
              0.1111111111111111,
              "#46039f"
             ],
             [
              0.2222222222222222,
              "#7201a8"
             ],
             [
              0.3333333333333333,
              "#9c179e"
             ],
             [
              0.4444444444444444,
              "#bd3786"
             ],
             [
              0.5555555555555556,
              "#d8576b"
             ],
             [
              0.6666666666666666,
              "#ed7953"
             ],
             [
              0.7777777777777778,
              "#fb9f3a"
             ],
             [
              0.8888888888888888,
              "#fdca26"
             ],
             [
              1,
              "#f0f921"
             ]
            ],
            "type": "contour"
           }
          ],
          "contourcarpet": [
           {
            "colorbar": {
             "outlinewidth": 0,
             "ticks": ""
            },
            "type": "contourcarpet"
           }
          ],
          "heatmap": [
           {
            "colorbar": {
             "outlinewidth": 0,
             "ticks": ""
            },
            "colorscale": [
             [
              0,
              "#0d0887"
             ],
             [
              0.1111111111111111,
              "#46039f"
             ],
             [
              0.2222222222222222,
              "#7201a8"
             ],
             [
              0.3333333333333333,
              "#9c179e"
             ],
             [
              0.4444444444444444,
              "#bd3786"
             ],
             [
              0.5555555555555556,
              "#d8576b"
             ],
             [
              0.6666666666666666,
              "#ed7953"
             ],
             [
              0.7777777777777778,
              "#fb9f3a"
             ],
             [
              0.8888888888888888,
              "#fdca26"
             ],
             [
              1,
              "#f0f921"
             ]
            ],
            "type": "heatmap"
           }
          ],
          "heatmapgl": [
           {
            "colorbar": {
             "outlinewidth": 0,
             "ticks": ""
            },
            "colorscale": [
             [
              0,
              "#0d0887"
             ],
             [
              0.1111111111111111,
              "#46039f"
             ],
             [
              0.2222222222222222,
              "#7201a8"
             ],
             [
              0.3333333333333333,
              "#9c179e"
             ],
             [
              0.4444444444444444,
              "#bd3786"
             ],
             [
              0.5555555555555556,
              "#d8576b"
             ],
             [
              0.6666666666666666,
              "#ed7953"
             ],
             [
              0.7777777777777778,
              "#fb9f3a"
             ],
             [
              0.8888888888888888,
              "#fdca26"
             ],
             [
              1,
              "#f0f921"
             ]
            ],
            "type": "heatmapgl"
           }
          ],
          "histogram": [
           {
            "marker": {
             "pattern": {
              "fillmode": "overlay",
              "size": 10,
              "solidity": 0.2
             }
            },
            "type": "histogram"
           }
          ],
          "histogram2d": [
           {
            "colorbar": {
             "outlinewidth": 0,
             "ticks": ""
            },
            "colorscale": [
             [
              0,
              "#0d0887"
             ],
             [
              0.1111111111111111,
              "#46039f"
             ],
             [
              0.2222222222222222,
              "#7201a8"
             ],
             [
              0.3333333333333333,
              "#9c179e"
             ],
             [
              0.4444444444444444,
              "#bd3786"
             ],
             [
              0.5555555555555556,
              "#d8576b"
             ],
             [
              0.6666666666666666,
              "#ed7953"
             ],
             [
              0.7777777777777778,
              "#fb9f3a"
             ],
             [
              0.8888888888888888,
              "#fdca26"
             ],
             [
              1,
              "#f0f921"
             ]
            ],
            "type": "histogram2d"
           }
          ],
          "histogram2dcontour": [
           {
            "colorbar": {
             "outlinewidth": 0,
             "ticks": ""
            },
            "colorscale": [
             [
              0,
              "#0d0887"
             ],
             [
              0.1111111111111111,
              "#46039f"
             ],
             [
              0.2222222222222222,
              "#7201a8"
             ],
             [
              0.3333333333333333,
              "#9c179e"
             ],
             [
              0.4444444444444444,
              "#bd3786"
             ],
             [
              0.5555555555555556,
              "#d8576b"
             ],
             [
              0.6666666666666666,
              "#ed7953"
             ],
             [
              0.7777777777777778,
              "#fb9f3a"
             ],
             [
              0.8888888888888888,
              "#fdca26"
             ],
             [
              1,
              "#f0f921"
             ]
            ],
            "type": "histogram2dcontour"
           }
          ],
          "mesh3d": [
           {
            "colorbar": {
             "outlinewidth": 0,
             "ticks": ""
            },
            "type": "mesh3d"
           }
          ],
          "parcoords": [
           {
            "line": {
             "colorbar": {
              "outlinewidth": 0,
              "ticks": ""
             }
            },
            "type": "parcoords"
           }
          ],
          "pie": [
           {
            "automargin": true,
            "type": "pie"
           }
          ],
          "scatter": [
           {
            "fillpattern": {
             "fillmode": "overlay",
             "size": 10,
             "solidity": 0.2
            },
            "type": "scatter"
           }
          ],
          "scatter3d": [
           {
            "line": {
             "colorbar": {
              "outlinewidth": 0,
              "ticks": ""
             }
            },
            "marker": {
             "colorbar": {
              "outlinewidth": 0,
              "ticks": ""
             }
            },
            "type": "scatter3d"
           }
          ],
          "scattercarpet": [
           {
            "marker": {
             "colorbar": {
              "outlinewidth": 0,
              "ticks": ""
             }
            },
            "type": "scattercarpet"
           }
          ],
          "scattergeo": [
           {
            "marker": {
             "colorbar": {
              "outlinewidth": 0,
              "ticks": ""
             }
            },
            "type": "scattergeo"
           }
          ],
          "scattergl": [
           {
            "marker": {
             "colorbar": {
              "outlinewidth": 0,
              "ticks": ""
             }
            },
            "type": "scattergl"
           }
          ],
          "scattermapbox": [
           {
            "marker": {
             "colorbar": {
              "outlinewidth": 0,
              "ticks": ""
             }
            },
            "type": "scattermapbox"
           }
          ],
          "scatterpolar": [
           {
            "marker": {
             "colorbar": {
              "outlinewidth": 0,
              "ticks": ""
             }
            },
            "type": "scatterpolar"
           }
          ],
          "scatterpolargl": [
           {
            "marker": {
             "colorbar": {
              "outlinewidth": 0,
              "ticks": ""
             }
            },
            "type": "scatterpolargl"
           }
          ],
          "scatterternary": [
           {
            "marker": {
             "colorbar": {
              "outlinewidth": 0,
              "ticks": ""
             }
            },
            "type": "scatterternary"
           }
          ],
          "surface": [
           {
            "colorbar": {
             "outlinewidth": 0,
             "ticks": ""
            },
            "colorscale": [
             [
              0,
              "#0d0887"
             ],
             [
              0.1111111111111111,
              "#46039f"
             ],
             [
              0.2222222222222222,
              "#7201a8"
             ],
             [
              0.3333333333333333,
              "#9c179e"
             ],
             [
              0.4444444444444444,
              "#bd3786"
             ],
             [
              0.5555555555555556,
              "#d8576b"
             ],
             [
              0.6666666666666666,
              "#ed7953"
             ],
             [
              0.7777777777777778,
              "#fb9f3a"
             ],
             [
              0.8888888888888888,
              "#fdca26"
             ],
             [
              1,
              "#f0f921"
             ]
            ],
            "type": "surface"
           }
          ],
          "table": [
           {
            "cells": {
             "fill": {
              "color": "#EBF0F8"
             },
             "line": {
              "color": "white"
             }
            },
            "header": {
             "fill": {
              "color": "#C8D4E3"
             },
             "line": {
              "color": "white"
             }
            },
            "type": "table"
           }
          ]
         },
         "layout": {
          "annotationdefaults": {
           "arrowcolor": "#2a3f5f",
           "arrowhead": 0,
           "arrowwidth": 1
          },
          "autotypenumbers": "strict",
          "coloraxis": {
           "colorbar": {
            "outlinewidth": 0,
            "ticks": ""
           }
          },
          "colorscale": {
           "diverging": [
            [
             0,
             "#8e0152"
            ],
            [
             0.1,
             "#c51b7d"
            ],
            [
             0.2,
             "#de77ae"
            ],
            [
             0.3,
             "#f1b6da"
            ],
            [
             0.4,
             "#fde0ef"
            ],
            [
             0.5,
             "#f7f7f7"
            ],
            [
             0.6,
             "#e6f5d0"
            ],
            [
             0.7,
             "#b8e186"
            ],
            [
             0.8,
             "#7fbc41"
            ],
            [
             0.9,
             "#4d9221"
            ],
            [
             1,
             "#276419"
            ]
           ],
           "sequential": [
            [
             0,
             "#0d0887"
            ],
            [
             0.1111111111111111,
             "#46039f"
            ],
            [
             0.2222222222222222,
             "#7201a8"
            ],
            [
             0.3333333333333333,
             "#9c179e"
            ],
            [
             0.4444444444444444,
             "#bd3786"
            ],
            [
             0.5555555555555556,
             "#d8576b"
            ],
            [
             0.6666666666666666,
             "#ed7953"
            ],
            [
             0.7777777777777778,
             "#fb9f3a"
            ],
            [
             0.8888888888888888,
             "#fdca26"
            ],
            [
             1,
             "#f0f921"
            ]
           ],
           "sequentialminus": [
            [
             0,
             "#0d0887"
            ],
            [
             0.1111111111111111,
             "#46039f"
            ],
            [
             0.2222222222222222,
             "#7201a8"
            ],
            [
             0.3333333333333333,
             "#9c179e"
            ],
            [
             0.4444444444444444,
             "#bd3786"
            ],
            [
             0.5555555555555556,
             "#d8576b"
            ],
            [
             0.6666666666666666,
             "#ed7953"
            ],
            [
             0.7777777777777778,
             "#fb9f3a"
            ],
            [
             0.8888888888888888,
             "#fdca26"
            ],
            [
             1,
             "#f0f921"
            ]
           ]
          },
          "colorway": [
           "#636efa",
           "#EF553B",
           "#00cc96",
           "#ab63fa",
           "#FFA15A",
           "#19d3f3",
           "#FF6692",
           "#B6E880",
           "#FF97FF",
           "#FECB52"
          ],
          "font": {
           "color": "#2a3f5f"
          },
          "geo": {
           "bgcolor": "white",
           "lakecolor": "white",
           "landcolor": "#E5ECF6",
           "showlakes": true,
           "showland": true,
           "subunitcolor": "white"
          },
          "hoverlabel": {
           "align": "left"
          },
          "hovermode": "closest",
          "mapbox": {
           "style": "light"
          },
          "paper_bgcolor": "white",
          "plot_bgcolor": "#E5ECF6",
          "polar": {
           "angularaxis": {
            "gridcolor": "white",
            "linecolor": "white",
            "ticks": ""
           },
           "bgcolor": "#E5ECF6",
           "radialaxis": {
            "gridcolor": "white",
            "linecolor": "white",
            "ticks": ""
           }
          },
          "scene": {
           "xaxis": {
            "backgroundcolor": "#E5ECF6",
            "gridcolor": "white",
            "gridwidth": 2,
            "linecolor": "white",
            "showbackground": true,
            "ticks": "",
            "zerolinecolor": "white"
           },
           "yaxis": {
            "backgroundcolor": "#E5ECF6",
            "gridcolor": "white",
            "gridwidth": 2,
            "linecolor": "white",
            "showbackground": true,
            "ticks": "",
            "zerolinecolor": "white"
           },
           "zaxis": {
            "backgroundcolor": "#E5ECF6",
            "gridcolor": "white",
            "gridwidth": 2,
            "linecolor": "white",
            "showbackground": true,
            "ticks": "",
            "zerolinecolor": "white"
           }
          },
          "shapedefaults": {
           "line": {
            "color": "#2a3f5f"
           }
          },
          "ternary": {
           "aaxis": {
            "gridcolor": "white",
            "linecolor": "white",
            "ticks": ""
           },
           "baxis": {
            "gridcolor": "white",
            "linecolor": "white",
            "ticks": ""
           },
           "bgcolor": "#E5ECF6",
           "caxis": {
            "gridcolor": "white",
            "linecolor": "white",
            "ticks": ""
           }
          },
          "title": {
           "x": 0.05
          },
          "xaxis": {
           "automargin": true,
           "gridcolor": "white",
           "linecolor": "white",
           "ticks": "",
           "title": {
            "standoff": 15
           },
           "zerolinecolor": "white",
           "zerolinewidth": 2
          },
          "yaxis": {
           "automargin": true,
           "gridcolor": "white",
           "linecolor": "white",
           "ticks": "",
           "title": {
            "standoff": 15
           },
           "zerolinecolor": "white",
           "zerolinewidth": 2
          }
         }
        },
        "xaxis": {
         "anchor": "y",
         "domain": [
          0,
          1
         ],
         "title": {
          "text": "indicator"
         }
        },
        "yaxis": {
         "anchor": "x",
         "domain": [
          0,
          1
         ],
         "title": {
          "text": "value"
         }
        }
       }
      }
     },
     "metadata": {},
     "output_type": "display_data"
    }
   ],
   "source": [
    "# plot min, max, and EEZ-weigthed average for targets\n",
    "targetsBox = (\n",
    "    fullData[fullData.index.isin([2021], level=1)]\n",
    "    .stack()\n",
    "    .reset_index()\n",
    "    .rename(columns={0: \"value\", \"level_2\": \"indicator\"})\n",
    ")\n",
    "targetsBox = targetsBox[targetsBox.indicator.isin(list(indicatorsL.keys()))]\n",
    "# targetAverage = eezAverage.loc[(2021,targets.columns), :].reset_index()\n",
    "\n",
    "fig = px.box(targetsBox, x=\"indicator\", y=\"value\")\n",
    "# add Countries in the max and min\n",
    "# create annotation list, x is the x-axis position of the annotation\n",
    "annoList = []\n",
    "x = 0\n",
    "for s in targetsBox.indicator.unique():\n",
    "    maxVal = np.max(targetsBox[targetsBox[\"indicator\"] == s][\"value\"])\n",
    "    annotation = dict(\n",
    "        x=x,\n",
    "        # y position is the max value\n",
    "        y=np.max(targetsBox[targetsBox[\"indicator\"] == s][\"value\"]),\n",
    "        # text is the country/ies with the max value\n",
    "        text=str(\n",
    "            targetsBox[\n",
    "                (targetsBox[\"value\"] == maxVal) & (targetsBox[\"indicator\"] == s)\n",
    "            ][\"Country\"].values[0]\n",
    "        ),\n",
    "        yshift=10,\n",
    "        showarrow=False,\n",
    "    )\n",
    "    annoList.append(annotation)\n",
    "    x += 1\n",
    "\n",
    "\n",
    "x = 0\n",
    "for s in targetsBox.indicator.unique():\n",
    "    minVal = np.min(targetsBox[targetsBox[\"indicator\"] == s][\"value\"])\n",
    "    annotation = dict(\n",
    "        x=x,\n",
    "        y=np.min(targetsBox[targetsBox[\"indicator\"] == s][\"value\"]),\n",
    "        text=str(\n",
    "            targetsBox[\n",
    "                (targetsBox[\"value\"] == minVal) & (targetsBox[\"indicator\"] == s)\n",
    "            ][\"Country\"].values[0]\n",
    "        ),\n",
    "        yshift=-10,\n",
    "        showarrow=False,\n",
    "    )\n",
    "    annoList.append(annotation)\n",
    "    x += 1\n",
    "\n",
    "fig.update_layout(annotations=annoList)\n",
    "fig.show()"
   ]
  },
  {
   "cell_type": "code",
   "execution_count": 387,
   "metadata": {},
   "outputs": [
    {
     "data": {
      "application/vnd.plotly.v1+json": {
       "config": {
        "plotlyServerURL": "https://plot.ly"
       },
       "data": [
        {
         "hovertemplate": "weakRank=%{x}<br>strongRank=%{y}<br>Country=%{text}<extra></extra>",
         "legendgroup": "",
         "marker": {
          "color": "#636efa",
          "symbol": "circle"
         },
         "mode": "markers+text",
         "name": "",
         "orientation": "v",
         "showlegend": false,
         "text": [
          "Belgium",
          "Bulgaria",
          "Croatia",
          "Cyprus",
          "Denmark",
          "Estonia",
          "Finland",
          "France",
          "Germany",
          "Greece",
          "Ireland",
          "Italy",
          "Latvia",
          "Lithuania",
          "Malta",
          "Netherlands",
          "Poland",
          "Portugal",
          "Romania",
          "Spain",
          "Sweden",
          "United Kingdom"
         ],
         "textposition": "bottom right",
         "type": "scatter",
         "x": [
          13,
          20,
          18,
          22,
          8,
          11,
          12,
          1,
          3,
          14,
          21,
          10,
          2,
          5,
          19,
          15,
          9,
          6,
          16,
          7,
          4,
          17
         ],
         "xaxis": "x",
         "y": [
          13,
          21,
          19,
          22,
          11,
          12,
          10,
          2,
          1,
          15,
          20,
          8,
          3,
          7,
          18,
          14,
          9,
          5,
          17,
          6,
          4,
          16
         ],
         "yaxis": "y"
        }
       ],
       "layout": {
        "legend": {
         "tracegroupgap": 0
        },
        "shapes": [
         {
          "type": "line",
          "x0": 0,
          "x1": 1,
          "xref": "paper",
          "y0": 0,
          "y1": 1,
          "yref": "paper"
         }
        ],
        "template": {
         "data": {
          "bar": [
           {
            "error_x": {
             "color": "#2a3f5f"
            },
            "error_y": {
             "color": "#2a3f5f"
            },
            "marker": {
             "line": {
              "color": "#E5ECF6",
              "width": 0.5
             },
             "pattern": {
              "fillmode": "overlay",
              "size": 10,
              "solidity": 0.2
             }
            },
            "type": "bar"
           }
          ],
          "barpolar": [
           {
            "marker": {
             "line": {
              "color": "#E5ECF6",
              "width": 0.5
             },
             "pattern": {
              "fillmode": "overlay",
              "size": 10,
              "solidity": 0.2
             }
            },
            "type": "barpolar"
           }
          ],
          "carpet": [
           {
            "aaxis": {
             "endlinecolor": "#2a3f5f",
             "gridcolor": "white",
             "linecolor": "white",
             "minorgridcolor": "white",
             "startlinecolor": "#2a3f5f"
            },
            "baxis": {
             "endlinecolor": "#2a3f5f",
             "gridcolor": "white",
             "linecolor": "white",
             "minorgridcolor": "white",
             "startlinecolor": "#2a3f5f"
            },
            "type": "carpet"
           }
          ],
          "choropleth": [
           {
            "colorbar": {
             "outlinewidth": 0,
             "ticks": ""
            },
            "type": "choropleth"
           }
          ],
          "contour": [
           {
            "colorbar": {
             "outlinewidth": 0,
             "ticks": ""
            },
            "colorscale": [
             [
              0,
              "#0d0887"
             ],
             [
              0.1111111111111111,
              "#46039f"
             ],
             [
              0.2222222222222222,
              "#7201a8"
             ],
             [
              0.3333333333333333,
              "#9c179e"
             ],
             [
              0.4444444444444444,
              "#bd3786"
             ],
             [
              0.5555555555555556,
              "#d8576b"
             ],
             [
              0.6666666666666666,
              "#ed7953"
             ],
             [
              0.7777777777777778,
              "#fb9f3a"
             ],
             [
              0.8888888888888888,
              "#fdca26"
             ],
             [
              1,
              "#f0f921"
             ]
            ],
            "type": "contour"
           }
          ],
          "contourcarpet": [
           {
            "colorbar": {
             "outlinewidth": 0,
             "ticks": ""
            },
            "type": "contourcarpet"
           }
          ],
          "heatmap": [
           {
            "colorbar": {
             "outlinewidth": 0,
             "ticks": ""
            },
            "colorscale": [
             [
              0,
              "#0d0887"
             ],
             [
              0.1111111111111111,
              "#46039f"
             ],
             [
              0.2222222222222222,
              "#7201a8"
             ],
             [
              0.3333333333333333,
              "#9c179e"
             ],
             [
              0.4444444444444444,
              "#bd3786"
             ],
             [
              0.5555555555555556,
              "#d8576b"
             ],
             [
              0.6666666666666666,
              "#ed7953"
             ],
             [
              0.7777777777777778,
              "#fb9f3a"
             ],
             [
              0.8888888888888888,
              "#fdca26"
             ],
             [
              1,
              "#f0f921"
             ]
            ],
            "type": "heatmap"
           }
          ],
          "heatmapgl": [
           {
            "colorbar": {
             "outlinewidth": 0,
             "ticks": ""
            },
            "colorscale": [
             [
              0,
              "#0d0887"
             ],
             [
              0.1111111111111111,
              "#46039f"
             ],
             [
              0.2222222222222222,
              "#7201a8"
             ],
             [
              0.3333333333333333,
              "#9c179e"
             ],
             [
              0.4444444444444444,
              "#bd3786"
             ],
             [
              0.5555555555555556,
              "#d8576b"
             ],
             [
              0.6666666666666666,
              "#ed7953"
             ],
             [
              0.7777777777777778,
              "#fb9f3a"
             ],
             [
              0.8888888888888888,
              "#fdca26"
             ],
             [
              1,
              "#f0f921"
             ]
            ],
            "type": "heatmapgl"
           }
          ],
          "histogram": [
           {
            "marker": {
             "pattern": {
              "fillmode": "overlay",
              "size": 10,
              "solidity": 0.2
             }
            },
            "type": "histogram"
           }
          ],
          "histogram2d": [
           {
            "colorbar": {
             "outlinewidth": 0,
             "ticks": ""
            },
            "colorscale": [
             [
              0,
              "#0d0887"
             ],
             [
              0.1111111111111111,
              "#46039f"
             ],
             [
              0.2222222222222222,
              "#7201a8"
             ],
             [
              0.3333333333333333,
              "#9c179e"
             ],
             [
              0.4444444444444444,
              "#bd3786"
             ],
             [
              0.5555555555555556,
              "#d8576b"
             ],
             [
              0.6666666666666666,
              "#ed7953"
             ],
             [
              0.7777777777777778,
              "#fb9f3a"
             ],
             [
              0.8888888888888888,
              "#fdca26"
             ],
             [
              1,
              "#f0f921"
             ]
            ],
            "type": "histogram2d"
           }
          ],
          "histogram2dcontour": [
           {
            "colorbar": {
             "outlinewidth": 0,
             "ticks": ""
            },
            "colorscale": [
             [
              0,
              "#0d0887"
             ],
             [
              0.1111111111111111,
              "#46039f"
             ],
             [
              0.2222222222222222,
              "#7201a8"
             ],
             [
              0.3333333333333333,
              "#9c179e"
             ],
             [
              0.4444444444444444,
              "#bd3786"
             ],
             [
              0.5555555555555556,
              "#d8576b"
             ],
             [
              0.6666666666666666,
              "#ed7953"
             ],
             [
              0.7777777777777778,
              "#fb9f3a"
             ],
             [
              0.8888888888888888,
              "#fdca26"
             ],
             [
              1,
              "#f0f921"
             ]
            ],
            "type": "histogram2dcontour"
           }
          ],
          "mesh3d": [
           {
            "colorbar": {
             "outlinewidth": 0,
             "ticks": ""
            },
            "type": "mesh3d"
           }
          ],
          "parcoords": [
           {
            "line": {
             "colorbar": {
              "outlinewidth": 0,
              "ticks": ""
             }
            },
            "type": "parcoords"
           }
          ],
          "pie": [
           {
            "automargin": true,
            "type": "pie"
           }
          ],
          "scatter": [
           {
            "fillpattern": {
             "fillmode": "overlay",
             "size": 10,
             "solidity": 0.2
            },
            "type": "scatter"
           }
          ],
          "scatter3d": [
           {
            "line": {
             "colorbar": {
              "outlinewidth": 0,
              "ticks": ""
             }
            },
            "marker": {
             "colorbar": {
              "outlinewidth": 0,
              "ticks": ""
             }
            },
            "type": "scatter3d"
           }
          ],
          "scattercarpet": [
           {
            "marker": {
             "colorbar": {
              "outlinewidth": 0,
              "ticks": ""
             }
            },
            "type": "scattercarpet"
           }
          ],
          "scattergeo": [
           {
            "marker": {
             "colorbar": {
              "outlinewidth": 0,
              "ticks": ""
             }
            },
            "type": "scattergeo"
           }
          ],
          "scattergl": [
           {
            "marker": {
             "colorbar": {
              "outlinewidth": 0,
              "ticks": ""
             }
            },
            "type": "scattergl"
           }
          ],
          "scattermapbox": [
           {
            "marker": {
             "colorbar": {
              "outlinewidth": 0,
              "ticks": ""
             }
            },
            "type": "scattermapbox"
           }
          ],
          "scatterpolar": [
           {
            "marker": {
             "colorbar": {
              "outlinewidth": 0,
              "ticks": ""
             }
            },
            "type": "scatterpolar"
           }
          ],
          "scatterpolargl": [
           {
            "marker": {
             "colorbar": {
              "outlinewidth": 0,
              "ticks": ""
             }
            },
            "type": "scatterpolargl"
           }
          ],
          "scatterternary": [
           {
            "marker": {
             "colorbar": {
              "outlinewidth": 0,
              "ticks": ""
             }
            },
            "type": "scatterternary"
           }
          ],
          "surface": [
           {
            "colorbar": {
             "outlinewidth": 0,
             "ticks": ""
            },
            "colorscale": [
             [
              0,
              "#0d0887"
             ],
             [
              0.1111111111111111,
              "#46039f"
             ],
             [
              0.2222222222222222,
              "#7201a8"
             ],
             [
              0.3333333333333333,
              "#9c179e"
             ],
             [
              0.4444444444444444,
              "#bd3786"
             ],
             [
              0.5555555555555556,
              "#d8576b"
             ],
             [
              0.6666666666666666,
              "#ed7953"
             ],
             [
              0.7777777777777778,
              "#fb9f3a"
             ],
             [
              0.8888888888888888,
              "#fdca26"
             ],
             [
              1,
              "#f0f921"
             ]
            ],
            "type": "surface"
           }
          ],
          "table": [
           {
            "cells": {
             "fill": {
              "color": "#EBF0F8"
             },
             "line": {
              "color": "white"
             }
            },
            "header": {
             "fill": {
              "color": "#C8D4E3"
             },
             "line": {
              "color": "white"
             }
            },
            "type": "table"
           }
          ]
         },
         "layout": {
          "annotationdefaults": {
           "arrowcolor": "#2a3f5f",
           "arrowhead": 0,
           "arrowwidth": 1
          },
          "autotypenumbers": "strict",
          "coloraxis": {
           "colorbar": {
            "outlinewidth": 0,
            "ticks": ""
           }
          },
          "colorscale": {
           "diverging": [
            [
             0,
             "#8e0152"
            ],
            [
             0.1,
             "#c51b7d"
            ],
            [
             0.2,
             "#de77ae"
            ],
            [
             0.3,
             "#f1b6da"
            ],
            [
             0.4,
             "#fde0ef"
            ],
            [
             0.5,
             "#f7f7f7"
            ],
            [
             0.6,
             "#e6f5d0"
            ],
            [
             0.7,
             "#b8e186"
            ],
            [
             0.8,
             "#7fbc41"
            ],
            [
             0.9,
             "#4d9221"
            ],
            [
             1,
             "#276419"
            ]
           ],
           "sequential": [
            [
             0,
             "#0d0887"
            ],
            [
             0.1111111111111111,
             "#46039f"
            ],
            [
             0.2222222222222222,
             "#7201a8"
            ],
            [
             0.3333333333333333,
             "#9c179e"
            ],
            [
             0.4444444444444444,
             "#bd3786"
            ],
            [
             0.5555555555555556,
             "#d8576b"
            ],
            [
             0.6666666666666666,
             "#ed7953"
            ],
            [
             0.7777777777777778,
             "#fb9f3a"
            ],
            [
             0.8888888888888888,
             "#fdca26"
            ],
            [
             1,
             "#f0f921"
            ]
           ],
           "sequentialminus": [
            [
             0,
             "#0d0887"
            ],
            [
             0.1111111111111111,
             "#46039f"
            ],
            [
             0.2222222222222222,
             "#7201a8"
            ],
            [
             0.3333333333333333,
             "#9c179e"
            ],
            [
             0.4444444444444444,
             "#bd3786"
            ],
            [
             0.5555555555555556,
             "#d8576b"
            ],
            [
             0.6666666666666666,
             "#ed7953"
            ],
            [
             0.7777777777777778,
             "#fb9f3a"
            ],
            [
             0.8888888888888888,
             "#fdca26"
            ],
            [
             1,
             "#f0f921"
            ]
           ]
          },
          "colorway": [
           "#636efa",
           "#EF553B",
           "#00cc96",
           "#ab63fa",
           "#FFA15A",
           "#19d3f3",
           "#FF6692",
           "#B6E880",
           "#FF97FF",
           "#FECB52"
          ],
          "font": {
           "color": "#2a3f5f"
          },
          "geo": {
           "bgcolor": "white",
           "lakecolor": "white",
           "landcolor": "#E5ECF6",
           "showlakes": true,
           "showland": true,
           "subunitcolor": "white"
          },
          "hoverlabel": {
           "align": "left"
          },
          "hovermode": "closest",
          "mapbox": {
           "style": "light"
          },
          "paper_bgcolor": "white",
          "plot_bgcolor": "#E5ECF6",
          "polar": {
           "angularaxis": {
            "gridcolor": "white",
            "linecolor": "white",
            "ticks": ""
           },
           "bgcolor": "#E5ECF6",
           "radialaxis": {
            "gridcolor": "white",
            "linecolor": "white",
            "ticks": ""
           }
          },
          "scene": {
           "xaxis": {
            "backgroundcolor": "#E5ECF6",
            "gridcolor": "white",
            "gridwidth": 2,
            "linecolor": "white",
            "showbackground": true,
            "ticks": "",
            "zerolinecolor": "white"
           },
           "yaxis": {
            "backgroundcolor": "#E5ECF6",
            "gridcolor": "white",
            "gridwidth": 2,
            "linecolor": "white",
            "showbackground": true,
            "ticks": "",
            "zerolinecolor": "white"
           },
           "zaxis": {
            "backgroundcolor": "#E5ECF6",
            "gridcolor": "white",
            "gridwidth": 2,
            "linecolor": "white",
            "showbackground": true,
            "ticks": "",
            "zerolinecolor": "white"
           }
          },
          "shapedefaults": {
           "line": {
            "color": "#2a3f5f"
           }
          },
          "ternary": {
           "aaxis": {
            "gridcolor": "white",
            "linecolor": "white",
            "ticks": ""
           },
           "baxis": {
            "gridcolor": "white",
            "linecolor": "white",
            "ticks": ""
           },
           "bgcolor": "#E5ECF6",
           "caxis": {
            "gridcolor": "white",
            "linecolor": "white",
            "ticks": ""
           }
          },
          "title": {
           "x": 0.05
          },
          "xaxis": {
           "automargin": true,
           "gridcolor": "white",
           "linecolor": "white",
           "ticks": "",
           "title": {
            "standoff": 15
           },
           "zerolinecolor": "white",
           "zerolinewidth": 2
          },
          "yaxis": {
           "automargin": true,
           "gridcolor": "white",
           "linecolor": "white",
           "ticks": "",
           "title": {
            "standoff": 15
           },
           "zerolinecolor": "white",
           "zerolinewidth": 2
          }
         }
        },
        "title": {
         "text": "2012"
        },
        "xaxis": {
         "anchor": "y",
         "domain": [
          0,
          1
         ],
         "title": {
          "text": "weakRank"
         }
        },
        "yaxis": {
         "anchor": "x",
         "domain": [
          0,
          1
         ],
         "title": {
          "text": "strongRank"
         }
        }
       }
      }
     },
     "metadata": {},
     "output_type": "display_data"
    },
    {
     "data": {
      "application/vnd.plotly.v1+json": {
       "config": {
        "plotlyServerURL": "https://plot.ly"
       },
       "data": [
        {
         "hovertemplate": "weakRank=%{x}<br>strongRank=%{y}<br>Country=%{text}<extra></extra>",
         "legendgroup": "",
         "marker": {
          "color": "#636efa",
          "symbol": "circle"
         },
         "mode": "markers+text",
         "name": "",
         "orientation": "v",
         "showlegend": false,
         "text": [
          "Belgium",
          "Bulgaria",
          "Croatia",
          "Cyprus",
          "Denmark",
          "Estonia",
          "Finland",
          "France",
          "Germany",
          "Greece",
          "Ireland",
          "Italy",
          "Latvia",
          "Lithuania",
          "Malta",
          "Netherlands",
          "Poland",
          "Portugal",
          "Romania",
          "Spain",
          "Sweden",
          "United Kingdom"
         ],
         "textposition": "bottom right",
         "type": "scatter",
         "x": [
          12,
          20,
          16,
          22,
          6,
          9,
          11,
          3,
          2,
          14,
          21,
          10,
          1,
          4,
          19,
          18,
          13,
          7,
          17,
          8,
          5,
          15
         ],
         "xaxis": "x",
         "y": [
          12,
          21,
          18,
          22,
          8,
          6,
          10,
          2,
          1,
          16,
          20,
          11,
          3,
          4,
          19,
          15,
          13,
          7,
          17,
          9,
          5,
          14
         ],
         "yaxis": "y"
        }
       ],
       "layout": {
        "legend": {
         "tracegroupgap": 0
        },
        "shapes": [
         {
          "type": "line",
          "x0": 0,
          "x1": 1,
          "xref": "paper",
          "y0": 0,
          "y1": 1,
          "yref": "paper"
         }
        ],
        "template": {
         "data": {
          "bar": [
           {
            "error_x": {
             "color": "#2a3f5f"
            },
            "error_y": {
             "color": "#2a3f5f"
            },
            "marker": {
             "line": {
              "color": "#E5ECF6",
              "width": 0.5
             },
             "pattern": {
              "fillmode": "overlay",
              "size": 10,
              "solidity": 0.2
             }
            },
            "type": "bar"
           }
          ],
          "barpolar": [
           {
            "marker": {
             "line": {
              "color": "#E5ECF6",
              "width": 0.5
             },
             "pattern": {
              "fillmode": "overlay",
              "size": 10,
              "solidity": 0.2
             }
            },
            "type": "barpolar"
           }
          ],
          "carpet": [
           {
            "aaxis": {
             "endlinecolor": "#2a3f5f",
             "gridcolor": "white",
             "linecolor": "white",
             "minorgridcolor": "white",
             "startlinecolor": "#2a3f5f"
            },
            "baxis": {
             "endlinecolor": "#2a3f5f",
             "gridcolor": "white",
             "linecolor": "white",
             "minorgridcolor": "white",
             "startlinecolor": "#2a3f5f"
            },
            "type": "carpet"
           }
          ],
          "choropleth": [
           {
            "colorbar": {
             "outlinewidth": 0,
             "ticks": ""
            },
            "type": "choropleth"
           }
          ],
          "contour": [
           {
            "colorbar": {
             "outlinewidth": 0,
             "ticks": ""
            },
            "colorscale": [
             [
              0,
              "#0d0887"
             ],
             [
              0.1111111111111111,
              "#46039f"
             ],
             [
              0.2222222222222222,
              "#7201a8"
             ],
             [
              0.3333333333333333,
              "#9c179e"
             ],
             [
              0.4444444444444444,
              "#bd3786"
             ],
             [
              0.5555555555555556,
              "#d8576b"
             ],
             [
              0.6666666666666666,
              "#ed7953"
             ],
             [
              0.7777777777777778,
              "#fb9f3a"
             ],
             [
              0.8888888888888888,
              "#fdca26"
             ],
             [
              1,
              "#f0f921"
             ]
            ],
            "type": "contour"
           }
          ],
          "contourcarpet": [
           {
            "colorbar": {
             "outlinewidth": 0,
             "ticks": ""
            },
            "type": "contourcarpet"
           }
          ],
          "heatmap": [
           {
            "colorbar": {
             "outlinewidth": 0,
             "ticks": ""
            },
            "colorscale": [
             [
              0,
              "#0d0887"
             ],
             [
              0.1111111111111111,
              "#46039f"
             ],
             [
              0.2222222222222222,
              "#7201a8"
             ],
             [
              0.3333333333333333,
              "#9c179e"
             ],
             [
              0.4444444444444444,
              "#bd3786"
             ],
             [
              0.5555555555555556,
              "#d8576b"
             ],
             [
              0.6666666666666666,
              "#ed7953"
             ],
             [
              0.7777777777777778,
              "#fb9f3a"
             ],
             [
              0.8888888888888888,
              "#fdca26"
             ],
             [
              1,
              "#f0f921"
             ]
            ],
            "type": "heatmap"
           }
          ],
          "heatmapgl": [
           {
            "colorbar": {
             "outlinewidth": 0,
             "ticks": ""
            },
            "colorscale": [
             [
              0,
              "#0d0887"
             ],
             [
              0.1111111111111111,
              "#46039f"
             ],
             [
              0.2222222222222222,
              "#7201a8"
             ],
             [
              0.3333333333333333,
              "#9c179e"
             ],
             [
              0.4444444444444444,
              "#bd3786"
             ],
             [
              0.5555555555555556,
              "#d8576b"
             ],
             [
              0.6666666666666666,
              "#ed7953"
             ],
             [
              0.7777777777777778,
              "#fb9f3a"
             ],
             [
              0.8888888888888888,
              "#fdca26"
             ],
             [
              1,
              "#f0f921"
             ]
            ],
            "type": "heatmapgl"
           }
          ],
          "histogram": [
           {
            "marker": {
             "pattern": {
              "fillmode": "overlay",
              "size": 10,
              "solidity": 0.2
             }
            },
            "type": "histogram"
           }
          ],
          "histogram2d": [
           {
            "colorbar": {
             "outlinewidth": 0,
             "ticks": ""
            },
            "colorscale": [
             [
              0,
              "#0d0887"
             ],
             [
              0.1111111111111111,
              "#46039f"
             ],
             [
              0.2222222222222222,
              "#7201a8"
             ],
             [
              0.3333333333333333,
              "#9c179e"
             ],
             [
              0.4444444444444444,
              "#bd3786"
             ],
             [
              0.5555555555555556,
              "#d8576b"
             ],
             [
              0.6666666666666666,
              "#ed7953"
             ],
             [
              0.7777777777777778,
              "#fb9f3a"
             ],
             [
              0.8888888888888888,
              "#fdca26"
             ],
             [
              1,
              "#f0f921"
             ]
            ],
            "type": "histogram2d"
           }
          ],
          "histogram2dcontour": [
           {
            "colorbar": {
             "outlinewidth": 0,
             "ticks": ""
            },
            "colorscale": [
             [
              0,
              "#0d0887"
             ],
             [
              0.1111111111111111,
              "#46039f"
             ],
             [
              0.2222222222222222,
              "#7201a8"
             ],
             [
              0.3333333333333333,
              "#9c179e"
             ],
             [
              0.4444444444444444,
              "#bd3786"
             ],
             [
              0.5555555555555556,
              "#d8576b"
             ],
             [
              0.6666666666666666,
              "#ed7953"
             ],
             [
              0.7777777777777778,
              "#fb9f3a"
             ],
             [
              0.8888888888888888,
              "#fdca26"
             ],
             [
              1,
              "#f0f921"
             ]
            ],
            "type": "histogram2dcontour"
           }
          ],
          "mesh3d": [
           {
            "colorbar": {
             "outlinewidth": 0,
             "ticks": ""
            },
            "type": "mesh3d"
           }
          ],
          "parcoords": [
           {
            "line": {
             "colorbar": {
              "outlinewidth": 0,
              "ticks": ""
             }
            },
            "type": "parcoords"
           }
          ],
          "pie": [
           {
            "automargin": true,
            "type": "pie"
           }
          ],
          "scatter": [
           {
            "fillpattern": {
             "fillmode": "overlay",
             "size": 10,
             "solidity": 0.2
            },
            "type": "scatter"
           }
          ],
          "scatter3d": [
           {
            "line": {
             "colorbar": {
              "outlinewidth": 0,
              "ticks": ""
             }
            },
            "marker": {
             "colorbar": {
              "outlinewidth": 0,
              "ticks": ""
             }
            },
            "type": "scatter3d"
           }
          ],
          "scattercarpet": [
           {
            "marker": {
             "colorbar": {
              "outlinewidth": 0,
              "ticks": ""
             }
            },
            "type": "scattercarpet"
           }
          ],
          "scattergeo": [
           {
            "marker": {
             "colorbar": {
              "outlinewidth": 0,
              "ticks": ""
             }
            },
            "type": "scattergeo"
           }
          ],
          "scattergl": [
           {
            "marker": {
             "colorbar": {
              "outlinewidth": 0,
              "ticks": ""
             }
            },
            "type": "scattergl"
           }
          ],
          "scattermapbox": [
           {
            "marker": {
             "colorbar": {
              "outlinewidth": 0,
              "ticks": ""
             }
            },
            "type": "scattermapbox"
           }
          ],
          "scatterpolar": [
           {
            "marker": {
             "colorbar": {
              "outlinewidth": 0,
              "ticks": ""
             }
            },
            "type": "scatterpolar"
           }
          ],
          "scatterpolargl": [
           {
            "marker": {
             "colorbar": {
              "outlinewidth": 0,
              "ticks": ""
             }
            },
            "type": "scatterpolargl"
           }
          ],
          "scatterternary": [
           {
            "marker": {
             "colorbar": {
              "outlinewidth": 0,
              "ticks": ""
             }
            },
            "type": "scatterternary"
           }
          ],
          "surface": [
           {
            "colorbar": {
             "outlinewidth": 0,
             "ticks": ""
            },
            "colorscale": [
             [
              0,
              "#0d0887"
             ],
             [
              0.1111111111111111,
              "#46039f"
             ],
             [
              0.2222222222222222,
              "#7201a8"
             ],
             [
              0.3333333333333333,
              "#9c179e"
             ],
             [
              0.4444444444444444,
              "#bd3786"
             ],
             [
              0.5555555555555556,
              "#d8576b"
             ],
             [
              0.6666666666666666,
              "#ed7953"
             ],
             [
              0.7777777777777778,
              "#fb9f3a"
             ],
             [
              0.8888888888888888,
              "#fdca26"
             ],
             [
              1,
              "#f0f921"
             ]
            ],
            "type": "surface"
           }
          ],
          "table": [
           {
            "cells": {
             "fill": {
              "color": "#EBF0F8"
             },
             "line": {
              "color": "white"
             }
            },
            "header": {
             "fill": {
              "color": "#C8D4E3"
             },
             "line": {
              "color": "white"
             }
            },
            "type": "table"
           }
          ]
         },
         "layout": {
          "annotationdefaults": {
           "arrowcolor": "#2a3f5f",
           "arrowhead": 0,
           "arrowwidth": 1
          },
          "autotypenumbers": "strict",
          "coloraxis": {
           "colorbar": {
            "outlinewidth": 0,
            "ticks": ""
           }
          },
          "colorscale": {
           "diverging": [
            [
             0,
             "#8e0152"
            ],
            [
             0.1,
             "#c51b7d"
            ],
            [
             0.2,
             "#de77ae"
            ],
            [
             0.3,
             "#f1b6da"
            ],
            [
             0.4,
             "#fde0ef"
            ],
            [
             0.5,
             "#f7f7f7"
            ],
            [
             0.6,
             "#e6f5d0"
            ],
            [
             0.7,
             "#b8e186"
            ],
            [
             0.8,
             "#7fbc41"
            ],
            [
             0.9,
             "#4d9221"
            ],
            [
             1,
             "#276419"
            ]
           ],
           "sequential": [
            [
             0,
             "#0d0887"
            ],
            [
             0.1111111111111111,
             "#46039f"
            ],
            [
             0.2222222222222222,
             "#7201a8"
            ],
            [
             0.3333333333333333,
             "#9c179e"
            ],
            [
             0.4444444444444444,
             "#bd3786"
            ],
            [
             0.5555555555555556,
             "#d8576b"
            ],
            [
             0.6666666666666666,
             "#ed7953"
            ],
            [
             0.7777777777777778,
             "#fb9f3a"
            ],
            [
             0.8888888888888888,
             "#fdca26"
            ],
            [
             1,
             "#f0f921"
            ]
           ],
           "sequentialminus": [
            [
             0,
             "#0d0887"
            ],
            [
             0.1111111111111111,
             "#46039f"
            ],
            [
             0.2222222222222222,
             "#7201a8"
            ],
            [
             0.3333333333333333,
             "#9c179e"
            ],
            [
             0.4444444444444444,
             "#bd3786"
            ],
            [
             0.5555555555555556,
             "#d8576b"
            ],
            [
             0.6666666666666666,
             "#ed7953"
            ],
            [
             0.7777777777777778,
             "#fb9f3a"
            ],
            [
             0.8888888888888888,
             "#fdca26"
            ],
            [
             1,
             "#f0f921"
            ]
           ]
          },
          "colorway": [
           "#636efa",
           "#EF553B",
           "#00cc96",
           "#ab63fa",
           "#FFA15A",
           "#19d3f3",
           "#FF6692",
           "#B6E880",
           "#FF97FF",
           "#FECB52"
          ],
          "font": {
           "color": "#2a3f5f"
          },
          "geo": {
           "bgcolor": "white",
           "lakecolor": "white",
           "landcolor": "#E5ECF6",
           "showlakes": true,
           "showland": true,
           "subunitcolor": "white"
          },
          "hoverlabel": {
           "align": "left"
          },
          "hovermode": "closest",
          "mapbox": {
           "style": "light"
          },
          "paper_bgcolor": "white",
          "plot_bgcolor": "#E5ECF6",
          "polar": {
           "angularaxis": {
            "gridcolor": "white",
            "linecolor": "white",
            "ticks": ""
           },
           "bgcolor": "#E5ECF6",
           "radialaxis": {
            "gridcolor": "white",
            "linecolor": "white",
            "ticks": ""
           }
          },
          "scene": {
           "xaxis": {
            "backgroundcolor": "#E5ECF6",
            "gridcolor": "white",
            "gridwidth": 2,
            "linecolor": "white",
            "showbackground": true,
            "ticks": "",
            "zerolinecolor": "white"
           },
           "yaxis": {
            "backgroundcolor": "#E5ECF6",
            "gridcolor": "white",
            "gridwidth": 2,
            "linecolor": "white",
            "showbackground": true,
            "ticks": "",
            "zerolinecolor": "white"
           },
           "zaxis": {
            "backgroundcolor": "#E5ECF6",
            "gridcolor": "white",
            "gridwidth": 2,
            "linecolor": "white",
            "showbackground": true,
            "ticks": "",
            "zerolinecolor": "white"
           }
          },
          "shapedefaults": {
           "line": {
            "color": "#2a3f5f"
           }
          },
          "ternary": {
           "aaxis": {
            "gridcolor": "white",
            "linecolor": "white",
            "ticks": ""
           },
           "baxis": {
            "gridcolor": "white",
            "linecolor": "white",
            "ticks": ""
           },
           "bgcolor": "#E5ECF6",
           "caxis": {
            "gridcolor": "white",
            "linecolor": "white",
            "ticks": ""
           }
          },
          "title": {
           "x": 0.05
          },
          "xaxis": {
           "automargin": true,
           "gridcolor": "white",
           "linecolor": "white",
           "ticks": "",
           "title": {
            "standoff": 15
           },
           "zerolinecolor": "white",
           "zerolinewidth": 2
          },
          "yaxis": {
           "automargin": true,
           "gridcolor": "white",
           "linecolor": "white",
           "ticks": "",
           "title": {
            "standoff": 15
           },
           "zerolinecolor": "white",
           "zerolinewidth": 2
          }
         }
        },
        "title": {
         "text": "2016"
        },
        "xaxis": {
         "anchor": "y",
         "domain": [
          0,
          1
         ],
         "title": {
          "text": "weakRank"
         }
        },
        "yaxis": {
         "anchor": "x",
         "domain": [
          0,
          1
         ],
         "title": {
          "text": "strongRank"
         }
        }
       }
      }
     },
     "metadata": {},
     "output_type": "display_data"
    },
    {
     "data": {
      "application/vnd.plotly.v1+json": {
       "config": {
        "plotlyServerURL": "https://plot.ly"
       },
       "data": [
        {
         "hovertemplate": "weakRank=%{x}<br>strongRank=%{y}<br>Country=%{text}<extra></extra>",
         "legendgroup": "",
         "marker": {
          "color": "#636efa",
          "symbol": "circle"
         },
         "mode": "markers+text",
         "name": "",
         "orientation": "v",
         "showlegend": false,
         "text": [
          "Belgium",
          "Bulgaria",
          "Croatia",
          "Cyprus",
          "Denmark",
          "Estonia",
          "Finland",
          "France",
          "Germany",
          "Greece",
          "Ireland",
          "Italy",
          "Latvia",
          "Lithuania",
          "Malta",
          "Netherlands",
          "Poland",
          "Portugal",
          "Romania",
          "Spain",
          "Sweden",
          "United Kingdom"
         ],
         "textposition": "bottom right",
         "type": "scatter",
         "x": [
          13,
          21,
          19,
          22,
          9,
          6,
          10,
          1,
          2,
          12,
          20,
          11,
          4,
          5,
          18,
          16,
          17,
          7,
          15,
          8,
          3,
          14
         ],
         "xaxis": "x",
         "y": [
          12,
          22,
          19,
          21,
          11,
          5,
          9,
          1,
          2,
          14,
          20,
          10,
          6,
          8,
          18,
          15,
          13,
          4,
          17,
          7,
          3,
          16
         ],
         "yaxis": "y"
        }
       ],
       "layout": {
        "legend": {
         "tracegroupgap": 0
        },
        "shapes": [
         {
          "type": "line",
          "x0": 0,
          "x1": 1,
          "xref": "paper",
          "y0": 0,
          "y1": 1,
          "yref": "paper"
         }
        ],
        "template": {
         "data": {
          "bar": [
           {
            "error_x": {
             "color": "#2a3f5f"
            },
            "error_y": {
             "color": "#2a3f5f"
            },
            "marker": {
             "line": {
              "color": "#E5ECF6",
              "width": 0.5
             },
             "pattern": {
              "fillmode": "overlay",
              "size": 10,
              "solidity": 0.2
             }
            },
            "type": "bar"
           }
          ],
          "barpolar": [
           {
            "marker": {
             "line": {
              "color": "#E5ECF6",
              "width": 0.5
             },
             "pattern": {
              "fillmode": "overlay",
              "size": 10,
              "solidity": 0.2
             }
            },
            "type": "barpolar"
           }
          ],
          "carpet": [
           {
            "aaxis": {
             "endlinecolor": "#2a3f5f",
             "gridcolor": "white",
             "linecolor": "white",
             "minorgridcolor": "white",
             "startlinecolor": "#2a3f5f"
            },
            "baxis": {
             "endlinecolor": "#2a3f5f",
             "gridcolor": "white",
             "linecolor": "white",
             "minorgridcolor": "white",
             "startlinecolor": "#2a3f5f"
            },
            "type": "carpet"
           }
          ],
          "choropleth": [
           {
            "colorbar": {
             "outlinewidth": 0,
             "ticks": ""
            },
            "type": "choropleth"
           }
          ],
          "contour": [
           {
            "colorbar": {
             "outlinewidth": 0,
             "ticks": ""
            },
            "colorscale": [
             [
              0,
              "#0d0887"
             ],
             [
              0.1111111111111111,
              "#46039f"
             ],
             [
              0.2222222222222222,
              "#7201a8"
             ],
             [
              0.3333333333333333,
              "#9c179e"
             ],
             [
              0.4444444444444444,
              "#bd3786"
             ],
             [
              0.5555555555555556,
              "#d8576b"
             ],
             [
              0.6666666666666666,
              "#ed7953"
             ],
             [
              0.7777777777777778,
              "#fb9f3a"
             ],
             [
              0.8888888888888888,
              "#fdca26"
             ],
             [
              1,
              "#f0f921"
             ]
            ],
            "type": "contour"
           }
          ],
          "contourcarpet": [
           {
            "colorbar": {
             "outlinewidth": 0,
             "ticks": ""
            },
            "type": "contourcarpet"
           }
          ],
          "heatmap": [
           {
            "colorbar": {
             "outlinewidth": 0,
             "ticks": ""
            },
            "colorscale": [
             [
              0,
              "#0d0887"
             ],
             [
              0.1111111111111111,
              "#46039f"
             ],
             [
              0.2222222222222222,
              "#7201a8"
             ],
             [
              0.3333333333333333,
              "#9c179e"
             ],
             [
              0.4444444444444444,
              "#bd3786"
             ],
             [
              0.5555555555555556,
              "#d8576b"
             ],
             [
              0.6666666666666666,
              "#ed7953"
             ],
             [
              0.7777777777777778,
              "#fb9f3a"
             ],
             [
              0.8888888888888888,
              "#fdca26"
             ],
             [
              1,
              "#f0f921"
             ]
            ],
            "type": "heatmap"
           }
          ],
          "heatmapgl": [
           {
            "colorbar": {
             "outlinewidth": 0,
             "ticks": ""
            },
            "colorscale": [
             [
              0,
              "#0d0887"
             ],
             [
              0.1111111111111111,
              "#46039f"
             ],
             [
              0.2222222222222222,
              "#7201a8"
             ],
             [
              0.3333333333333333,
              "#9c179e"
             ],
             [
              0.4444444444444444,
              "#bd3786"
             ],
             [
              0.5555555555555556,
              "#d8576b"
             ],
             [
              0.6666666666666666,
              "#ed7953"
             ],
             [
              0.7777777777777778,
              "#fb9f3a"
             ],
             [
              0.8888888888888888,
              "#fdca26"
             ],
             [
              1,
              "#f0f921"
             ]
            ],
            "type": "heatmapgl"
           }
          ],
          "histogram": [
           {
            "marker": {
             "pattern": {
              "fillmode": "overlay",
              "size": 10,
              "solidity": 0.2
             }
            },
            "type": "histogram"
           }
          ],
          "histogram2d": [
           {
            "colorbar": {
             "outlinewidth": 0,
             "ticks": ""
            },
            "colorscale": [
             [
              0,
              "#0d0887"
             ],
             [
              0.1111111111111111,
              "#46039f"
             ],
             [
              0.2222222222222222,
              "#7201a8"
             ],
             [
              0.3333333333333333,
              "#9c179e"
             ],
             [
              0.4444444444444444,
              "#bd3786"
             ],
             [
              0.5555555555555556,
              "#d8576b"
             ],
             [
              0.6666666666666666,
              "#ed7953"
             ],
             [
              0.7777777777777778,
              "#fb9f3a"
             ],
             [
              0.8888888888888888,
              "#fdca26"
             ],
             [
              1,
              "#f0f921"
             ]
            ],
            "type": "histogram2d"
           }
          ],
          "histogram2dcontour": [
           {
            "colorbar": {
             "outlinewidth": 0,
             "ticks": ""
            },
            "colorscale": [
             [
              0,
              "#0d0887"
             ],
             [
              0.1111111111111111,
              "#46039f"
             ],
             [
              0.2222222222222222,
              "#7201a8"
             ],
             [
              0.3333333333333333,
              "#9c179e"
             ],
             [
              0.4444444444444444,
              "#bd3786"
             ],
             [
              0.5555555555555556,
              "#d8576b"
             ],
             [
              0.6666666666666666,
              "#ed7953"
             ],
             [
              0.7777777777777778,
              "#fb9f3a"
             ],
             [
              0.8888888888888888,
              "#fdca26"
             ],
             [
              1,
              "#f0f921"
             ]
            ],
            "type": "histogram2dcontour"
           }
          ],
          "mesh3d": [
           {
            "colorbar": {
             "outlinewidth": 0,
             "ticks": ""
            },
            "type": "mesh3d"
           }
          ],
          "parcoords": [
           {
            "line": {
             "colorbar": {
              "outlinewidth": 0,
              "ticks": ""
             }
            },
            "type": "parcoords"
           }
          ],
          "pie": [
           {
            "automargin": true,
            "type": "pie"
           }
          ],
          "scatter": [
           {
            "fillpattern": {
             "fillmode": "overlay",
             "size": 10,
             "solidity": 0.2
            },
            "type": "scatter"
           }
          ],
          "scatter3d": [
           {
            "line": {
             "colorbar": {
              "outlinewidth": 0,
              "ticks": ""
             }
            },
            "marker": {
             "colorbar": {
              "outlinewidth": 0,
              "ticks": ""
             }
            },
            "type": "scatter3d"
           }
          ],
          "scattercarpet": [
           {
            "marker": {
             "colorbar": {
              "outlinewidth": 0,
              "ticks": ""
             }
            },
            "type": "scattercarpet"
           }
          ],
          "scattergeo": [
           {
            "marker": {
             "colorbar": {
              "outlinewidth": 0,
              "ticks": ""
             }
            },
            "type": "scattergeo"
           }
          ],
          "scattergl": [
           {
            "marker": {
             "colorbar": {
              "outlinewidth": 0,
              "ticks": ""
             }
            },
            "type": "scattergl"
           }
          ],
          "scattermapbox": [
           {
            "marker": {
             "colorbar": {
              "outlinewidth": 0,
              "ticks": ""
             }
            },
            "type": "scattermapbox"
           }
          ],
          "scatterpolar": [
           {
            "marker": {
             "colorbar": {
              "outlinewidth": 0,
              "ticks": ""
             }
            },
            "type": "scatterpolar"
           }
          ],
          "scatterpolargl": [
           {
            "marker": {
             "colorbar": {
              "outlinewidth": 0,
              "ticks": ""
             }
            },
            "type": "scatterpolargl"
           }
          ],
          "scatterternary": [
           {
            "marker": {
             "colorbar": {
              "outlinewidth": 0,
              "ticks": ""
             }
            },
            "type": "scatterternary"
           }
          ],
          "surface": [
           {
            "colorbar": {
             "outlinewidth": 0,
             "ticks": ""
            },
            "colorscale": [
             [
              0,
              "#0d0887"
             ],
             [
              0.1111111111111111,
              "#46039f"
             ],
             [
              0.2222222222222222,
              "#7201a8"
             ],
             [
              0.3333333333333333,
              "#9c179e"
             ],
             [
              0.4444444444444444,
              "#bd3786"
             ],
             [
              0.5555555555555556,
              "#d8576b"
             ],
             [
              0.6666666666666666,
              "#ed7953"
             ],
             [
              0.7777777777777778,
              "#fb9f3a"
             ],
             [
              0.8888888888888888,
              "#fdca26"
             ],
             [
              1,
              "#f0f921"
             ]
            ],
            "type": "surface"
           }
          ],
          "table": [
           {
            "cells": {
             "fill": {
              "color": "#EBF0F8"
             },
             "line": {
              "color": "white"
             }
            },
            "header": {
             "fill": {
              "color": "#C8D4E3"
             },
             "line": {
              "color": "white"
             }
            },
            "type": "table"
           }
          ]
         },
         "layout": {
          "annotationdefaults": {
           "arrowcolor": "#2a3f5f",
           "arrowhead": 0,
           "arrowwidth": 1
          },
          "autotypenumbers": "strict",
          "coloraxis": {
           "colorbar": {
            "outlinewidth": 0,
            "ticks": ""
           }
          },
          "colorscale": {
           "diverging": [
            [
             0,
             "#8e0152"
            ],
            [
             0.1,
             "#c51b7d"
            ],
            [
             0.2,
             "#de77ae"
            ],
            [
             0.3,
             "#f1b6da"
            ],
            [
             0.4,
             "#fde0ef"
            ],
            [
             0.5,
             "#f7f7f7"
            ],
            [
             0.6,
             "#e6f5d0"
            ],
            [
             0.7,
             "#b8e186"
            ],
            [
             0.8,
             "#7fbc41"
            ],
            [
             0.9,
             "#4d9221"
            ],
            [
             1,
             "#276419"
            ]
           ],
           "sequential": [
            [
             0,
             "#0d0887"
            ],
            [
             0.1111111111111111,
             "#46039f"
            ],
            [
             0.2222222222222222,
             "#7201a8"
            ],
            [
             0.3333333333333333,
             "#9c179e"
            ],
            [
             0.4444444444444444,
             "#bd3786"
            ],
            [
             0.5555555555555556,
             "#d8576b"
            ],
            [
             0.6666666666666666,
             "#ed7953"
            ],
            [
             0.7777777777777778,
             "#fb9f3a"
            ],
            [
             0.8888888888888888,
             "#fdca26"
            ],
            [
             1,
             "#f0f921"
            ]
           ],
           "sequentialminus": [
            [
             0,
             "#0d0887"
            ],
            [
             0.1111111111111111,
             "#46039f"
            ],
            [
             0.2222222222222222,
             "#7201a8"
            ],
            [
             0.3333333333333333,
             "#9c179e"
            ],
            [
             0.4444444444444444,
             "#bd3786"
            ],
            [
             0.5555555555555556,
             "#d8576b"
            ],
            [
             0.6666666666666666,
             "#ed7953"
            ],
            [
             0.7777777777777778,
             "#fb9f3a"
            ],
            [
             0.8888888888888888,
             "#fdca26"
            ],
            [
             1,
             "#f0f921"
            ]
           ]
          },
          "colorway": [
           "#636efa",
           "#EF553B",
           "#00cc96",
           "#ab63fa",
           "#FFA15A",
           "#19d3f3",
           "#FF6692",
           "#B6E880",
           "#FF97FF",
           "#FECB52"
          ],
          "font": {
           "color": "#2a3f5f"
          },
          "geo": {
           "bgcolor": "white",
           "lakecolor": "white",
           "landcolor": "#E5ECF6",
           "showlakes": true,
           "showland": true,
           "subunitcolor": "white"
          },
          "hoverlabel": {
           "align": "left"
          },
          "hovermode": "closest",
          "mapbox": {
           "style": "light"
          },
          "paper_bgcolor": "white",
          "plot_bgcolor": "#E5ECF6",
          "polar": {
           "angularaxis": {
            "gridcolor": "white",
            "linecolor": "white",
            "ticks": ""
           },
           "bgcolor": "#E5ECF6",
           "radialaxis": {
            "gridcolor": "white",
            "linecolor": "white",
            "ticks": ""
           }
          },
          "scene": {
           "xaxis": {
            "backgroundcolor": "#E5ECF6",
            "gridcolor": "white",
            "gridwidth": 2,
            "linecolor": "white",
            "showbackground": true,
            "ticks": "",
            "zerolinecolor": "white"
           },
           "yaxis": {
            "backgroundcolor": "#E5ECF6",
            "gridcolor": "white",
            "gridwidth": 2,
            "linecolor": "white",
            "showbackground": true,
            "ticks": "",
            "zerolinecolor": "white"
           },
           "zaxis": {
            "backgroundcolor": "#E5ECF6",
            "gridcolor": "white",
            "gridwidth": 2,
            "linecolor": "white",
            "showbackground": true,
            "ticks": "",
            "zerolinecolor": "white"
           }
          },
          "shapedefaults": {
           "line": {
            "color": "#2a3f5f"
           }
          },
          "ternary": {
           "aaxis": {
            "gridcolor": "white",
            "linecolor": "white",
            "ticks": ""
           },
           "baxis": {
            "gridcolor": "white",
            "linecolor": "white",
            "ticks": ""
           },
           "bgcolor": "#E5ECF6",
           "caxis": {
            "gridcolor": "white",
            "linecolor": "white",
            "ticks": ""
           }
          },
          "title": {
           "x": 0.05
          },
          "xaxis": {
           "automargin": true,
           "gridcolor": "white",
           "linecolor": "white",
           "ticks": "",
           "title": {
            "standoff": 15
           },
           "zerolinecolor": "white",
           "zerolinewidth": 2
          },
          "yaxis": {
           "automargin": true,
           "gridcolor": "white",
           "linecolor": "white",
           "ticks": "",
           "title": {
            "standoff": 15
           },
           "zerolinecolor": "white",
           "zerolinewidth": 2
          }
         }
        },
        "title": {
         "text": "2021"
        },
        "xaxis": {
         "anchor": "y",
         "domain": [
          0,
          1
         ],
         "title": {
          "text": "weakRank"
         }
        },
        "yaxis": {
         "anchor": "x",
         "domain": [
          0,
          1
         ],
         "title": {
          "text": "strongRank"
         }
        }
       }
      }
     },
     "metadata": {},
     "output_type": "display_data"
    }
   ],
   "source": [
    "# plot comparing strong and weak sustainability\n",
    "fullData.reset_index(inplace=True)\n",
    "\n",
    "fullData[\"weakRank\"] = fullData.groupby(\"Year\")[\"scoreWeak\"].rank(ascending=False)\n",
    "fullData[\"strongRank\"] = fullData.groupby(\"Year\")[\"meanScore\"].rank(ascending=False)\n",
    "\n",
    "for year in [2012, 2016, 2021]:\n",
    "    fig = px.scatter(\n",
    "        fullData[fullData.Year == year],\n",
    "        x=\"weakRank\",\n",
    "        y=\"strongRank\",\n",
    "        text=\"Country\",\n",
    "        title=str(year),\n",
    "    )\n",
    "    fig.update_traces(textposition=\"bottom right\")\n",
    "    fig.update_layout(\n",
    "        shapes=[\n",
    "            {\n",
    "                \"type\": \"line\",\n",
    "                \"yref\": \"paper\",\n",
    "                \"xref\": \"paper\",\n",
    "                \"y0\": 0,\n",
    "                \"y1\": 1,\n",
    "                \"x0\": 0,\n",
    "                \"x1\": 1,\n",
    "            }\n",
    "        ]\n",
    "    )\n",
    "    fig.show()"
   ]
  },
  {
   "attachments": {},
   "cell_type": "markdown",
   "metadata": {},
   "source": [
    "## Trash bin\n"
   ]
  },
  {
   "cell_type": "code",
   "execution_count": null,
   "metadata": {},
   "outputs": [],
   "source": [
    "# Get the targets for 2020 and 2030 in percentage\n",
    "# Member State greenhouse gas emission limits in 2020 and 2030 compared to 2005 greenhouse gas emissions levels\n",
    "# There targets for 2020 and for 2030\n",
    "# https://www.eea.europa.eu/data-and-maps/figures/national-progress-towards-greenhouse-gas\n",
    "# Official journals with the data can be found at (https://climate.ec.europa.eu/eu-action/effort-sharing-member-states-emission-targets_en)\n",
    "\n",
    "# limitESR = pd.read_excel('../data/targetsESR/FIG2-154307-CLIM058-v2-Data.xlsx', sheet_name=1, skiprows=19, header=1, skipfooter=32)\n",
    "# limitESR = limitESR.rename(columns={'Unnamed: 0':'Country', '(Resulting) ESR target 2030 (AR4)':'2030ESRtarget','ESR limit for 2020':'2020ESRtarget', '2005 ESD BJ':'2005Level'})\n",
    "# limitESR = limitESR[['Country', '2020ESRtarget','2030ESRtarget','2005Level']]\n",
    "# limitESR.set_index('Country', inplace=True)\n",
    "# limitESR = limitESR[limitESR.index.isin(countries)]\n",
    "\n",
    "# #UK is not in the dataset, we need to add from the official journal\n",
    "\n",
    "# for i in countries:\n",
    "#     if i not in limitESR.index:\n",
    "#         print(i, 'is not in the dataset')\n",
    "\n",
    "# limitESR"
   ]
  },
  {
   "cell_type": "code",
   "execution_count": null,
   "metadata": {},
   "outputs": [],
   "source": [
    "# These data SHALL NOT BE USED. See reason on why ENV_AIR_GGE is preferable for the calculation:\n",
    "# (https://ec.europa.eu/eurostat/statistics-explained/index.php?title=Greenhouse_gas_emission_statistics_-_emission_inventories)\n",
    "# (https://ec.europa.eu/eurostat/statistics-explained/index.php?title=Greenhouse_gas_emission_statistics_-_air_emissions_accounts&oldid=551152#Greenhouse_gas_emissions)\n",
    "# CO2, KG_HAB, Eurostat\n",
    "# https://ec.europa.eu/eurostat/databrowser/view/ENV_AC_AINAH_R2/\n",
    "\n",
    "\n",
    "# co2 = pd.read_csv('../data/env_ac_ainah_r2.csv')\n",
    "# co2 = co2[co2['geo'].isin(countryAbb)]\n",
    "# co2['geo'] = co2['geo'].map(abbrev_to_country).fillna(co2['geo'])\n",
    "# co2 = co2.pivot_table(columns='TIME_PERIOD', index='geo', values='OBS_VALUE', aggfunc='mean')\n",
    "\n",
    "# mr = co2.columns[-1] # most recent year\n",
    "# # co2[[2012, 2016, mr]]/1000"
   ]
  },
  {
   "cell_type": "code",
   "execution_count": null,
   "metadata": {},
   "outputs": [],
   "source": [
    "# From 14.6, using Eurostat data for landing values.\n",
    "\n",
    "# Even though the USD-EUR discrepancy does not affect the ratio we calculate,\n",
    "# we get today's exchange rate to convert landing values to USD and have a consistent unit\n",
    "# Solution source: https://stackoverflow.com/a/17250702/14534411\n",
    "\n",
    "\n",
    "# r = requests.get('http://www.ecb.int/stats/eurofxref/eurofxref-daily.xml', stream=True)\n",
    "# tree = ET.parse(r.raw)\n",
    "# root = tree.getroot()\n",
    "# namespaces = {'ex': 'http://www.ecb.int/vocabulary/2002-08-01/eurofxref'}\n",
    "# currency = 'USD'\n",
    "# match = root.find('.//ex:Cube[@currency=\"{}\"]'.format(currency.upper()), namespaces=namespaces)\n",
    "# eurTOusd = float(match.attrib['rate'])\n",
    "\n",
    "# Landings of fishery products, TOTAL FISHERY PRODUCTS, Euro, Eurostat\n",
    "# https://ec.europa.eu/eurostat/databrowser/view/FISH_LD_MAIN/\n",
    "\n",
    "# landing = pd.read_csv('../data/fish_ld_main.csv')\n",
    "# landing['Country'] = landing.geo.map(abbrev_to_country).fillna(landing.geo)\n",
    "# landing = landing[landing.Country.isin(countries)]\n",
    "# landing = landing[['Country', 'TIME_PERIOD', 'OBS_VALUE', 'unit']]\n",
    "# landing['landingUSD'] = landing.OBS_VALUE * eurTOusd\n",
    "# landing.pivot_table(columns='TIME_PERIOD', index='Country', values='landingUSD', aggfunc='mean')"
   ]
  }
 ],
 "metadata": {
  "kernelspec": {
   "display_name": "newbase",
   "language": "python",
   "name": "python3"
  },
  "language_info": {
   "codemirror_mode": {
    "name": "ipython",
    "version": 3
   },
   "file_extension": ".py",
   "mimetype": "text/x-python",
   "name": "python",
   "nbconvert_exporter": "python",
   "pygments_lexer": "ipython3",
   "version": "3.8.0"
  },
  "vscode": {
   "interpreter": {
    "hash": "1aa8d185f8e5cfdde3aa7e11ad09d40b89b4af2ed732a6eca0fb23f66e40baac"
   }
  }
 },
 "nbformat": 4,
 "nbformat_minor": 4
}
