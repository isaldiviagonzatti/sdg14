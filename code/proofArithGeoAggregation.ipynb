{
 "cells": [
  {
   "cell_type": "code",
   "execution_count": null,
   "metadata": {},
   "outputs": [
    {
     "data": {
      "text/plain": [
       "2366"
      ]
     },
     "metadata": {},
     "output_type": "display_data"
    }
   ],
   "source": [
    "import numpy as np\n",
    "import scipy.stats as ss\n",
    "\n",
    "# two variables, x and y. We transform the data of x only by multiplying each value by 3.\n",
    "\n",
    "# list of values x for 5 counties\n",
    "\n",
    "# # Original data points\n",
    "x1_values = np.array([12, 18, 14, 20, 15, 0])\n",
    "y1_values = np.array([15, 0, 18, 25, 30, 13])\n",
    "x1T_values = x1_values * 3\n",
    "\n",
    "# Arithmetic mean\n",
    "originalData_arith = np.round(np.mean(np.array([x1_values, y1_values]), axis=0), 2)\n",
    "transformedData_arith = np.round(np.mean(np.array([x1T_values, y1_values]), axis=0), 2) \n",
    "\n",
    "print(\"Arithmetic Mean\\n\",\n",
    "        \"originalxData:\", originalData_arith,\n",
    "        \"\\n rank:\", ss.rankdata(originalData_arith),\n",
    "        \"\\n transformedXdata:\", transformedData_arith,\n",
    "        \"\\n rank:\", ss.rankdata(transformedData_arith))\n",
    "\n",
    "\n",
    "# # Geometric mean\n",
    "originalData_geo = np.round(np.sqrt(x1_values * y1_values), 2)\n",
    "transformedData_geo = np.round(np.sqrt(x1T_values * y1_values), 2)\n",
    "\n",
    "print(\"\\nGeometric Mean\\n\",\n",
    "        \"originalxData:\", originalData_geo,\n",
    "        \"\\n rank:\", ss.rankdata(originalData_geo),\n",
    "        \"\\n transformedXdata:\", transformedData_geo,\n",
    "        \"\\n rank:\", ss.rankdata(transformedData_geo))\n",
    "\n",
    "# # Normalize the data to the range [0, 1]\n",
    "\n",
    "\n",
    "\n",
    "minx = np.min(x1_values)\n",
    "maxx = np.max(x1_values)\n",
    "minxT = np.min(x1T_values)\n",
    "maxxT = np.max(x1T_values)\n",
    "\n",
    "x_normalized = (x1_values - minx) / (maxx - minx)\n",
    "xT_normalized = (x1T_values - minxT) / (maxxT - minxT)\n",
    "\n",
    "print(\"\\nNormalized Data\\n\",\n",
    "        \"x1:\", x_normalized,\n",
    "        \"\\nxT:\", xT_normalized)\n",
    "\n",
    "# # Arithmetic mean with normalized data\n",
    "# xValue_normalized_arithmetic = np.round(np.mean(np.array([x1_normalized]), axis=0), 2)\n",
    "# yValue_normalized_arithmetic = np.round(np.mean(np.array([y1_normalized, ]), axis=0), 2)\n",
    "# xTValue_normalized_arithmetic = np.round(np.mean(np.array([xT_normalized]), axis=0), 2)\n",
    "# yTValue_normalized_arithmetic = np.round(np.mean(np.array([yT_normalized, ]), axis=0), 2)\n",
    "\n",
    "# print(\"\\nArithmetic Mean with Normalized Data\\n\",\n",
    "#       \"xValue:\", xValue_normalized_arithmetic,\n",
    "#       \"\\nyValue:\", yValue_normalized_arithmetic,\n",
    "#       \"\\nxTValue:\", xTValue_normalized_arithmetic,\n",
    "#       \"\\nyTValue:\", yTValue_normalized_arithmetic)\n",
    "\n",
    "# # Geometric mean with normalized data\n",
    "# xValue_normalized_geometric = np.sqrt(x1_normalized )\n",
    "# yValue_normalized_geometric = np.sqrt(y1_normalized * )\n",
    "# xTValue_normalized_geometric = np.sqrt(xT_normalized )\n",
    "# yTValue_normalized_geometric = np.sqrt(yT_normalized * )\n",
    "\n",
    "# print(\"\\nGeometric Mean with Normalized Data\\n\",\n",
    "#       \"xValue:\", np.round(xValue_normalized_geometric, 2),\n",
    "#       \"\\nyValue:\", np.round(yValue_normalized_geometric, 2),\n",
    "#       \"\\nxTValue:\", np.round(xTValue_normalized_geometric, 2),\n",
    "#       \"\\nyTValue:\", np.round(yTValue_normalized_geometric, 2))"
   ]
  }
 ],
 "metadata": {
  "language_info": {
   "name": "python"
  }
 },
 "nbformat": 4,
 "nbformat_minor": 2
}
